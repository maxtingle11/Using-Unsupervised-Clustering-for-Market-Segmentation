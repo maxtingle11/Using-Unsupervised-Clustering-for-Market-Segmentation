{
 "cells": [
  {
   "cell_type": "markdown",
   "metadata": {},
   "source": [
    "## Market Segmentation"
   ]
  },
  {
   "cell_type": "code",
   "execution_count": 1,
   "metadata": {
    "ExecuteTime": {
     "end_time": "2019-11-20T17:46:47.293654Z",
     "start_time": "2019-11-20T17:46:44.517010Z"
    }
   },
   "outputs": [],
   "source": [
    "import pandas as pd\n",
    "import numpy as np\n",
    "import math\n",
    "\n",
    "from sklearn.cluster import KMeans \n",
    "from sklearn import metrics\n",
    "from sklearn.metrics import calinski_harabasz_score, silhouette_score\n",
    "\n",
    "import matplotlib.pyplot as plt\n",
    "%matplotlib inline\n",
    "\n",
    "import warnings\n",
    "warnings.filterwarnings('ignore')\n",
    "\n",
    "pd.set_option('display.max_rows', 500)\n",
    "pd.set_option('display.max_columns', 40)\n",
    "pd.set_option('display.width', 1000)"
   ]
  },
  {
   "cell_type": "code",
   "execution_count": 2,
   "metadata": {
    "ExecuteTime": {
     "end_time": "2019-11-20T17:46:52.672517Z",
     "start_time": "2019-11-20T17:46:48.647511Z"
    }
   },
   "outputs": [
    {
     "name": "stdout",
     "output_type": "stream",
     "text": [
      "<class 'pandas.core.frame.DataFrame'>\n",
      "RangeIndex: 194248 entries, 0 to 194247\n",
      "Data columns (total 28 columns):\n",
      "artist_id                  194248 non-null object\n",
      "artist_name                191716 non-null object\n",
      "artist_followers           194248 non-null float64\n",
      "artist_popularity          194248 non-null float64\n",
      "track_popularity_mean      194248 non-null float64\n",
      "track_popularity_std       194248 non-null float64\n",
      "track_release_year_mean    194248 non-null float64\n",
      "track_release_year_std     194248 non-null float64\n",
      "acousticness_mean          194248 non-null float64\n",
      "acousticness_std           194248 non-null float64\n",
      "danceability_mean          194248 non-null float64\n",
      "danceability_std           194248 non-null float64\n",
      "duration_ms_mean           194248 non-null float64\n",
      "duration_ms_std            194248 non-null float64\n",
      "energy_mean                194248 non-null float64\n",
      "energy_std                 194248 non-null float64\n",
      "instrumentalness_mean      194248 non-null float64\n",
      "instrumentalness_std       194248 non-null float64\n",
      "liveness_mean              194248 non-null float64\n",
      "liveness_std               194248 non-null float64\n",
      "loudness_mean              194248 non-null float64\n",
      "loudness_std               194248 non-null float64\n",
      "speechiness_mean           194248 non-null float64\n",
      "speechiness_std            194248 non-null float64\n",
      "tempo_mean                 194248 non-null float64\n",
      "tempo_std                  194248 non-null float64\n",
      "valence_mean               194248 non-null float64\n",
      "valence_std                194248 non-null float64\n",
      "dtypes: float64(26), object(2)\n",
      "memory usage: 41.5+ MB\n",
      "None\n"
     ]
    },
    {
     "data": {
      "text/html": [
       "<div>\n",
       "<style scoped>\n",
       "    .dataframe tbody tr th:only-of-type {\n",
       "        vertical-align: middle;\n",
       "    }\n",
       "\n",
       "    .dataframe tbody tr th {\n",
       "        vertical-align: top;\n",
       "    }\n",
       "\n",
       "    .dataframe thead th {\n",
       "        text-align: right;\n",
       "    }\n",
       "</style>\n",
       "<table border=\"1\" class=\"dataframe\">\n",
       "  <thead>\n",
       "    <tr style=\"text-align: right;\">\n",
       "      <th></th>\n",
       "      <th>artist_id</th>\n",
       "      <th>artist_name</th>\n",
       "      <th>artist_followers</th>\n",
       "      <th>artist_popularity</th>\n",
       "      <th>track_popularity_mean</th>\n",
       "      <th>track_popularity_std</th>\n",
       "      <th>track_release_year_mean</th>\n",
       "      <th>track_release_year_std</th>\n",
       "      <th>acousticness_mean</th>\n",
       "      <th>acousticness_std</th>\n",
       "      <th>danceability_mean</th>\n",
       "      <th>danceability_std</th>\n",
       "      <th>duration_ms_mean</th>\n",
       "      <th>duration_ms_std</th>\n",
       "      <th>energy_mean</th>\n",
       "      <th>energy_std</th>\n",
       "      <th>instrumentalness_mean</th>\n",
       "      <th>instrumentalness_std</th>\n",
       "      <th>liveness_mean</th>\n",
       "      <th>liveness_std</th>\n",
       "      <th>loudness_mean</th>\n",
       "      <th>loudness_std</th>\n",
       "      <th>speechiness_mean</th>\n",
       "      <th>speechiness_std</th>\n",
       "      <th>tempo_mean</th>\n",
       "      <th>tempo_std</th>\n",
       "      <th>valence_mean</th>\n",
       "      <th>valence_std</th>\n",
       "    </tr>\n",
       "  </thead>\n",
       "  <tbody>\n",
       "    <tr>\n",
       "      <th>0</th>\n",
       "      <td>2jTsRGHAvKXXSbeO52G1t5</td>\n",
       "      <td>Webbstur</td>\n",
       "      <td>3453.0</td>\n",
       "      <td>28.0</td>\n",
       "      <td>17.8</td>\n",
       "      <td>10.195860</td>\n",
       "      <td>2017.3</td>\n",
       "      <td>0.948683</td>\n",
       "      <td>0.170563</td>\n",
       "      <td>0.255500</td>\n",
       "      <td>0.5925</td>\n",
       "      <td>0.116009</td>\n",
       "      <td>245121.3</td>\n",
       "      <td>51594.498027</td>\n",
       "      <td>0.84040</td>\n",
       "      <td>0.086234</td>\n",
       "      <td>0.413950</td>\n",
       "      <td>0.373703</td>\n",
       "      <td>0.15339</td>\n",
       "      <td>0.093559</td>\n",
       "      <td>-6.7449</td>\n",
       "      <td>1.570696</td>\n",
       "      <td>0.04442</td>\n",
       "      <td>0.015108</td>\n",
       "      <td>124.9970</td>\n",
       "      <td>2.174399</td>\n",
       "      <td>0.42026</td>\n",
       "      <td>0.266024</td>\n",
       "    </tr>\n",
       "    <tr>\n",
       "      <th>1</th>\n",
       "      <td>5CRw2KQzb9aH8HuyuQ6QCL</td>\n",
       "      <td>Ozy</td>\n",
       "      <td>103.0</td>\n",
       "      <td>6.0</td>\n",
       "      <td>2.5</td>\n",
       "      <td>5.233439</td>\n",
       "      <td>2012.7</td>\n",
       "      <td>4.001389</td>\n",
       "      <td>0.197861</td>\n",
       "      <td>0.354064</td>\n",
       "      <td>0.6189</td>\n",
       "      <td>0.177373</td>\n",
       "      <td>267232.6</td>\n",
       "      <td>94528.177818</td>\n",
       "      <td>0.72450</td>\n",
       "      <td>0.278383</td>\n",
       "      <td>0.672460</td>\n",
       "      <td>0.294077</td>\n",
       "      <td>0.21175</td>\n",
       "      <td>0.136774</td>\n",
       "      <td>-9.2551</td>\n",
       "      <td>5.195449</td>\n",
       "      <td>0.09468</td>\n",
       "      <td>0.055908</td>\n",
       "      <td>148.4241</td>\n",
       "      <td>21.335355</td>\n",
       "      <td>0.44111</td>\n",
       "      <td>0.272943</td>\n",
       "    </tr>\n",
       "    <tr>\n",
       "      <th>2</th>\n",
       "      <td>11fxyJpCpCnuG2c6NMuZNt</td>\n",
       "      <td>Bia Macedo</td>\n",
       "      <td>5177.0</td>\n",
       "      <td>11.0</td>\n",
       "      <td>7.8</td>\n",
       "      <td>4.391912</td>\n",
       "      <td>2017.0</td>\n",
       "      <td>0.000000</td>\n",
       "      <td>0.262620</td>\n",
       "      <td>0.159743</td>\n",
       "      <td>0.6322</td>\n",
       "      <td>0.087031</td>\n",
       "      <td>180036.6</td>\n",
       "      <td>12755.167904</td>\n",
       "      <td>0.87670</td>\n",
       "      <td>0.123941</td>\n",
       "      <td>0.000000</td>\n",
       "      <td>0.000000</td>\n",
       "      <td>0.37700</td>\n",
       "      <td>0.226577</td>\n",
       "      <td>-2.9268</td>\n",
       "      <td>2.288700</td>\n",
       "      <td>0.12018</td>\n",
       "      <td>0.090222</td>\n",
       "      <td>153.8066</td>\n",
       "      <td>20.089296</td>\n",
       "      <td>0.77540</td>\n",
       "      <td>0.090969</td>\n",
       "    </tr>\n",
       "    <tr>\n",
       "      <th>3</th>\n",
       "      <td>0pRBqfB42iVqXKIFJdfFKS</td>\n",
       "      <td>Brett Detar</td>\n",
       "      <td>1781.0</td>\n",
       "      <td>20.0</td>\n",
       "      <td>14.1</td>\n",
       "      <td>7.752419</td>\n",
       "      <td>2011.8</td>\n",
       "      <td>1.549193</td>\n",
       "      <td>0.183107</td>\n",
       "      <td>0.270250</td>\n",
       "      <td>0.4248</td>\n",
       "      <td>0.128387</td>\n",
       "      <td>259215.9</td>\n",
       "      <td>49391.796063</td>\n",
       "      <td>0.66320</td>\n",
       "      <td>0.200920</td>\n",
       "      <td>0.072125</td>\n",
       "      <td>0.140028</td>\n",
       "      <td>0.22184</td>\n",
       "      <td>0.176418</td>\n",
       "      <td>-7.4456</td>\n",
       "      <td>2.286342</td>\n",
       "      <td>0.03678</td>\n",
       "      <td>0.017357</td>\n",
       "      <td>135.1359</td>\n",
       "      <td>29.490275</td>\n",
       "      <td>0.48690</td>\n",
       "      <td>0.269610</td>\n",
       "    </tr>\n",
       "    <tr>\n",
       "      <th>4</th>\n",
       "      <td>5MpELOfAiq7aIBTij30phD</td>\n",
       "      <td>Harry James</td>\n",
       "      <td>17750.5</td>\n",
       "      <td>53.0</td>\n",
       "      <td>34.7</td>\n",
       "      <td>9.894709</td>\n",
       "      <td>1977.8</td>\n",
       "      <td>31.701901</td>\n",
       "      <td>0.841900</td>\n",
       "      <td>0.158289</td>\n",
       "      <td>0.4435</td>\n",
       "      <td>0.140408</td>\n",
       "      <td>197270.7</td>\n",
       "      <td>38825.948564</td>\n",
       "      <td>0.24639</td>\n",
       "      <td>0.198372</td>\n",
       "      <td>0.267144</td>\n",
       "      <td>0.373276</td>\n",
       "      <td>0.18035</td>\n",
       "      <td>0.086693</td>\n",
       "      <td>-12.8619</td>\n",
       "      <td>4.617813</td>\n",
       "      <td>0.03994</td>\n",
       "      <td>0.018269</td>\n",
       "      <td>100.5924</td>\n",
       "      <td>21.342652</td>\n",
       "      <td>0.40420</td>\n",
       "      <td>0.173864</td>\n",
       "    </tr>\n",
       "  </tbody>\n",
       "</table>\n",
       "</div>"
      ],
      "text/plain": [
       "                artist_id  artist_name  artist_followers  artist_popularity  track_popularity_mean  track_popularity_std  track_release_year_mean  track_release_year_std  acousticness_mean  acousticness_std  danceability_mean  danceability_std  duration_ms_mean  duration_ms_std  energy_mean  energy_std  instrumentalness_mean  instrumentalness_std  liveness_mean  liveness_std  loudness_mean  loudness_std  speechiness_mean  speechiness_std  tempo_mean  tempo_std  valence_mean  valence_std\n",
       "0  2jTsRGHAvKXXSbeO52G1t5     Webbstur            3453.0               28.0                   17.8             10.195860                   2017.3                0.948683           0.170563          0.255500             0.5925          0.116009          245121.3     51594.498027      0.84040    0.086234               0.413950              0.373703        0.15339      0.093559        -6.7449      1.570696           0.04442         0.015108    124.9970   2.174399       0.42026     0.266024\n",
       "1  5CRw2KQzb9aH8HuyuQ6QCL          Ozy             103.0                6.0                    2.5              5.233439                   2012.7                4.001389           0.197861          0.354064             0.6189          0.177373          267232.6     94528.177818      0.72450    0.278383               0.672460              0.294077        0.21175      0.136774        -9.2551      5.195449           0.09468         0.055908    148.4241  21.335355       0.44111     0.272943\n",
       "2  11fxyJpCpCnuG2c6NMuZNt   Bia Macedo            5177.0               11.0                    7.8              4.391912                   2017.0                0.000000           0.262620          0.159743             0.6322          0.087031          180036.6     12755.167904      0.87670    0.123941               0.000000              0.000000        0.37700      0.226577        -2.9268      2.288700           0.12018         0.090222    153.8066  20.089296       0.77540     0.090969\n",
       "3  0pRBqfB42iVqXKIFJdfFKS  Brett Detar            1781.0               20.0                   14.1              7.752419                   2011.8                1.549193           0.183107          0.270250             0.4248          0.128387          259215.9     49391.796063      0.66320    0.200920               0.072125              0.140028        0.22184      0.176418        -7.4456      2.286342           0.03678         0.017357    135.1359  29.490275       0.48690     0.269610\n",
       "4  5MpELOfAiq7aIBTij30phD  Harry James           17750.5               53.0                   34.7              9.894709                   1977.8               31.701901           0.841900          0.158289             0.4435          0.140408          197270.7     38825.948564      0.24639    0.198372               0.267144              0.373276        0.18035      0.086693       -12.8619      4.617813           0.03994         0.018269    100.5924  21.342652       0.40420     0.173864"
      ]
     },
     "execution_count": 2,
     "metadata": {},
     "output_type": "execute_result"
    }
   ],
   "source": [
    "# Read CSV to DataFrame\n",
    "artists = pd.read_csv('Data/artists_train.csv')\n",
    "\n",
    "# Drop unnamed column\n",
    "artists.drop(columns=['Unnamed: 0', 'Unnamed: 0.1'], inplace=True)\n",
    "\n",
    "# Create id_name_genre column\n",
    "#artists['id_name'] = artists['artist_id'] + ', ' + artists['artist_name'].fillna('None')\n",
    "\n",
    "# Preview dataframe\n",
    "print(artists.info())\n",
    "artists.head()"
   ]
  },
  {
   "cell_type": "code",
   "execution_count": 3,
   "metadata": {
    "ExecuteTime": {
     "end_time": "2019-11-20T17:46:57.897431Z",
     "start_time": "2019-11-20T17:46:57.508606Z"
    }
   },
   "outputs": [],
   "source": [
    "# Standardize with scalers\n",
    "\n",
    "# Define X\n",
    "X_train = artists.drop(columns=['artist_id', 'artist_name'])\n",
    "\n",
    "# Standardize with Standard Scaler\n",
    "from sklearn.preprocessing import StandardScaler\n",
    "ss = StandardScaler()\n",
    "X_train_sscaled = ss.fit_transform(X_train)\n",
    "X_train_sscaled = pd.DataFrame(X_train_sscaled, columns=X_train.columns)\n",
    "\n",
    "# Standardize with MinMax Scaler\n",
    "from sklearn.preprocessing import MinMaxScaler\n",
    "mms = MinMaxScaler()\n",
    "X_train_mmscaled = mms.fit_transform(X_train)\n",
    "X_train_mmscaled = pd.DataFrame(X_train_mmscaled, columns=X_train.columns)"
   ]
  },
  {
   "cell_type": "code",
   "execution_count": 4,
   "metadata": {
    "ExecuteTime": {
     "end_time": "2019-11-20T17:47:54.774784Z",
     "start_time": "2019-11-20T17:47:53.430583Z"
    }
   },
   "outputs": [],
   "source": [
    "# Incorporating PCA\n",
    "from sklearn.decomposition import PCA\n",
    "pca = PCA(n_components=4)\n",
    "X_train_sscaled_pca = pca.fit_transform(X_train_sscaled)\n",
    "X_train_mmscaled_pca = pca.fit_transform(X_train_mmscaled)"
   ]
  },
  {
   "cell_type": "code",
   "execution_count": 5,
   "metadata": {
    "ExecuteTime": {
     "end_time": "2019-11-20T18:10:34.652213Z",
     "start_time": "2019-11-20T17:51:16.607500Z"
    }
   },
   "outputs": [
    {
     "name": "stdout",
     "output_type": "stream",
     "text": [
      "Silhouette Score: 0.26316417556536403\n",
      "Calinski Harabasz Score: 64714.847128484755\n"
     ]
    }
   ],
   "source": [
    "# K = 3\n",
    "\n",
    "# K-Means in SKLearn\n",
    "k_means_3_pca = KMeans(n_clusters=3)\n",
    "k_means_3_pca.fit(X_train_sscaled_pca)\n",
    "yhat_3_pca = k_means_3_pca.predict(X_train_sscaled_pca)\n",
    "\n",
    "# Silhouette Score\n",
    "#labels_3_pca = k_means_3_pca.labels_\n",
    "sil_sc_3_pca = silhouette_score(X_train_sscaled_pca, yhat_3_pca, metric='euclidean')\n",
    "print('Silhouette Score:', sil_sc_3_pca)\n",
    "\n",
    "# Calinski Harabasz Score\n",
    "ch_sc_3_pca = calinski_harabasz_score(X_train_sscaled_pca, yhat_3_pca)\n",
    "print('Calinski Harabasz Score:', ch_sc_3_pca)"
   ]
  },
  {
   "cell_type": "code",
   "execution_count": 6,
   "metadata": {
    "ExecuteTime": {
     "end_time": "2019-11-20T18:29:32.955314Z",
     "start_time": "2019-11-20T18:10:34.658395Z"
    }
   },
   "outputs": [
    {
     "name": "stdout",
     "output_type": "stream",
     "text": [
      "Silhouette Score: 0.26475790352828066\n",
      "Calinski Harabasz Score: 66975.16999119849\n"
     ]
    }
   ],
   "source": [
    "# K = 4\n",
    "\n",
    "# K-Means in SKLearn\n",
    "k_means_4_pca = KMeans(n_clusters=4)\n",
    "k_means_4_pca.fit(X_train_sscaled_pca)\n",
    "yhat_4_pca = k_means_4_pca.predict(X_train_sscaled_pca)\n",
    "\n",
    "# Silhouette Score\n",
    "#labels_4_pca = k_means_4_pca.labels_\n",
    "sil_sc_4_pca = silhouette_score(X_train_sscaled_pca, yhat_4_pca, metric='euclidean')\n",
    "print('Silhouette Score:', sil_sc_4_pca)\n",
    "\n",
    "# Calinski Harabasz Score\n",
    "ch_sc_4_pca = calinski_harabasz_score(X_train_sscaled_pca, yhat_4_pca)\n",
    "print('Calinski Harabasz Score:', ch_sc_4_pca)"
   ]
  },
  {
   "cell_type": "code",
   "execution_count": 7,
   "metadata": {
    "ExecuteTime": {
     "end_time": "2019-11-20T18:44:50.936243Z",
     "start_time": "2019-11-20T18:29:32.962404Z"
    }
   },
   "outputs": [
    {
     "name": "stdout",
     "output_type": "stream",
     "text": [
      "Silhouette Score: 0.2720997387460375\n",
      "Calinski Harabasz Score: 64750.84462154612\n"
     ]
    }
   ],
   "source": [
    "# K = 5\n",
    "\n",
    "# K-Means in SKLearn\n",
    "k_means_5_pca = KMeans(n_clusters=5)\n",
    "k_means_5_pca.fit(X_train_sscaled_pca)\n",
    "yhat_5_pca = k_means_5_pca.predict(X_train_sscaled_pca)\n",
    "\n",
    "# Silhouette Score\n",
    "#labels_5_pca = k_means_5_pca.labels_\n",
    "sil_sc_5_pca = silhouette_score(X_train_sscaled_pca, yhat_5_pca, metric='euclidean')\n",
    "print('Silhouette Score:', sil_sc_5_pca)\n",
    "\n",
    "# Calinski Harabasz Score\n",
    "ch_sc_5_pca = calinski_harabasz_score(X_train_sscaled_pca, yhat_5_pca)\n",
    "print('Calinski Harabasz Score:', ch_sc_5_pca)"
   ]
  },
  {
   "cell_type": "code",
   "execution_count": 8,
   "metadata": {
    "ExecuteTime": {
     "end_time": "2019-11-20T18:59:03.193567Z",
     "start_time": "2019-11-20T18:44:50.943078Z"
    }
   },
   "outputs": [
    {
     "name": "stdout",
     "output_type": "stream",
     "text": [
      "Silhouette Score: 0.2616354081141501\n",
      "Calinski Harabasz Score: 63990.23451849945\n"
     ]
    }
   ],
   "source": [
    "# K = 6\n",
    "\n",
    "# K-Means in SKLearn\n",
    "k_means_6_pca = KMeans(n_clusters=6)\n",
    "k_means_6_pca.fit(X_train_sscaled_pca)\n",
    "yhat_6_pca = k_means_6_pca.predict(X_train_sscaled_pca)\n",
    "\n",
    "# Silhouette Score\n",
    "#labels_6_pca = k_means_6_pca.labels_\n",
    "sil_sc_6_pca = silhouette_score(X_train_sscaled_pca, yhat_6_pca, metric='euclidean')\n",
    "print('Silhouette Score:', sil_sc_6_pca)\n",
    "\n",
    "# Calinski Harabasz Score\n",
    "ch_sc_6_pca = calinski_harabasz_score(X_train_sscaled_pca, yhat_6_pca)\n",
    "print('Calinski Harabasz Score:', ch_sc_6_pca)"
   ]
  },
  {
   "cell_type": "code",
   "execution_count": 9,
   "metadata": {
    "ExecuteTime": {
     "end_time": "2019-11-20T19:14:50.958722Z",
     "start_time": "2019-11-20T18:59:03.197580Z"
    }
   },
   "outputs": [
    {
     "name": "stdout",
     "output_type": "stream",
     "text": [
      "Silhouette Score: 0.22378554503219542\n",
      "Calinski Harabasz Score: 51156.48965693418\n"
     ]
    }
   ],
   "source": [
    "# K = 10\n",
    "\n",
    "# K-Means in SKLearn\n",
    "k_means_10_pca = KMeans(n_clusters=10)\n",
    "k_means_10_pca.fit(X_train_sscaled_pca)\n",
    "yhat_10_pca = k_means_10_pca.predict(X_train_sscaled_pca)\n",
    "\n",
    "# Silhouette Score\n",
    "#labels_10_pca = k_means_10_pca.labels_\n",
    "sil_sc_10_pca = silhouette_score(X_train_sscaled_pca, yhat_10_pca, metric='euclidean')\n",
    "print('Silhouette Score:', sil_sc_10_pca)\n",
    "\n",
    "# Calinski Harabasz Score\n",
    "ch_sc_10_pca = calinski_harabasz_score(X_train_sscaled_pca, yhat_10_pca)\n",
    "print('Calinski Harabasz Score:', ch_sc_10_pca)"
   ]
  },
  {
   "cell_type": "code",
   "execution_count": 10,
   "metadata": {
    "ExecuteTime": {
     "end_time": "2019-11-20T19:31:26.964654Z",
     "start_time": "2019-11-20T19:14:50.965587Z"
    }
   },
   "outputs": [
    {
     "name": "stdout",
     "output_type": "stream",
     "text": [
      "Silhouette Score: 0.22135206493531567\n",
      "Calinski Harabasz Score: 46515.230195379074\n"
     ]
    }
   ],
   "source": [
    "# K = 13\n",
    "\n",
    "# K-Means in SKLearn\n",
    "k_means_13_pca = KMeans(n_clusters=13)\n",
    "k_means_13_pca.fit(X_train_sscaled_pca)\n",
    "yhat_13_pca = k_means_13_pca.predict(X_train_sscaled_pca)\n",
    "\n",
    "# Silhouette Score\n",
    "#labels_13_pca = k_means_13_pca.labels_\n",
    "sil_sc_13_pca = silhouette_score(X_train_sscaled_pca, yhat_13_pca, metric='euclidean')\n",
    "print('Silhouette Score:', sil_sc_13_pca)\n",
    "\n",
    "# Calinski Harabasz Score\n",
    "ch_sc_13_pca = calinski_harabasz_score(X_train_sscaled_pca, yhat_13_pca)\n",
    "print('Calinski Harabasz Score:', ch_sc_13_pca)"
   ]
  },
  {
   "cell_type": "code",
   "execution_count": 11,
   "metadata": {
    "ExecuteTime": {
     "end_time": "2019-11-20T19:51:22.879138Z",
     "start_time": "2019-11-20T19:31:26.969918Z"
    }
   },
   "outputs": [
    {
     "name": "stdout",
     "output_type": "stream",
     "text": [
      "Silhouette Score: 0.20254553013199914\n",
      "Calinski Harabasz Score: 39427.166825484666\n"
     ]
    }
   ],
   "source": [
    "# K = 19\n",
    "\n",
    "# K-Means in SKLearn\n",
    "k_means_19_pca = KMeans(n_clusters=19)\n",
    "k_means_19_pca.fit(X_train_sscaled_pca)\n",
    "yhat_19_pca = k_means_19_pca.predict(X_train_sscaled_pca)\n",
    "\n",
    "# Silhouette Score\n",
    "#labels_19_pca = k_means_19_pca.labels_\n",
    "sil_sc_19_pca = silhouette_score(X_train_sscaled_pca, yhat_19_pca, metric='euclidean')\n",
    "print('Silhouette Score:', sil_sc_19_pca)\n",
    "\n",
    "# Calinski Harabasz Score\n",
    "ch_sc_19_pca = calinski_harabasz_score(X_train_sscaled_pca, yhat_19_pca)\n",
    "print('Calinski Harabasz Score:', ch_sc_19_pca)"
   ]
  },
  {
   "cell_type": "code",
   "execution_count": 12,
   "metadata": {
    "ExecuteTime": {
     "end_time": "2019-11-20T19:51:22.896291Z",
     "start_time": "2019-11-20T19:51:22.887704Z"
    }
   },
   "outputs": [],
   "source": [
    "k_values = [3, 4, 5, 6, 10, 13, 19]"
   ]
  },
  {
   "cell_type": "code",
   "execution_count": 13,
   "metadata": {
    "ExecuteTime": {
     "end_time": "2019-11-20T19:51:22.931317Z",
     "start_time": "2019-11-20T19:51:22.903596Z"
    }
   },
   "outputs": [
    {
     "data": {
      "text/plain": [
       "[0.26316417556536403,\n",
       " 0.26475790352828066,\n",
       " 0.2720997387460375,\n",
       " 0.2616354081141501,\n",
       " 0.22378554503219542,\n",
       " 0.22135206493531567,\n",
       " 0.20254553013199914]"
      ]
     },
     "execution_count": 13,
     "metadata": {},
     "output_type": "execute_result"
    }
   ],
   "source": [
    "silhouette_scores = [sil_sc_3_pca, \n",
    "                     sil_sc_4_pca, \n",
    "                     sil_sc_5_pca, \n",
    "                     sil_sc_6_pca, \n",
    "                     sil_sc_10_pca, \n",
    "                     sil_sc_13_pca, \n",
    "                     sil_sc_19_pca]\n",
    "silhouette_scores"
   ]
  },
  {
   "cell_type": "code",
   "execution_count": 14,
   "metadata": {
    "ExecuteTime": {
     "end_time": "2019-11-20T19:51:22.951494Z",
     "start_time": "2019-11-20T19:51:22.937157Z"
    }
   },
   "outputs": [
    {
     "data": {
      "text/plain": [
       "[64714.847128484755,\n",
       " 66975.16999119849,\n",
       " 64750.84462154612,\n",
       " 63990.23451849945,\n",
       " 51156.48965693418,\n",
       " 46515.230195379074,\n",
       " 39427.166825484666]"
      ]
     },
     "execution_count": 14,
     "metadata": {},
     "output_type": "execute_result"
    }
   ],
   "source": [
    "calinski_harabasz_scores = [ch_sc_3_pca, \n",
    "                            ch_sc_4_pca, \n",
    "                            ch_sc_5_pca, \n",
    "                            ch_sc_6_pca, \n",
    "                            ch_sc_10_pca, \n",
    "                            ch_sc_13_pca, \n",
    "                            ch_sc_19_pca]\n",
    "calinski_harabasz_scores"
   ]
  },
  {
   "cell_type": "code",
   "execution_count": 15,
   "metadata": {
    "ExecuteTime": {
     "end_time": "2019-11-20T19:51:22.974440Z",
     "start_time": "2019-11-20T19:51:22.958184Z"
    }
   },
   "outputs": [
    {
     "data": {
      "text/plain": [
       "True"
      ]
     },
     "execution_count": 15,
     "metadata": {},
     "output_type": "execute_result"
    }
   ],
   "source": [
    "len(k_values) == len(silhouette_scores) == len(calinski_harabasz_scores)"
   ]
  },
  {
   "cell_type": "code",
   "execution_count": 16,
   "metadata": {
    "ExecuteTime": {
     "end_time": "2019-11-20T19:51:23.420580Z",
     "start_time": "2019-11-20T19:51:22.979861Z"
    }
   },
   "outputs": [
    {
     "data": {
      "image/png": "[encoded data removed]",
      "text/plain": [
       "<Figure size 432x288 with 1 Axes>"
      ]
     },
     "metadata": {
      "needs_background": "light"
     },
     "output_type": "display_data"
    }
   ],
   "source": [
    "plt.plot(k_values, silhouette_scores)\n",
    "plt.xticks(k_values)\n",
    "plt.title(\"Silhouette Scores for Different Values of K\")\n",
    "plt.ylabel(\"Silhouette Score\")\n",
    "plt.xlabel(\"K=\")\n",
    "plt.show()"
   ]
  },
  {
   "cell_type": "code",
   "execution_count": 17,
   "metadata": {
    "ExecuteTime": {
     "end_time": "2019-11-20T19:51:23.799241Z",
     "start_time": "2019-11-20T19:51:23.427152Z"
    }
   },
   "outputs": [
    {
     "data": {
      "image/png": "[encoded data removed]",
      "text/plain": [
       "<Figure size 432x288 with 1 Axes>"
      ]
     },
     "metadata": {
      "needs_background": "light"
     },
     "output_type": "display_data"
    }
   ],
   "source": [
    "plt.plot(k_values, calinski_harabasz_scores)\n",
    "plt.xticks(k_values)\n",
    "plt.title(\"Calinski Harabaz Scores for Different Values of K\")\n",
    "plt.ylabel(\"Variance Ratio\")\n",
    "plt.xlabel(\"K=\")\n",
    "plt.show()"
   ]
  },
  {
   "cell_type": "code",
   "execution_count": null,
   "metadata": {},
   "outputs": [],
   "source": [
    "# Market Segmentation\n",
    "\n",
    "# 1. Import Data\n",
    "# 2. Assign X & y\n",
    "\n",
    "# 3. Clustering Analysis\n",
    "from sklearn.cluster import KMeans\n",
    "k_means = KMeans(n_clusters=2)\n",
    "k_means.fit(X)\n",
    "cluster_preds = k_means.predict(X)\n",
    "\n",
    "# 4. Check Performance\n",
    "from sklearn.metrics.cluster import calinski_harabasz_score, adjusted_rand_score\n",
    "calinski_harabasz_score(df, cluster_preds)\n",
    "# 171.68 - pretty low score, suggesting clusters aren't great\n",
    "adjusted_rand_score(channels, cluster_preds)\n",
    "# -0.0306 - suggests clusters no better than random choice\n",
    "\n",
    "# 5. Scale dataset\n",
    "from sklearn.preprocessing import StandardScaler\n",
    "scaler = StandardScaler()\n",
    "scaled_X = scaler.fit_transform(X)\n",
    "\n",
    "scaled_k_means = KMeans(n_clusters=2)\n",
    "scaled_k_means.fit(scaled_X)\n",
    "scaled_preds = scaled_k_means.predict(scaled_X)\n",
    "\n",
    "adjusted_rand_score(channels, scaled_preds)\n",
    "# 0.2128 = big improvement, not perfect, but scaling helped\n",
    "\n",
    "# 6. Incorporating PCA\n",
    "from sklearn.decomposition import PCA\n",
    "pca = PCA(n_components=4)\n",
    "pca_X = pca.fit_transform(scaled_X)\n",
    "\n",
    "np.cumsum(pca.explained_variance_ratio_)\n",
    "\n",
    "pca_k_means = KMeans(n_clusters=2)\n",
    "pca_k_means.fit(pca_X)\n",
    "pca_preds = pca_k_means.predict(pca_X)\n",
    "\n",
    "adjusted_rand_score(channels, pca_preds)\n",
    "'''\n",
    "0.2366 - higher than just scaling, \n",
    "better than random chance, but far from perfect\n",
    "best performance was achieved when reducing \n",
    "the number of Principal Components down to 4. \n",
    "The increase in model performance is likely due \n",
    "to the reduction in dimensionality. Although dropping \n",
    "the last 2 PCs means that we lose about 6% of our \n",
    "explained variance, this proved to be a net-positive \n",
    "trade-off for the reduction in dimensionality it provided.\n",
    "'''\n",
    "\n",
    "# 7. HAC\n",
    "# Don't just try HAC on the PCA-transformed dataset!!\n",
    "# Also compare algorithm performance on the scaled \n",
    "# and unscaled datasets, as well!\n",
    "from sklearn.cluster import AgglomerativeClustering\n",
    "\n",
    "hac = AgglomerativeClustering(n_clusters=2)\n",
    "hac.fit(pca_df)\n",
    "hac_pca_preds = hac.labels_\n",
    "\n",
    "adjusted_rand_score(channels, hac_pca_preds)\n",
    "\n",
    "hac2 = AgglomerativeClustering(n_clusters=2)\n",
    "hac2.fit(scaled_df)\n",
    "hac_scaled_preds = hac2.labels_\n",
    "\n",
    "adjusted_rand_score(channels, hac_scaled_preds)\n",
    "\n",
    "hac3 = AgglomerativeClustering(n_clusters=2)\n",
    "hac3.fit(df)\n",
    "hac__preds = hac3.labels_\n",
    "\n",
    "adjusted_rand_score(channels, hac__preds)"
   ]
  },
  {
   "cell_type": "code",
   "execution_count": null,
   "metadata": {},
   "outputs": [],
   "source": []
  }
 ],
 "metadata": {
  "kernelspec": {
   "display_name": "Python 3",
   "language": "python",
   "name": "python3"
  },
  "language_info": {
   "codemirror_mode": {
    "name": "ipython",
    "version": 3
   },
   "file_extension": ".py",
   "mimetype": "text/x-python",
   "name": "python",
   "nbconvert_exporter": "python",
   "pygments_lexer": "ipython3",
   "version": "3.7.3"
  },
  "toc": {
   "base_numbering": 1,
   "nav_menu": {},
   "number_sections": true,
   "sideBar": true,
   "skip_h1_title": false,
   "title_cell": "Table of Contents",
   "title_sidebar": "Contents",
   "toc_cell": false,
   "toc_position": {},
   "toc_section_display": true,
   "toc_window_display": false
  }
 },
 "nbformat": 4,
 "nbformat_minor": 2
}
