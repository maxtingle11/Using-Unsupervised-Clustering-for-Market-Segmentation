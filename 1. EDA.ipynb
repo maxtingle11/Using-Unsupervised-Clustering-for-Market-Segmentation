{
 "cells": [
  {
   "cell_type": "code",
   "execution_count": 1,
   "metadata": {
    "ExecuteTime": {
     "end_time": "2019-11-24T13:56:42.907330Z",
     "start_time": "2019-11-24T13:56:42.010096Z"
    }
   },
   "outputs": [],
   "source": [
    "import pandas as pd\n",
    "import numpy as np\n",
    "import math\n",
    "import warnings\n",
    "warnings.filterwarnings('ignore')\n",
    "\n",
    "import matplotlib.pyplot as plt\n",
    "import seaborn as sns\n",
    "%matplotlib inline\n",
    "\n",
    "pd.set_option('display.max_rows', 500)\n",
    "pd.set_option('display.max_columns', 40)\n",
    "pd.set_option('display.width', 1000)"
   ]
  },
  {
   "cell_type": "markdown",
   "metadata": {},
   "source": [
    "# Create Datasets"
   ]
  },
  {
   "cell_type": "markdown",
   "metadata": {},
   "source": [
    "## Spotify Master > Data"
   ]
  },
  {
   "cell_type": "markdown",
   "metadata": {},
   "source": [
    "### Import Data & Clean DataFrame"
   ]
  },
  {
   "cell_type": "code",
   "execution_count": 2,
   "metadata": {
    "ExecuteTime": {
     "end_time": "2019-11-24T13:57:08.815539Z",
     "start_time": "2019-11-24T13:56:44.446254Z"
    }
   },
   "outputs": [],
   "source": [
    "# Read csv to dataframe\n",
    "data = pd.read_csv('Data/master.csv')\n",
    "\n",
    "# Drop feature columns\n",
    "data.drop(columns=['Unnamed: 0',\n",
    "                   'track_duration_ms',\n",
    "                   'track_track_number',\n",
    "                   'track_album_total_tracks',\n",
    "                   'track_album_available_markets',\n",
    "                   'track_album_name',\n",
    "                   'track_explicit',\n",
    "                   'track_album_id',\n",
    "                   'track_album_available_markets_count',\n",
    "                   'track_album_single',\n",
    "                   'key',\n",
    "                   'mode',\n",
    "                   'time_signature'\n",
    "                   ], inplace=True)\n",
    "\n",
    "# Re-order columns\n",
    "data = data[['track_id',\n",
    "             'track_name',\n",
    "             'artist_id',\n",
    "             'artist_name',\n",
    "             'artist_genres',\n",
    "             'artist_followers',\n",
    "             'artist_popularity',\n",
    "             'track_popularity',\n",
    "             'track_album_release_date',\n",
    "             'acousticness',\n",
    "             'danceability',\n",
    "             'duration_ms',\n",
    "             'energy',\n",
    "             'instrumentalness',\n",
    "             'liveness',\n",
    "             'loudness',\n",
    "             'speechiness',\n",
    "             'tempo',\n",
    "             'valence'\n",
    "            ]]"
   ]
  },
  {
   "cell_type": "code",
   "execution_count": 3,
   "metadata": {
    "ExecuteTime": {
     "end_time": "2019-11-24T13:57:08.842947Z",
     "start_time": "2019-11-24T13:57:08.817267Z"
    }
   },
   "outputs": [
    {
     "name": "stdout",
     "output_type": "stream",
     "text": [
      "<class 'pandas.core.frame.DataFrame'>\n",
      "RangeIndex: 2408702 entries, 0 to 2408701\n",
      "Data columns (total 19 columns):\n",
      "track_id                    object\n",
      "track_name                  object\n",
      "artist_id                   object\n",
      "artist_name                 object\n",
      "artist_genres               object\n",
      "artist_followers            float64\n",
      "artist_popularity           float64\n",
      "track_popularity            float64\n",
      "track_album_release_date    object\n",
      "acousticness                float64\n",
      "danceability                float64\n",
      "duration_ms                 float64\n",
      "energy                      float64\n",
      "instrumentalness            float64\n",
      "liveness                    float64\n",
      "loudness                    float64\n",
      "speechiness                 float64\n",
      "tempo                       float64\n",
      "valence                     float64\n",
      "dtypes: float64(13), object(6)\n",
      "memory usage: 349.2+ MB\n",
      "None\n"
     ]
    },
    {
     "data": {
      "text/html": [
       "<div>\n",
       "<style scoped>\n",
       "    .dataframe tbody tr th:only-of-type {\n",
       "        vertical-align: middle;\n",
       "    }\n",
       "\n",
       "    .dataframe tbody tr th {\n",
       "        vertical-align: top;\n",
       "    }\n",
       "\n",
       "    .dataframe thead th {\n",
       "        text-align: right;\n",
       "    }\n",
       "</style>\n",
       "<table border=\"1\" class=\"dataframe\">\n",
       "  <thead>\n",
       "    <tr style=\"text-align: right;\">\n",
       "      <th></th>\n",
       "      <th>track_id</th>\n",
       "      <th>track_name</th>\n",
       "      <th>artist_id</th>\n",
       "      <th>artist_name</th>\n",
       "      <th>artist_genres</th>\n",
       "      <th>artist_followers</th>\n",
       "      <th>artist_popularity</th>\n",
       "      <th>track_popularity</th>\n",
       "      <th>track_album_release_date</th>\n",
       "      <th>acousticness</th>\n",
       "      <th>danceability</th>\n",
       "      <th>duration_ms</th>\n",
       "      <th>energy</th>\n",
       "      <th>instrumentalness</th>\n",
       "      <th>liveness</th>\n",
       "      <th>loudness</th>\n",
       "      <th>speechiness</th>\n",
       "      <th>tempo</th>\n",
       "      <th>valence</th>\n",
       "    </tr>\n",
       "  </thead>\n",
       "  <tbody>\n",
       "    <tr>\n",
       "      <th>0</th>\n",
       "      <td>0001ETU9DQ1EDGwQODbyLP</td>\n",
       "      <td>Saturn</td>\n",
       "      <td>4Mf2Y2nSSWsNLSgxvAhTIj</td>\n",
       "      <td>Luke Cole</td>\n",
       "      <td>['brain waves', 'pianissimo']</td>\n",
       "      <td>169.0</td>\n",
       "      <td>27.0</td>\n",
       "      <td>26.0</td>\n",
       "      <td>2017-05-26</td>\n",
       "      <td>0.7270</td>\n",
       "      <td>0.177</td>\n",
       "      <td>100523.0</td>\n",
       "      <td>0.275</td>\n",
       "      <td>0.000000</td>\n",
       "      <td>0.141</td>\n",
       "      <td>-12.961</td>\n",
       "      <td>0.0401</td>\n",
       "      <td>114.181</td>\n",
       "      <td>0.0351</td>\n",
       "    </tr>\n",
       "    <tr>\n",
       "      <th>1</th>\n",
       "      <td>0001px4jtydNsUqu1oRgkT</td>\n",
       "      <td>Mississipi</td>\n",
       "      <td>52WV9rEqSP9z9fcxeywOtz</td>\n",
       "      <td>The Sparks</td>\n",
       "      <td>['indorock']</td>\n",
       "      <td>937.0</td>\n",
       "      <td>23.0</td>\n",
       "      <td>7.0</td>\n",
       "      <td>2009-06-01</td>\n",
       "      <td>0.0788</td>\n",
       "      <td>0.622</td>\n",
       "      <td>162773.0</td>\n",
       "      <td>0.911</td>\n",
       "      <td>0.832000</td>\n",
       "      <td>0.242</td>\n",
       "      <td>-4.421</td>\n",
       "      <td>0.0340</td>\n",
       "      <td>135.523</td>\n",
       "      <td>0.6550</td>\n",
       "    </tr>\n",
       "    <tr>\n",
       "      <th>2</th>\n",
       "      <td>000254o6oXjLDip6sUPHcL</td>\n",
       "      <td>I Will Run</td>\n",
       "      <td>5D0WwKVD3KVdOnMZJLTo96</td>\n",
       "      <td>One Call</td>\n",
       "      <td>[]</td>\n",
       "      <td>846.0</td>\n",
       "      <td>3.0</td>\n",
       "      <td>0.0</td>\n",
       "      <td>2009-05-01</td>\n",
       "      <td>0.6610</td>\n",
       "      <td>0.550</td>\n",
       "      <td>394720.0</td>\n",
       "      <td>0.415</td>\n",
       "      <td>0.000015</td>\n",
       "      <td>0.171</td>\n",
       "      <td>-9.211</td>\n",
       "      <td>0.0253</td>\n",
       "      <td>145.992</td>\n",
       "      <td>0.2310</td>\n",
       "    </tr>\n",
       "    <tr>\n",
       "      <th>3</th>\n",
       "      <td>0003vV1RhR0OHyTfrrIHyd</td>\n",
       "      <td>Gospel Medley - I've Got My Mind Made Up - I'v...</td>\n",
       "      <td>1Lkx061Y0k6Szk3Ee0KI2V</td>\n",
       "      <td>Joy Lapps</td>\n",
       "      <td>[]</td>\n",
       "      <td>55.0</td>\n",
       "      <td>2.0</td>\n",
       "      <td>1.0</td>\n",
       "      <td>2006-04-07</td>\n",
       "      <td>0.4940</td>\n",
       "      <td>0.623</td>\n",
       "      <td>378880.0</td>\n",
       "      <td>0.542</td>\n",
       "      <td>0.327000</td>\n",
       "      <td>0.111</td>\n",
       "      <td>-9.374</td>\n",
       "      <td>0.0412</td>\n",
       "      <td>84.074</td>\n",
       "      <td>0.6080</td>\n",
       "    </tr>\n",
       "    <tr>\n",
       "      <th>4</th>\n",
       "      <td>0004AYxyqRFP0GC8ZZO2lG</td>\n",
       "      <td>Maghimagsik - Mocksmile Remix</td>\n",
       "      <td>4I1iKyF3JdZ8sR9RHdGFfJ</td>\n",
       "      <td>BLKD</td>\n",
       "      <td>['pinoy alternative rap', 'pinoy hip hop']</td>\n",
       "      <td>1837.0</td>\n",
       "      <td>23.0</td>\n",
       "      <td>14.0</td>\n",
       "      <td>2019-03-27</td>\n",
       "      <td>0.4180</td>\n",
       "      <td>0.739</td>\n",
       "      <td>177981.0</td>\n",
       "      <td>0.445</td>\n",
       "      <td>0.001370</td>\n",
       "      <td>0.105</td>\n",
       "      <td>-12.608</td>\n",
       "      <td>0.2240</td>\n",
       "      <td>174.105</td>\n",
       "      <td>0.3810</td>\n",
       "    </tr>\n",
       "  </tbody>\n",
       "</table>\n",
       "</div>"
      ],
      "text/plain": [
       "                 track_id                                         track_name               artist_id artist_name                               artist_genres  artist_followers  artist_popularity  track_popularity track_album_release_date  acousticness  danceability  duration_ms  energy  instrumentalness  liveness  loudness  speechiness    tempo  valence\n",
       "0  0001ETU9DQ1EDGwQODbyLP                                             Saturn  4Mf2Y2nSSWsNLSgxvAhTIj   Luke Cole               ['brain waves', 'pianissimo']             169.0               27.0              26.0               2017-05-26        0.7270         0.177     100523.0   0.275          0.000000     0.141   -12.961       0.0401  114.181   0.0351\n",
       "1  0001px4jtydNsUqu1oRgkT                                         Mississipi  52WV9rEqSP9z9fcxeywOtz  The Sparks                                ['indorock']             937.0               23.0               7.0               2009-06-01        0.0788         0.622     162773.0   0.911          0.832000     0.242    -4.421       0.0340  135.523   0.6550\n",
       "2  000254o6oXjLDip6sUPHcL                                         I Will Run  5D0WwKVD3KVdOnMZJLTo96    One Call                                          []             846.0                3.0               0.0               2009-05-01        0.6610         0.550     394720.0   0.415          0.000015     0.171    -9.211       0.0253  145.992   0.2310\n",
       "3  0003vV1RhR0OHyTfrrIHyd  Gospel Medley - I've Got My Mind Made Up - I'v...  1Lkx061Y0k6Szk3Ee0KI2V   Joy Lapps                                          []              55.0                2.0               1.0               2006-04-07        0.4940         0.623     378880.0   0.542          0.327000     0.111    -9.374       0.0412   84.074   0.6080\n",
       "4  0004AYxyqRFP0GC8ZZO2lG                      Maghimagsik - Mocksmile Remix  4I1iKyF3JdZ8sR9RHdGFfJ        BLKD  ['pinoy alternative rap', 'pinoy hip hop']            1837.0               23.0              14.0               2019-03-27        0.4180         0.739     177981.0   0.445          0.001370     0.105   -12.608       0.2240  174.105   0.3810"
      ]
     },
     "execution_count": 3,
     "metadata": {},
     "output_type": "execute_result"
    }
   ],
   "source": [
    "# Preivew dataframe\n",
    "print(data.info())\n",
    "data.head()"
   ]
  },
  {
   "cell_type": "markdown",
   "metadata": {},
   "source": [
    "### Feature Engineering: \"track_release_year\""
   ]
  },
  {
   "cell_type": "code",
   "execution_count": 4,
   "metadata": {
    "ExecuteTime": {
     "end_time": "2019-11-24T13:57:11.487375Z",
     "start_time": "2019-11-24T13:57:08.845420Z"
    }
   },
   "outputs": [],
   "source": [
    "# Extract year from date string\n",
    "data['track_album_release_date'] = data['track_album_release_date'].str[0:4]\n",
    "\n",
    "# Rename column\n",
    "data.rename(columns={'track_album_release_date': 'track_release_year'}, inplace=True)\n",
    "\n",
    "# Change type string to float\n",
    "data['track_release_year'] = data['track_release_year'].astype(float)\n",
    "\n",
    "# Drop 3,427 songs before 1920\n",
    "data = data[data['track_release_year'] >= 1920]"
   ]
  },
  {
   "cell_type": "markdown",
   "metadata": {},
   "source": [
    "### Feature Engineering: \"artist_genres\""
   ]
  },
  {
   "cell_type": "code",
   "execution_count": 5,
   "metadata": {
    "ExecuteTime": {
     "end_time": "2019-11-24T13:58:02.478733Z",
     "start_time": "2019-11-24T13:57:59.881344Z"
    }
   },
   "outputs": [],
   "source": [
    "#Take brackets out of artist_genres column string data\n",
    "data['artist_genres'] = data['artist_genres'].str[1:-1]\n",
    "\n",
    "#Take quotes out of artist_genres column string data\n",
    "data['artist_genres'] = data['artist_genres'].str.replace(\"'\", \"\")\n",
    "\n",
    "#Take spaces out of artist_genres column string data\n",
    "#data['artist_genres'] = data['artist_genres'].str.replace(\" \", \"\")\n",
    "\n",
    "#Take dashes out of artist_genres column string data\n",
    "#data['artist_genres'] = data['artist_genres'].str.replace(\"-\", \"\")\n",
    "\n",
    "#Replace empty genre data points with NaNs\n",
    "data['artist_genres'] = data['artist_genres'].apply(lambda y: 'not assigned' if y=='' else y)"
   ]
  },
  {
   "cell_type": "markdown",
   "metadata": {},
   "source": [
    "### Export to CSV"
   ]
  },
  {
   "cell_type": "code",
   "execution_count": 6,
   "metadata": {
    "ExecuteTime": {
     "end_time": "2019-11-24T13:58:08.573756Z",
     "start_time": "2019-11-24T13:58:08.552705Z"
    }
   },
   "outputs": [
    {
     "name": "stdout",
     "output_type": "stream",
     "text": [
      "<class 'pandas.core.frame.DataFrame'>\n",
      "Int64Index: 2405275 entries, 0 to 2408701\n",
      "Data columns (total 19 columns):\n",
      "track_id              object\n",
      "track_name            object\n",
      "artist_id             object\n",
      "artist_name           object\n",
      "artist_genres         object\n",
      "artist_followers      float64\n",
      "artist_popularity     float64\n",
      "track_popularity      float64\n",
      "track_release_year    float64\n",
      "acousticness          float64\n",
      "danceability          float64\n",
      "duration_ms           float64\n",
      "energy                float64\n",
      "instrumentalness      float64\n",
      "liveness              float64\n",
      "loudness              float64\n",
      "speechiness           float64\n",
      "tempo                 float64\n",
      "valence               float64\n",
      "dtypes: float64(14), object(5)\n",
      "memory usage: 367.0+ MB\n",
      "None\n"
     ]
    },
    {
     "data": {
      "text/html": [
       "<div>\n",
       "<style scoped>\n",
       "    .dataframe tbody tr th:only-of-type {\n",
       "        vertical-align: middle;\n",
       "    }\n",
       "\n",
       "    .dataframe tbody tr th {\n",
       "        vertical-align: top;\n",
       "    }\n",
       "\n",
       "    .dataframe thead th {\n",
       "        text-align: right;\n",
       "    }\n",
       "</style>\n",
       "<table border=\"1\" class=\"dataframe\">\n",
       "  <thead>\n",
       "    <tr style=\"text-align: right;\">\n",
       "      <th></th>\n",
       "      <th>track_id</th>\n",
       "      <th>track_name</th>\n",
       "      <th>artist_id</th>\n",
       "      <th>artist_name</th>\n",
       "      <th>artist_genres</th>\n",
       "      <th>artist_followers</th>\n",
       "      <th>artist_popularity</th>\n",
       "      <th>track_popularity</th>\n",
       "      <th>track_release_year</th>\n",
       "      <th>acousticness</th>\n",
       "      <th>danceability</th>\n",
       "      <th>duration_ms</th>\n",
       "      <th>energy</th>\n",
       "      <th>instrumentalness</th>\n",
       "      <th>liveness</th>\n",
       "      <th>loudness</th>\n",
       "      <th>speechiness</th>\n",
       "      <th>tempo</th>\n",
       "      <th>valence</th>\n",
       "    </tr>\n",
       "  </thead>\n",
       "  <tbody>\n",
       "    <tr>\n",
       "      <th>0</th>\n",
       "      <td>0001ETU9DQ1EDGwQODbyLP</td>\n",
       "      <td>Saturn</td>\n",
       "      <td>4Mf2Y2nSSWsNLSgxvAhTIj</td>\n",
       "      <td>Luke Cole</td>\n",
       "      <td>brain waves, pianissimo</td>\n",
       "      <td>169.0</td>\n",
       "      <td>27.0</td>\n",
       "      <td>26.0</td>\n",
       "      <td>2017.0</td>\n",
       "      <td>0.7270</td>\n",
       "      <td>0.177</td>\n",
       "      <td>100523.0</td>\n",
       "      <td>0.275</td>\n",
       "      <td>0.000000</td>\n",
       "      <td>0.141</td>\n",
       "      <td>-12.961</td>\n",
       "      <td>0.0401</td>\n",
       "      <td>114.181</td>\n",
       "      <td>0.0351</td>\n",
       "    </tr>\n",
       "    <tr>\n",
       "      <th>1</th>\n",
       "      <td>0001px4jtydNsUqu1oRgkT</td>\n",
       "      <td>Mississipi</td>\n",
       "      <td>52WV9rEqSP9z9fcxeywOtz</td>\n",
       "      <td>The Sparks</td>\n",
       "      <td>indorock</td>\n",
       "      <td>937.0</td>\n",
       "      <td>23.0</td>\n",
       "      <td>7.0</td>\n",
       "      <td>2009.0</td>\n",
       "      <td>0.0788</td>\n",
       "      <td>0.622</td>\n",
       "      <td>162773.0</td>\n",
       "      <td>0.911</td>\n",
       "      <td>0.832000</td>\n",
       "      <td>0.242</td>\n",
       "      <td>-4.421</td>\n",
       "      <td>0.0340</td>\n",
       "      <td>135.523</td>\n",
       "      <td>0.6550</td>\n",
       "    </tr>\n",
       "    <tr>\n",
       "      <th>2</th>\n",
       "      <td>000254o6oXjLDip6sUPHcL</td>\n",
       "      <td>I Will Run</td>\n",
       "      <td>5D0WwKVD3KVdOnMZJLTo96</td>\n",
       "      <td>One Call</td>\n",
       "      <td>not assigned</td>\n",
       "      <td>846.0</td>\n",
       "      <td>3.0</td>\n",
       "      <td>0.0</td>\n",
       "      <td>2009.0</td>\n",
       "      <td>0.6610</td>\n",
       "      <td>0.550</td>\n",
       "      <td>394720.0</td>\n",
       "      <td>0.415</td>\n",
       "      <td>0.000015</td>\n",
       "      <td>0.171</td>\n",
       "      <td>-9.211</td>\n",
       "      <td>0.0253</td>\n",
       "      <td>145.992</td>\n",
       "      <td>0.2310</td>\n",
       "    </tr>\n",
       "    <tr>\n",
       "      <th>3</th>\n",
       "      <td>0003vV1RhR0OHyTfrrIHyd</td>\n",
       "      <td>Gospel Medley - I've Got My Mind Made Up - I'v...</td>\n",
       "      <td>1Lkx061Y0k6Szk3Ee0KI2V</td>\n",
       "      <td>Joy Lapps</td>\n",
       "      <td>not assigned</td>\n",
       "      <td>55.0</td>\n",
       "      <td>2.0</td>\n",
       "      <td>1.0</td>\n",
       "      <td>2006.0</td>\n",
       "      <td>0.4940</td>\n",
       "      <td>0.623</td>\n",
       "      <td>378880.0</td>\n",
       "      <td>0.542</td>\n",
       "      <td>0.327000</td>\n",
       "      <td>0.111</td>\n",
       "      <td>-9.374</td>\n",
       "      <td>0.0412</td>\n",
       "      <td>84.074</td>\n",
       "      <td>0.6080</td>\n",
       "    </tr>\n",
       "    <tr>\n",
       "      <th>4</th>\n",
       "      <td>0004AYxyqRFP0GC8ZZO2lG</td>\n",
       "      <td>Maghimagsik - Mocksmile Remix</td>\n",
       "      <td>4I1iKyF3JdZ8sR9RHdGFfJ</td>\n",
       "      <td>BLKD</td>\n",
       "      <td>pinoy alternative rap, pinoy hip hop</td>\n",
       "      <td>1837.0</td>\n",
       "      <td>23.0</td>\n",
       "      <td>14.0</td>\n",
       "      <td>2019.0</td>\n",
       "      <td>0.4180</td>\n",
       "      <td>0.739</td>\n",
       "      <td>177981.0</td>\n",
       "      <td>0.445</td>\n",
       "      <td>0.001370</td>\n",
       "      <td>0.105</td>\n",
       "      <td>-12.608</td>\n",
       "      <td>0.2240</td>\n",
       "      <td>174.105</td>\n",
       "      <td>0.3810</td>\n",
       "    </tr>\n",
       "  </tbody>\n",
       "</table>\n",
       "</div>"
      ],
      "text/plain": [
       "                 track_id                                         track_name               artist_id artist_name                         artist_genres  artist_followers  artist_popularity  track_popularity  track_release_year  acousticness  danceability  duration_ms  energy  instrumentalness  liveness  loudness  speechiness    tempo  valence\n",
       "0  0001ETU9DQ1EDGwQODbyLP                                             Saturn  4Mf2Y2nSSWsNLSgxvAhTIj   Luke Cole               brain waves, pianissimo             169.0               27.0              26.0              2017.0        0.7270         0.177     100523.0   0.275          0.000000     0.141   -12.961       0.0401  114.181   0.0351\n",
       "1  0001px4jtydNsUqu1oRgkT                                         Mississipi  52WV9rEqSP9z9fcxeywOtz  The Sparks                              indorock             937.0               23.0               7.0              2009.0        0.0788         0.622     162773.0   0.911          0.832000     0.242    -4.421       0.0340  135.523   0.6550\n",
       "2  000254o6oXjLDip6sUPHcL                                         I Will Run  5D0WwKVD3KVdOnMZJLTo96    One Call                          not assigned             846.0                3.0               0.0              2009.0        0.6610         0.550     394720.0   0.415          0.000015     0.171    -9.211       0.0253  145.992   0.2310\n",
       "3  0003vV1RhR0OHyTfrrIHyd  Gospel Medley - I've Got My Mind Made Up - I'v...  1Lkx061Y0k6Szk3Ee0KI2V   Joy Lapps                          not assigned              55.0                2.0               1.0              2006.0        0.4940         0.623     378880.0   0.542          0.327000     0.111    -9.374       0.0412   84.074   0.6080\n",
       "4  0004AYxyqRFP0GC8ZZO2lG                      Maghimagsik - Mocksmile Remix  4I1iKyF3JdZ8sR9RHdGFfJ        BLKD  pinoy alternative rap, pinoy hip hop            1837.0               23.0              14.0              2019.0        0.4180         0.739     177981.0   0.445          0.001370     0.105   -12.608       0.2240  174.105   0.3810"
      ]
     },
     "execution_count": 6,
     "metadata": {},
     "output_type": "execute_result"
    }
   ],
   "source": [
    "# Preivew dataframe\n",
    "print(data.info())\n",
    "data.head()"
   ]
  },
  {
   "cell_type": "code",
   "execution_count": 8,
   "metadata": {
    "ExecuteTime": {
     "end_time": "2019-11-24T13:59:48.992960Z",
     "start_time": "2019-11-24T13:59:03.750666Z"
    }
   },
   "outputs": [],
   "source": [
    "# Export to CSV\n",
    "data.to_csv(\"Data/data.csv\")"
   ]
  },
  {
   "cell_type": "markdown",
   "metadata": {},
   "source": [
    "## Data > Songs"
   ]
  },
  {
   "cell_type": "code",
   "execution_count": 59,
   "metadata": {
    "ExecuteTime": {
     "end_time": "2019-11-16T23:46:53.196307Z",
     "start_time": "2019-11-16T23:46:40.591882Z"
    }
   },
   "outputs": [],
   "source": [
    "# Read CSV to DataFrame\n",
    "songs = pd.read_csv('Data/data.csv')\n",
    "\n",
    "# Drop columns\n",
    "songs.drop(columns=['Unnamed: 0', 'artist_id', 'artist_genres'], inplace=True)"
   ]
  },
  {
   "cell_type": "code",
   "execution_count": 60,
   "metadata": {
    "ExecuteTime": {
     "end_time": "2019-11-16T23:46:53.220388Z",
     "start_time": "2019-11-16T23:46:53.198503Z"
    }
   },
   "outputs": [
    {
     "name": "stdout",
     "output_type": "stream",
     "text": [
      "<class 'pandas.core.frame.DataFrame'>\n",
      "RangeIndex: 2405275 entries, 0 to 2405274\n",
      "Data columns (total 17 columns):\n",
      "track_id              object\n",
      "track_name            object\n",
      "artist_name           object\n",
      "artist_followers      float64\n",
      "artist_popularity     float64\n",
      "track_popularity      float64\n",
      "track_release_year    float64\n",
      "acousticness          float64\n",
      "danceability          float64\n",
      "duration_ms           float64\n",
      "energy                float64\n",
      "instrumentalness      float64\n",
      "liveness              float64\n",
      "loudness              float64\n",
      "speechiness           float64\n",
      "tempo                 float64\n",
      "valence               float64\n",
      "dtypes: float64(14), object(3)\n",
      "memory usage: 312.0+ MB\n",
      "None\n"
     ]
    },
    {
     "data": {
      "text/html": [
       "<div>\n",
       "<style scoped>\n",
       "    .dataframe tbody tr th:only-of-type {\n",
       "        vertical-align: middle;\n",
       "    }\n",
       "\n",
       "    .dataframe tbody tr th {\n",
       "        vertical-align: top;\n",
       "    }\n",
       "\n",
       "    .dataframe thead th {\n",
       "        text-align: right;\n",
       "    }\n",
       "</style>\n",
       "<table border=\"1\" class=\"dataframe\">\n",
       "  <thead>\n",
       "    <tr style=\"text-align: right;\">\n",
       "      <th></th>\n",
       "      <th>track_id</th>\n",
       "      <th>track_name</th>\n",
       "      <th>artist_name</th>\n",
       "      <th>artist_followers</th>\n",
       "      <th>artist_popularity</th>\n",
       "      <th>track_popularity</th>\n",
       "      <th>track_release_year</th>\n",
       "      <th>acousticness</th>\n",
       "      <th>danceability</th>\n",
       "      <th>duration_ms</th>\n",
       "      <th>energy</th>\n",
       "      <th>instrumentalness</th>\n",
       "      <th>liveness</th>\n",
       "      <th>loudness</th>\n",
       "      <th>speechiness</th>\n",
       "      <th>tempo</th>\n",
       "      <th>valence</th>\n",
       "    </tr>\n",
       "  </thead>\n",
       "  <tbody>\n",
       "    <tr>\n",
       "      <th>0</th>\n",
       "      <td>0001ETU9DQ1EDGwQODbyLP</td>\n",
       "      <td>Saturn</td>\n",
       "      <td>Luke Cole</td>\n",
       "      <td>169.0</td>\n",
       "      <td>27.0</td>\n",
       "      <td>26.0</td>\n",
       "      <td>2017.0</td>\n",
       "      <td>0.7270</td>\n",
       "      <td>0.177</td>\n",
       "      <td>100523.0</td>\n",
       "      <td>0.275</td>\n",
       "      <td>0.000000</td>\n",
       "      <td>0.141</td>\n",
       "      <td>-12.961</td>\n",
       "      <td>0.0401</td>\n",
       "      <td>114.181</td>\n",
       "      <td>0.0351</td>\n",
       "    </tr>\n",
       "    <tr>\n",
       "      <th>1</th>\n",
       "      <td>0001px4jtydNsUqu1oRgkT</td>\n",
       "      <td>Mississipi</td>\n",
       "      <td>The Sparks</td>\n",
       "      <td>937.0</td>\n",
       "      <td>23.0</td>\n",
       "      <td>7.0</td>\n",
       "      <td>2009.0</td>\n",
       "      <td>0.0788</td>\n",
       "      <td>0.622</td>\n",
       "      <td>162773.0</td>\n",
       "      <td>0.911</td>\n",
       "      <td>0.832000</td>\n",
       "      <td>0.242</td>\n",
       "      <td>-4.421</td>\n",
       "      <td>0.0340</td>\n",
       "      <td>135.523</td>\n",
       "      <td>0.6550</td>\n",
       "    </tr>\n",
       "    <tr>\n",
       "      <th>2</th>\n",
       "      <td>000254o6oXjLDip6sUPHcL</td>\n",
       "      <td>I Will Run</td>\n",
       "      <td>One Call</td>\n",
       "      <td>846.0</td>\n",
       "      <td>3.0</td>\n",
       "      <td>0.0</td>\n",
       "      <td>2009.0</td>\n",
       "      <td>0.6610</td>\n",
       "      <td>0.550</td>\n",
       "      <td>394720.0</td>\n",
       "      <td>0.415</td>\n",
       "      <td>0.000015</td>\n",
       "      <td>0.171</td>\n",
       "      <td>-9.211</td>\n",
       "      <td>0.0253</td>\n",
       "      <td>145.992</td>\n",
       "      <td>0.2310</td>\n",
       "    </tr>\n",
       "    <tr>\n",
       "      <th>3</th>\n",
       "      <td>0003vV1RhR0OHyTfrrIHyd</td>\n",
       "      <td>Gospel Medley - I've Got My Mind Made Up - I'v...</td>\n",
       "      <td>Joy Lapps</td>\n",
       "      <td>55.0</td>\n",
       "      <td>2.0</td>\n",
       "      <td>1.0</td>\n",
       "      <td>2006.0</td>\n",
       "      <td>0.4940</td>\n",
       "      <td>0.623</td>\n",
       "      <td>378880.0</td>\n",
       "      <td>0.542</td>\n",
       "      <td>0.327000</td>\n",
       "      <td>0.111</td>\n",
       "      <td>-9.374</td>\n",
       "      <td>0.0412</td>\n",
       "      <td>84.074</td>\n",
       "      <td>0.6080</td>\n",
       "    </tr>\n",
       "    <tr>\n",
       "      <th>4</th>\n",
       "      <td>0004AYxyqRFP0GC8ZZO2lG</td>\n",
       "      <td>Maghimagsik - Mocksmile Remix</td>\n",
       "      <td>BLKD</td>\n",
       "      <td>1837.0</td>\n",
       "      <td>23.0</td>\n",
       "      <td>14.0</td>\n",
       "      <td>2019.0</td>\n",
       "      <td>0.4180</td>\n",
       "      <td>0.739</td>\n",
       "      <td>177981.0</td>\n",
       "      <td>0.445</td>\n",
       "      <td>0.001370</td>\n",
       "      <td>0.105</td>\n",
       "      <td>-12.608</td>\n",
       "      <td>0.2240</td>\n",
       "      <td>174.105</td>\n",
       "      <td>0.3810</td>\n",
       "    </tr>\n",
       "  </tbody>\n",
       "</table>\n",
       "</div>"
      ],
      "text/plain": [
       "                 track_id                                         track_name artist_name  artist_followers  artist_popularity  track_popularity  track_release_year  acousticness  danceability  duration_ms  energy  instrumentalness  liveness  loudness  speechiness    tempo  valence\n",
       "0  0001ETU9DQ1EDGwQODbyLP                                             Saturn   Luke Cole             169.0               27.0              26.0              2017.0        0.7270         0.177     100523.0   0.275          0.000000     0.141   -12.961       0.0401  114.181   0.0351\n",
       "1  0001px4jtydNsUqu1oRgkT                                         Mississipi  The Sparks             937.0               23.0               7.0              2009.0        0.0788         0.622     162773.0   0.911          0.832000     0.242    -4.421       0.0340  135.523   0.6550\n",
       "2  000254o6oXjLDip6sUPHcL                                         I Will Run    One Call             846.0                3.0               0.0              2009.0        0.6610         0.550     394720.0   0.415          0.000015     0.171    -9.211       0.0253  145.992   0.2310\n",
       "3  0003vV1RhR0OHyTfrrIHyd  Gospel Medley - I've Got My Mind Made Up - I'v...   Joy Lapps              55.0                2.0               1.0              2006.0        0.4940         0.623     378880.0   0.542          0.327000     0.111    -9.374       0.0412   84.074   0.6080\n",
       "4  0004AYxyqRFP0GC8ZZO2lG                      Maghimagsik - Mocksmile Remix        BLKD            1837.0               23.0              14.0              2019.0        0.4180         0.739     177981.0   0.445          0.001370     0.105   -12.608       0.2240  174.105   0.3810"
      ]
     },
     "execution_count": 60,
     "metadata": {},
     "output_type": "execute_result"
    }
   ],
   "source": [
    "# Preview dataframe\n",
    "print(songs.info())\n",
    "songs.head()"
   ]
  },
  {
   "cell_type": "code",
   "execution_count": 61,
   "metadata": {
    "ExecuteTime": {
     "end_time": "2019-11-16T23:46:54.817006Z",
     "start_time": "2019-11-16T23:46:53.223043Z"
    }
   },
   "outputs": [
    {
     "data": {
      "text/html": [
       "<div>\n",
       "<style scoped>\n",
       "    .dataframe tbody tr th:only-of-type {\n",
       "        vertical-align: middle;\n",
       "    }\n",
       "\n",
       "    .dataframe tbody tr th {\n",
       "        vertical-align: top;\n",
       "    }\n",
       "\n",
       "    .dataframe thead th {\n",
       "        text-align: right;\n",
       "    }\n",
       "</style>\n",
       "<table border=\"1\" class=\"dataframe\">\n",
       "  <thead>\n",
       "    <tr style=\"text-align: right;\">\n",
       "      <th></th>\n",
       "      <th>count</th>\n",
       "      <th>mean</th>\n",
       "      <th>std</th>\n",
       "      <th>min</th>\n",
       "      <th>25%</th>\n",
       "      <th>50%</th>\n",
       "      <th>75%</th>\n",
       "      <th>max</th>\n",
       "    </tr>\n",
       "  </thead>\n",
       "  <tbody>\n",
       "    <tr>\n",
       "      <th>artist_followers</th>\n",
       "      <td>2400007.0</td>\n",
       "      <td>29697.012889</td>\n",
       "      <td>366781.561718</td>\n",
       "      <td>0.0</td>\n",
       "      <td>75.0000</td>\n",
       "      <td>627.00000</td>\n",
       "      <td>4085.0000</td>\n",
       "      <td>5.163042e+07</td>\n",
       "    </tr>\n",
       "    <tr>\n",
       "      <th>artist_popularity</th>\n",
       "      <td>2400063.0</td>\n",
       "      <td>19.509944</td>\n",
       "      <td>17.171844</td>\n",
       "      <td>0.0</td>\n",
       "      <td>4.0000</td>\n",
       "      <td>17.00000</td>\n",
       "      <td>31.0000</td>\n",
       "      <td>1.000000e+02</td>\n",
       "    </tr>\n",
       "    <tr>\n",
       "      <th>track_popularity</th>\n",
       "      <td>2405275.0</td>\n",
       "      <td>13.748420</td>\n",
       "      <td>15.195963</td>\n",
       "      <td>0.0</td>\n",
       "      <td>1.0000</td>\n",
       "      <td>8.00000</td>\n",
       "      <td>22.0000</td>\n",
       "      <td>9.700000e+01</td>\n",
       "    </tr>\n",
       "    <tr>\n",
       "      <th>track_release_year</th>\n",
       "      <td>2405275.0</td>\n",
       "      <td>2011.021978</td>\n",
       "      <td>9.198392</td>\n",
       "      <td>1920.0</td>\n",
       "      <td>2008.0000</td>\n",
       "      <td>2014.00000</td>\n",
       "      <td>2017.0000</td>\n",
       "      <td>2.019000e+03</td>\n",
       "    </tr>\n",
       "    <tr>\n",
       "      <th>acousticness</th>\n",
       "      <td>2405275.0</td>\n",
       "      <td>0.359019</td>\n",
       "      <td>0.359835</td>\n",
       "      <td>0.0</td>\n",
       "      <td>0.0208</td>\n",
       "      <td>0.21600</td>\n",
       "      <td>0.7060</td>\n",
       "      <td>9.960000e-01</td>\n",
       "    </tr>\n",
       "    <tr>\n",
       "      <th>danceability</th>\n",
       "      <td>2405275.0</td>\n",
       "      <td>0.558757</td>\n",
       "      <td>0.188132</td>\n",
       "      <td>0.0</td>\n",
       "      <td>0.4330</td>\n",
       "      <td>0.57700</td>\n",
       "      <td>0.7030</td>\n",
       "      <td>9.990000e-01</td>\n",
       "    </tr>\n",
       "    <tr>\n",
       "      <th>duration_ms</th>\n",
       "      <td>2405275.0</td>\n",
       "      <td>254484.699630</td>\n",
       "      <td>162512.932599</td>\n",
       "      <td>1000.0</td>\n",
       "      <td>185060.0000</td>\n",
       "      <td>226320.00000</td>\n",
       "      <td>286067.0000</td>\n",
       "      <td>6.060000e+06</td>\n",
       "    </tr>\n",
       "    <tr>\n",
       "      <th>energy</th>\n",
       "      <td>2405275.0</td>\n",
       "      <td>0.580181</td>\n",
       "      <td>0.269732</td>\n",
       "      <td>0.0</td>\n",
       "      <td>0.3840</td>\n",
       "      <td>0.61800</td>\n",
       "      <td>0.8060</td>\n",
       "      <td>1.000000e+00</td>\n",
       "    </tr>\n",
       "    <tr>\n",
       "      <th>instrumentalness</th>\n",
       "      <td>2405275.0</td>\n",
       "      <td>0.240299</td>\n",
       "      <td>0.359370</td>\n",
       "      <td>0.0</td>\n",
       "      <td>0.0000</td>\n",
       "      <td>0.00103</td>\n",
       "      <td>0.5530</td>\n",
       "      <td>1.000000e+00</td>\n",
       "    </tr>\n",
       "    <tr>\n",
       "      <th>liveness</th>\n",
       "      <td>2405275.0</td>\n",
       "      <td>0.191602</td>\n",
       "      <td>0.163969</td>\n",
       "      <td>0.0</td>\n",
       "      <td>0.0945</td>\n",
       "      <td>0.12300</td>\n",
       "      <td>0.2380</td>\n",
       "      <td>1.000000e+00</td>\n",
       "    </tr>\n",
       "    <tr>\n",
       "      <th>loudness</th>\n",
       "      <td>2405275.0</td>\n",
       "      <td>-9.908533</td>\n",
       "      <td>5.874582</td>\n",
       "      <td>-60.0</td>\n",
       "      <td>-12.1440</td>\n",
       "      <td>-8.29300</td>\n",
       "      <td>-5.9290</td>\n",
       "      <td>5.842000e+00</td>\n",
       "    </tr>\n",
       "    <tr>\n",
       "      <th>speechiness</th>\n",
       "      <td>2405275.0</td>\n",
       "      <td>0.095741</td>\n",
       "      <td>0.122745</td>\n",
       "      <td>0.0</td>\n",
       "      <td>0.0366</td>\n",
       "      <td>0.04920</td>\n",
       "      <td>0.0912</td>\n",
       "      <td>9.700000e-01</td>\n",
       "    </tr>\n",
       "    <tr>\n",
       "      <th>tempo</th>\n",
       "      <td>2405275.0</td>\n",
       "      <td>119.929093</td>\n",
       "      <td>29.535278</td>\n",
       "      <td>0.0</td>\n",
       "      <td>96.9980</td>\n",
       "      <td>120.02400</td>\n",
       "      <td>138.0090</td>\n",
       "      <td>2.499870e+02</td>\n",
       "    </tr>\n",
       "    <tr>\n",
       "      <th>valence</th>\n",
       "      <td>2405275.0</td>\n",
       "      <td>0.464027</td>\n",
       "      <td>0.267971</td>\n",
       "      <td>0.0</td>\n",
       "      <td>0.2370</td>\n",
       "      <td>0.45100</td>\n",
       "      <td>0.6800</td>\n",
       "      <td>1.000000e+00</td>\n",
       "    </tr>\n",
       "  </tbody>\n",
       "</table>\n",
       "</div>"
      ],
      "text/plain": [
       "                        count           mean            std     min          25%           50%          75%           max\n",
       "artist_followers    2400007.0   29697.012889  366781.561718     0.0      75.0000     627.00000    4085.0000  5.163042e+07\n",
       "artist_popularity   2400063.0      19.509944      17.171844     0.0       4.0000      17.00000      31.0000  1.000000e+02\n",
       "track_popularity    2405275.0      13.748420      15.195963     0.0       1.0000       8.00000      22.0000  9.700000e+01\n",
       "track_release_year  2405275.0    2011.021978       9.198392  1920.0    2008.0000    2014.00000    2017.0000  2.019000e+03\n",
       "acousticness        2405275.0       0.359019       0.359835     0.0       0.0208       0.21600       0.7060  9.960000e-01\n",
       "danceability        2405275.0       0.558757       0.188132     0.0       0.4330       0.57700       0.7030  9.990000e-01\n",
       "duration_ms         2405275.0  254484.699630  162512.932599  1000.0  185060.0000  226320.00000  286067.0000  6.060000e+06\n",
       "energy              2405275.0       0.580181       0.269732     0.0       0.3840       0.61800       0.8060  1.000000e+00\n",
       "instrumentalness    2405275.0       0.240299       0.359370     0.0       0.0000       0.00103       0.5530  1.000000e+00\n",
       "liveness            2405275.0       0.191602       0.163969     0.0       0.0945       0.12300       0.2380  1.000000e+00\n",
       "loudness            2405275.0      -9.908533       5.874582   -60.0     -12.1440      -8.29300      -5.9290  5.842000e+00\n",
       "speechiness         2405275.0       0.095741       0.122745     0.0       0.0366       0.04920       0.0912  9.700000e-01\n",
       "tempo               2405275.0     119.929093      29.535278     0.0      96.9980     120.02400     138.0090  2.499870e+02\n",
       "valence             2405275.0       0.464027       0.267971     0.0       0.2370       0.45100       0.6800  1.000000e+00"
      ]
     },
     "execution_count": 61,
     "metadata": {},
     "output_type": "execute_result"
    }
   ],
   "source": [
    "songs.describe().T"
   ]
  },
  {
   "cell_type": "code",
   "execution_count": 62,
   "metadata": {
    "ExecuteTime": {
     "end_time": "2019-11-16T23:47:07.315050Z",
     "start_time": "2019-11-16T23:46:54.819601Z"
    }
   },
   "outputs": [
    {
     "name": "stdout",
     "output_type": "stream",
     "text": [
      "Number of duplicate rows dropped: 688\n"
     ]
    }
   ],
   "source": [
    "# Handling duplicate rows\n",
    "\n",
    "# Count duplicate rows\n",
    "print(\"Number of duplicate rows dropped:\", songs.duplicated().sum())\n",
    "\n",
    "# Drop duplicate rows\n",
    "songs.drop_duplicates(inplace=True)"
   ]
  },
  {
   "cell_type": "code",
   "execution_count": 63,
   "metadata": {
    "ExecuteTime": {
     "end_time": "2019-11-16T23:47:08.559509Z",
     "start_time": "2019-11-16T23:47:07.316994Z"
    }
   },
   "outputs": [
    {
     "name": "stdout",
     "output_type": "stream",
     "text": [
      "Number of NaNs in artist_followers: 4667\n",
      "Number of NaNs in artist_popularity: 4611\n"
     ]
    }
   ],
   "source": [
    "# Handling NaN values\n",
    "\n",
    "# Count NaNs\n",
    "print(\"Number of NaNs in artist_followers:\", songs.artist_followers.isna().sum())\n",
    "print(\"Number of NaNs in artist_popularity:\", songs.artist_popularity.isna().sum())\n",
    "\n",
    "# Replace NaNs with 0\n",
    "songs.fillna(0, inplace=True)"
   ]
  },
  {
   "cell_type": "code",
   "execution_count": 64,
   "metadata": {
    "ExecuteTime": {
     "end_time": "2019-11-16T23:47:08.581606Z",
     "start_time": "2019-11-16T23:47:08.561244Z"
    }
   },
   "outputs": [
    {
     "name": "stdout",
     "output_type": "stream",
     "text": [
      "<class 'pandas.core.frame.DataFrame'>\n",
      "Int64Index: 2404587 entries, 0 to 2405274\n",
      "Data columns (total 17 columns):\n",
      "track_id              object\n",
      "track_name            object\n",
      "artist_name           object\n",
      "artist_followers      float64\n",
      "artist_popularity     float64\n",
      "track_popularity      float64\n",
      "track_release_year    float64\n",
      "acousticness          float64\n",
      "danceability          float64\n",
      "duration_ms           float64\n",
      "energy                float64\n",
      "instrumentalness      float64\n",
      "liveness              float64\n",
      "loudness              float64\n",
      "speechiness           float64\n",
      "tempo                 float64\n",
      "valence               float64\n",
      "dtypes: float64(14), object(3)\n",
      "memory usage: 330.2+ MB\n",
      "None\n"
     ]
    },
    {
     "data": {
      "text/html": [
       "<div>\n",
       "<style scoped>\n",
       "    .dataframe tbody tr th:only-of-type {\n",
       "        vertical-align: middle;\n",
       "    }\n",
       "\n",
       "    .dataframe tbody tr th {\n",
       "        vertical-align: top;\n",
       "    }\n",
       "\n",
       "    .dataframe thead th {\n",
       "        text-align: right;\n",
       "    }\n",
       "</style>\n",
       "<table border=\"1\" class=\"dataframe\">\n",
       "  <thead>\n",
       "    <tr style=\"text-align: right;\">\n",
       "      <th></th>\n",
       "      <th>track_id</th>\n",
       "      <th>track_name</th>\n",
       "      <th>artist_name</th>\n",
       "      <th>artist_followers</th>\n",
       "      <th>artist_popularity</th>\n",
       "      <th>track_popularity</th>\n",
       "      <th>track_release_year</th>\n",
       "      <th>acousticness</th>\n",
       "      <th>danceability</th>\n",
       "      <th>duration_ms</th>\n",
       "      <th>energy</th>\n",
       "      <th>instrumentalness</th>\n",
       "      <th>liveness</th>\n",
       "      <th>loudness</th>\n",
       "      <th>speechiness</th>\n",
       "      <th>tempo</th>\n",
       "      <th>valence</th>\n",
       "    </tr>\n",
       "  </thead>\n",
       "  <tbody>\n",
       "    <tr>\n",
       "      <th>0</th>\n",
       "      <td>0001ETU9DQ1EDGwQODbyLP</td>\n",
       "      <td>Saturn</td>\n",
       "      <td>Luke Cole</td>\n",
       "      <td>169.0</td>\n",
       "      <td>27.0</td>\n",
       "      <td>26.0</td>\n",
       "      <td>2017.0</td>\n",
       "      <td>0.7270</td>\n",
       "      <td>0.177</td>\n",
       "      <td>100523.0</td>\n",
       "      <td>0.275</td>\n",
       "      <td>0.000000</td>\n",
       "      <td>0.141</td>\n",
       "      <td>-12.961</td>\n",
       "      <td>0.0401</td>\n",
       "      <td>114.181</td>\n",
       "      <td>0.0351</td>\n",
       "    </tr>\n",
       "    <tr>\n",
       "      <th>1</th>\n",
       "      <td>0001px4jtydNsUqu1oRgkT</td>\n",
       "      <td>Mississipi</td>\n",
       "      <td>The Sparks</td>\n",
       "      <td>937.0</td>\n",
       "      <td>23.0</td>\n",
       "      <td>7.0</td>\n",
       "      <td>2009.0</td>\n",
       "      <td>0.0788</td>\n",
       "      <td>0.622</td>\n",
       "      <td>162773.0</td>\n",
       "      <td>0.911</td>\n",
       "      <td>0.832000</td>\n",
       "      <td>0.242</td>\n",
       "      <td>-4.421</td>\n",
       "      <td>0.0340</td>\n",
       "      <td>135.523</td>\n",
       "      <td>0.6550</td>\n",
       "    </tr>\n",
       "    <tr>\n",
       "      <th>2</th>\n",
       "      <td>000254o6oXjLDip6sUPHcL</td>\n",
       "      <td>I Will Run</td>\n",
       "      <td>One Call</td>\n",
       "      <td>846.0</td>\n",
       "      <td>3.0</td>\n",
       "      <td>0.0</td>\n",
       "      <td>2009.0</td>\n",
       "      <td>0.6610</td>\n",
       "      <td>0.550</td>\n",
       "      <td>394720.0</td>\n",
       "      <td>0.415</td>\n",
       "      <td>0.000015</td>\n",
       "      <td>0.171</td>\n",
       "      <td>-9.211</td>\n",
       "      <td>0.0253</td>\n",
       "      <td>145.992</td>\n",
       "      <td>0.2310</td>\n",
       "    </tr>\n",
       "    <tr>\n",
       "      <th>3</th>\n",
       "      <td>0003vV1RhR0OHyTfrrIHyd</td>\n",
       "      <td>Gospel Medley - I've Got My Mind Made Up - I'v...</td>\n",
       "      <td>Joy Lapps</td>\n",
       "      <td>55.0</td>\n",
       "      <td>2.0</td>\n",
       "      <td>1.0</td>\n",
       "      <td>2006.0</td>\n",
       "      <td>0.4940</td>\n",
       "      <td>0.623</td>\n",
       "      <td>378880.0</td>\n",
       "      <td>0.542</td>\n",
       "      <td>0.327000</td>\n",
       "      <td>0.111</td>\n",
       "      <td>-9.374</td>\n",
       "      <td>0.0412</td>\n",
       "      <td>84.074</td>\n",
       "      <td>0.6080</td>\n",
       "    </tr>\n",
       "    <tr>\n",
       "      <th>4</th>\n",
       "      <td>0004AYxyqRFP0GC8ZZO2lG</td>\n",
       "      <td>Maghimagsik - Mocksmile Remix</td>\n",
       "      <td>BLKD</td>\n",
       "      <td>1837.0</td>\n",
       "      <td>23.0</td>\n",
       "      <td>14.0</td>\n",
       "      <td>2019.0</td>\n",
       "      <td>0.4180</td>\n",
       "      <td>0.739</td>\n",
       "      <td>177981.0</td>\n",
       "      <td>0.445</td>\n",
       "      <td>0.001370</td>\n",
       "      <td>0.105</td>\n",
       "      <td>-12.608</td>\n",
       "      <td>0.2240</td>\n",
       "      <td>174.105</td>\n",
       "      <td>0.3810</td>\n",
       "    </tr>\n",
       "  </tbody>\n",
       "</table>\n",
       "</div>"
      ],
      "text/plain": [
       "                 track_id                                         track_name artist_name  artist_followers  artist_popularity  track_popularity  track_release_year  acousticness  danceability  duration_ms  energy  instrumentalness  liveness  loudness  speechiness    tempo  valence\n",
       "0  0001ETU9DQ1EDGwQODbyLP                                             Saturn   Luke Cole             169.0               27.0              26.0              2017.0        0.7270         0.177     100523.0   0.275          0.000000     0.141   -12.961       0.0401  114.181   0.0351\n",
       "1  0001px4jtydNsUqu1oRgkT                                         Mississipi  The Sparks             937.0               23.0               7.0              2009.0        0.0788         0.622     162773.0   0.911          0.832000     0.242    -4.421       0.0340  135.523   0.6550\n",
       "2  000254o6oXjLDip6sUPHcL                                         I Will Run    One Call             846.0                3.0               0.0              2009.0        0.6610         0.550     394720.0   0.415          0.000015     0.171    -9.211       0.0253  145.992   0.2310\n",
       "3  0003vV1RhR0OHyTfrrIHyd  Gospel Medley - I've Got My Mind Made Up - I'v...   Joy Lapps              55.0                2.0               1.0              2006.0        0.4940         0.623     378880.0   0.542          0.327000     0.111    -9.374       0.0412   84.074   0.6080\n",
       "4  0004AYxyqRFP0GC8ZZO2lG                      Maghimagsik - Mocksmile Remix        BLKD            1837.0               23.0              14.0              2019.0        0.4180         0.739     177981.0   0.445          0.001370     0.105   -12.608       0.2240  174.105   0.3810"
      ]
     },
     "execution_count": 64,
     "metadata": {},
     "output_type": "execute_result"
    }
   ],
   "source": [
    "# Preview dataframe\n",
    "print(songs.info())\n",
    "songs.head()"
   ]
  },
  {
   "cell_type": "code",
   "execution_count": 65,
   "metadata": {
    "ExecuteTime": {
     "end_time": "2019-11-16T23:47:10.264490Z",
     "start_time": "2019-11-16T23:47:08.584652Z"
    }
   },
   "outputs": [
    {
     "data": {
      "text/html": [
       "<div>\n",
       "<style scoped>\n",
       "    .dataframe tbody tr th:only-of-type {\n",
       "        vertical-align: middle;\n",
       "    }\n",
       "\n",
       "    .dataframe tbody tr th {\n",
       "        vertical-align: top;\n",
       "    }\n",
       "\n",
       "    .dataframe thead th {\n",
       "        text-align: right;\n",
       "    }\n",
       "</style>\n",
       "<table border=\"1\" class=\"dataframe\">\n",
       "  <thead>\n",
       "    <tr style=\"text-align: right;\">\n",
       "      <th></th>\n",
       "      <th>count</th>\n",
       "      <th>mean</th>\n",
       "      <th>std</th>\n",
       "      <th>min</th>\n",
       "      <th>25%</th>\n",
       "      <th>50%</th>\n",
       "      <th>75%</th>\n",
       "      <th>max</th>\n",
       "    </tr>\n",
       "  </thead>\n",
       "  <tbody>\n",
       "    <tr>\n",
       "      <th>artist_followers</th>\n",
       "      <td>2404587.0</td>\n",
       "      <td>29639.292333</td>\n",
       "      <td>366434.179927</td>\n",
       "      <td>0.0</td>\n",
       "      <td>74.0000</td>\n",
       "      <td>622.00000</td>\n",
       "      <td>4069.0000</td>\n",
       "      <td>5.163042e+07</td>\n",
       "    </tr>\n",
       "    <tr>\n",
       "      <th>artist_popularity</th>\n",
       "      <td>2404587.0</td>\n",
       "      <td>19.471754</td>\n",
       "      <td>17.176203</td>\n",
       "      <td>0.0</td>\n",
       "      <td>3.0000</td>\n",
       "      <td>17.00000</td>\n",
       "      <td>31.0000</td>\n",
       "      <td>1.000000e+02</td>\n",
       "    </tr>\n",
       "    <tr>\n",
       "      <th>track_popularity</th>\n",
       "      <td>2404587.0</td>\n",
       "      <td>13.739721</td>\n",
       "      <td>15.186074</td>\n",
       "      <td>0.0</td>\n",
       "      <td>1.0000</td>\n",
       "      <td>8.00000</td>\n",
       "      <td>22.0000</td>\n",
       "      <td>9.700000e+01</td>\n",
       "    </tr>\n",
       "    <tr>\n",
       "      <th>track_release_year</th>\n",
       "      <td>2404587.0</td>\n",
       "      <td>2011.022128</td>\n",
       "      <td>9.197807</td>\n",
       "      <td>1920.0</td>\n",
       "      <td>2008.0000</td>\n",
       "      <td>2014.00000</td>\n",
       "      <td>2017.0000</td>\n",
       "      <td>2.019000e+03</td>\n",
       "    </tr>\n",
       "    <tr>\n",
       "      <th>acousticness</th>\n",
       "      <td>2404587.0</td>\n",
       "      <td>0.359031</td>\n",
       "      <td>0.359846</td>\n",
       "      <td>0.0</td>\n",
       "      <td>0.0208</td>\n",
       "      <td>0.21600</td>\n",
       "      <td>0.7060</td>\n",
       "      <td>9.960000e-01</td>\n",
       "    </tr>\n",
       "    <tr>\n",
       "      <th>danceability</th>\n",
       "      <td>2404587.0</td>\n",
       "      <td>0.558744</td>\n",
       "      <td>0.188133</td>\n",
       "      <td>0.0</td>\n",
       "      <td>0.4330</td>\n",
       "      <td>0.57700</td>\n",
       "      <td>0.7030</td>\n",
       "      <td>9.990000e-01</td>\n",
       "    </tr>\n",
       "    <tr>\n",
       "      <th>duration_ms</th>\n",
       "      <td>2404587.0</td>\n",
       "      <td>254486.479143</td>\n",
       "      <td>162527.449298</td>\n",
       "      <td>1000.0</td>\n",
       "      <td>185063.0000</td>\n",
       "      <td>226320.00000</td>\n",
       "      <td>286067.0000</td>\n",
       "      <td>6.060000e+06</td>\n",
       "    </tr>\n",
       "    <tr>\n",
       "      <th>energy</th>\n",
       "      <td>2404587.0</td>\n",
       "      <td>0.580164</td>\n",
       "      <td>0.269733</td>\n",
       "      <td>0.0</td>\n",
       "      <td>0.3840</td>\n",
       "      <td>0.61800</td>\n",
       "      <td>0.8060</td>\n",
       "      <td>1.000000e+00</td>\n",
       "    </tr>\n",
       "    <tr>\n",
       "      <th>instrumentalness</th>\n",
       "      <td>2404587.0</td>\n",
       "      <td>0.240339</td>\n",
       "      <td>0.359388</td>\n",
       "      <td>0.0</td>\n",
       "      <td>0.0000</td>\n",
       "      <td>0.00104</td>\n",
       "      <td>0.5530</td>\n",
       "      <td>1.000000e+00</td>\n",
       "    </tr>\n",
       "    <tr>\n",
       "      <th>liveness</th>\n",
       "      <td>2404587.0</td>\n",
       "      <td>0.191599</td>\n",
       "      <td>0.163971</td>\n",
       "      <td>0.0</td>\n",
       "      <td>0.0945</td>\n",
       "      <td>0.12300</td>\n",
       "      <td>0.2380</td>\n",
       "      <td>1.000000e+00</td>\n",
       "    </tr>\n",
       "    <tr>\n",
       "      <th>loudness</th>\n",
       "      <td>2404587.0</td>\n",
       "      <td>-9.908856</td>\n",
       "      <td>5.874450</td>\n",
       "      <td>-60.0</td>\n",
       "      <td>-12.1450</td>\n",
       "      <td>-8.29400</td>\n",
       "      <td>-5.9290</td>\n",
       "      <td>5.842000e+00</td>\n",
       "    </tr>\n",
       "    <tr>\n",
       "      <th>speechiness</th>\n",
       "      <td>2404587.0</td>\n",
       "      <td>0.095743</td>\n",
       "      <td>0.122753</td>\n",
       "      <td>0.0</td>\n",
       "      <td>0.0366</td>\n",
       "      <td>0.04920</td>\n",
       "      <td>0.0912</td>\n",
       "      <td>9.700000e-01</td>\n",
       "    </tr>\n",
       "    <tr>\n",
       "      <th>tempo</th>\n",
       "      <td>2404587.0</td>\n",
       "      <td>119.928203</td>\n",
       "      <td>29.535507</td>\n",
       "      <td>0.0</td>\n",
       "      <td>96.9970</td>\n",
       "      <td>120.02400</td>\n",
       "      <td>138.0100</td>\n",
       "      <td>2.499870e+02</td>\n",
       "    </tr>\n",
       "    <tr>\n",
       "      <th>valence</th>\n",
       "      <td>2404587.0</td>\n",
       "      <td>0.464009</td>\n",
       "      <td>0.267971</td>\n",
       "      <td>0.0</td>\n",
       "      <td>0.2370</td>\n",
       "      <td>0.45100</td>\n",
       "      <td>0.6800</td>\n",
       "      <td>1.000000e+00</td>\n",
       "    </tr>\n",
       "  </tbody>\n",
       "</table>\n",
       "</div>"
      ],
      "text/plain": [
       "                        count           mean            std     min          25%           50%          75%           max\n",
       "artist_followers    2404587.0   29639.292333  366434.179927     0.0      74.0000     622.00000    4069.0000  5.163042e+07\n",
       "artist_popularity   2404587.0      19.471754      17.176203     0.0       3.0000      17.00000      31.0000  1.000000e+02\n",
       "track_popularity    2404587.0      13.739721      15.186074     0.0       1.0000       8.00000      22.0000  9.700000e+01\n",
       "track_release_year  2404587.0    2011.022128       9.197807  1920.0    2008.0000    2014.00000    2017.0000  2.019000e+03\n",
       "acousticness        2404587.0       0.359031       0.359846     0.0       0.0208       0.21600       0.7060  9.960000e-01\n",
       "danceability        2404587.0       0.558744       0.188133     0.0       0.4330       0.57700       0.7030  9.990000e-01\n",
       "duration_ms         2404587.0  254486.479143  162527.449298  1000.0  185063.0000  226320.00000  286067.0000  6.060000e+06\n",
       "energy              2404587.0       0.580164       0.269733     0.0       0.3840       0.61800       0.8060  1.000000e+00\n",
       "instrumentalness    2404587.0       0.240339       0.359388     0.0       0.0000       0.00104       0.5530  1.000000e+00\n",
       "liveness            2404587.0       0.191599       0.163971     0.0       0.0945       0.12300       0.2380  1.000000e+00\n",
       "loudness            2404587.0      -9.908856       5.874450   -60.0     -12.1450      -8.29400      -5.9290  5.842000e+00\n",
       "speechiness         2404587.0       0.095743       0.122753     0.0       0.0366       0.04920       0.0912  9.700000e-01\n",
       "tempo               2404587.0     119.928203      29.535507     0.0      96.9970     120.02400     138.0100  2.499870e+02\n",
       "valence             2404587.0       0.464009       0.267971     0.0       0.2370       0.45100       0.6800  1.000000e+00"
      ]
     },
     "execution_count": 65,
     "metadata": {},
     "output_type": "execute_result"
    }
   ],
   "source": [
    "songs.describe().T"
   ]
  },
  {
   "cell_type": "code",
   "execution_count": 66,
   "metadata": {
    "ExecuteTime": {
     "end_time": "2019-11-16T23:48:21.182372Z",
     "start_time": "2019-11-16T23:47:36.100535Z"
    }
   },
   "outputs": [],
   "source": [
    "# Export to CSV\n",
    "songs.to_csv(\"Data/songs.csv\")"
   ]
  },
  {
   "cell_type": "markdown",
   "metadata": {},
   "source": [
    "## Data > Artists"
   ]
  },
  {
   "cell_type": "markdown",
   "metadata": {},
   "source": [
    "### Import Data"
   ]
  },
  {
   "cell_type": "code",
   "execution_count": 2,
   "metadata": {
    "ExecuteTime": {
     "end_time": "2019-11-17T00:00:19.000500Z",
     "start_time": "2019-11-17T00:00:06.920620Z"
    }
   },
   "outputs": [
    {
     "name": "stdout",
     "output_type": "stream",
     "text": [
      "<class 'pandas.core.frame.DataFrame'>\n",
      "RangeIndex: 2405275 entries, 0 to 2405274\n",
      "Data columns (total 17 columns):\n",
      "track_id              object\n",
      "artist_id             object\n",
      "artist_name           object\n",
      "artist_followers      float64\n",
      "artist_popularity     float64\n",
      "track_popularity      float64\n",
      "track_release_year    float64\n",
      "acousticness          float64\n",
      "danceability          float64\n",
      "duration_ms           float64\n",
      "energy                float64\n",
      "instrumentalness      float64\n",
      "liveness              float64\n",
      "loudness              float64\n",
      "speechiness           float64\n",
      "tempo                 float64\n",
      "valence               float64\n",
      "dtypes: float64(14), object(3)\n",
      "memory usage: 312.0+ MB\n",
      "None\n"
     ]
    },
    {
     "data": {
      "text/html": [
       "<div>\n",
       "<style scoped>\n",
       "    .dataframe tbody tr th:only-of-type {\n",
       "        vertical-align: middle;\n",
       "    }\n",
       "\n",
       "    .dataframe tbody tr th {\n",
       "        vertical-align: top;\n",
       "    }\n",
       "\n",
       "    .dataframe thead th {\n",
       "        text-align: right;\n",
       "    }\n",
       "</style>\n",
       "<table border=\"1\" class=\"dataframe\">\n",
       "  <thead>\n",
       "    <tr style=\"text-align: right;\">\n",
       "      <th></th>\n",
       "      <th>track_id</th>\n",
       "      <th>artist_id</th>\n",
       "      <th>artist_name</th>\n",
       "      <th>artist_followers</th>\n",
       "      <th>artist_popularity</th>\n",
       "      <th>track_popularity</th>\n",
       "      <th>track_release_year</th>\n",
       "      <th>acousticness</th>\n",
       "      <th>danceability</th>\n",
       "      <th>duration_ms</th>\n",
       "      <th>energy</th>\n",
       "      <th>instrumentalness</th>\n",
       "      <th>liveness</th>\n",
       "      <th>loudness</th>\n",
       "      <th>speechiness</th>\n",
       "      <th>tempo</th>\n",
       "      <th>valence</th>\n",
       "    </tr>\n",
       "  </thead>\n",
       "  <tbody>\n",
       "    <tr>\n",
       "      <th>0</th>\n",
       "      <td>0001ETU9DQ1EDGwQODbyLP</td>\n",
       "      <td>4Mf2Y2nSSWsNLSgxvAhTIj</td>\n",
       "      <td>Luke Cole</td>\n",
       "      <td>169.0</td>\n",
       "      <td>27.0</td>\n",
       "      <td>26.0</td>\n",
       "      <td>2017.0</td>\n",
       "      <td>0.7270</td>\n",
       "      <td>0.177</td>\n",
       "      <td>100523.0</td>\n",
       "      <td>0.275</td>\n",
       "      <td>0.000000</td>\n",
       "      <td>0.141</td>\n",
       "      <td>-12.961</td>\n",
       "      <td>0.0401</td>\n",
       "      <td>114.181</td>\n",
       "      <td>0.0351</td>\n",
       "    </tr>\n",
       "    <tr>\n",
       "      <th>1</th>\n",
       "      <td>0001px4jtydNsUqu1oRgkT</td>\n",
       "      <td>52WV9rEqSP9z9fcxeywOtz</td>\n",
       "      <td>The Sparks</td>\n",
       "      <td>937.0</td>\n",
       "      <td>23.0</td>\n",
       "      <td>7.0</td>\n",
       "      <td>2009.0</td>\n",
       "      <td>0.0788</td>\n",
       "      <td>0.622</td>\n",
       "      <td>162773.0</td>\n",
       "      <td>0.911</td>\n",
       "      <td>0.832000</td>\n",
       "      <td>0.242</td>\n",
       "      <td>-4.421</td>\n",
       "      <td>0.0340</td>\n",
       "      <td>135.523</td>\n",
       "      <td>0.6550</td>\n",
       "    </tr>\n",
       "    <tr>\n",
       "      <th>2</th>\n",
       "      <td>000254o6oXjLDip6sUPHcL</td>\n",
       "      <td>5D0WwKVD3KVdOnMZJLTo96</td>\n",
       "      <td>One Call</td>\n",
       "      <td>846.0</td>\n",
       "      <td>3.0</td>\n",
       "      <td>0.0</td>\n",
       "      <td>2009.0</td>\n",
       "      <td>0.6610</td>\n",
       "      <td>0.550</td>\n",
       "      <td>394720.0</td>\n",
       "      <td>0.415</td>\n",
       "      <td>0.000015</td>\n",
       "      <td>0.171</td>\n",
       "      <td>-9.211</td>\n",
       "      <td>0.0253</td>\n",
       "      <td>145.992</td>\n",
       "      <td>0.2310</td>\n",
       "    </tr>\n",
       "    <tr>\n",
       "      <th>3</th>\n",
       "      <td>0003vV1RhR0OHyTfrrIHyd</td>\n",
       "      <td>1Lkx061Y0k6Szk3Ee0KI2V</td>\n",
       "      <td>Joy Lapps</td>\n",
       "      <td>55.0</td>\n",
       "      <td>2.0</td>\n",
       "      <td>1.0</td>\n",
       "      <td>2006.0</td>\n",
       "      <td>0.4940</td>\n",
       "      <td>0.623</td>\n",
       "      <td>378880.0</td>\n",
       "      <td>0.542</td>\n",
       "      <td>0.327000</td>\n",
       "      <td>0.111</td>\n",
       "      <td>-9.374</td>\n",
       "      <td>0.0412</td>\n",
       "      <td>84.074</td>\n",
       "      <td>0.6080</td>\n",
       "    </tr>\n",
       "    <tr>\n",
       "      <th>4</th>\n",
       "      <td>0004AYxyqRFP0GC8ZZO2lG</td>\n",
       "      <td>4I1iKyF3JdZ8sR9RHdGFfJ</td>\n",
       "      <td>BLKD</td>\n",
       "      <td>1837.0</td>\n",
       "      <td>23.0</td>\n",
       "      <td>14.0</td>\n",
       "      <td>2019.0</td>\n",
       "      <td>0.4180</td>\n",
       "      <td>0.739</td>\n",
       "      <td>177981.0</td>\n",
       "      <td>0.445</td>\n",
       "      <td>0.001370</td>\n",
       "      <td>0.105</td>\n",
       "      <td>-12.608</td>\n",
       "      <td>0.2240</td>\n",
       "      <td>174.105</td>\n",
       "      <td>0.3810</td>\n",
       "    </tr>\n",
       "  </tbody>\n",
       "</table>\n",
       "</div>"
      ],
      "text/plain": [
       "                 track_id               artist_id artist_name  artist_followers  artist_popularity  track_popularity  track_release_year  acousticness  danceability  duration_ms  energy  instrumentalness  liveness  loudness  speechiness    tempo  valence\n",
       "0  0001ETU9DQ1EDGwQODbyLP  4Mf2Y2nSSWsNLSgxvAhTIj   Luke Cole             169.0               27.0              26.0              2017.0        0.7270         0.177     100523.0   0.275          0.000000     0.141   -12.961       0.0401  114.181   0.0351\n",
       "1  0001px4jtydNsUqu1oRgkT  52WV9rEqSP9z9fcxeywOtz  The Sparks             937.0               23.0               7.0              2009.0        0.0788         0.622     162773.0   0.911          0.832000     0.242    -4.421       0.0340  135.523   0.6550\n",
       "2  000254o6oXjLDip6sUPHcL  5D0WwKVD3KVdOnMZJLTo96    One Call             846.0                3.0               0.0              2009.0        0.6610         0.550     394720.0   0.415          0.000015     0.171    -9.211       0.0253  145.992   0.2310\n",
       "3  0003vV1RhR0OHyTfrrIHyd  1Lkx061Y0k6Szk3Ee0KI2V   Joy Lapps              55.0                2.0               1.0              2006.0        0.4940         0.623     378880.0   0.542          0.327000     0.111    -9.374       0.0412   84.074   0.6080\n",
       "4  0004AYxyqRFP0GC8ZZO2lG  4I1iKyF3JdZ8sR9RHdGFfJ        BLKD            1837.0               23.0              14.0              2019.0        0.4180         0.739     177981.0   0.445          0.001370     0.105   -12.608       0.2240  174.105   0.3810"
      ]
     },
     "execution_count": 2,
     "metadata": {},
     "output_type": "execute_result"
    }
   ],
   "source": [
    "# Read CSV to DataFrame\n",
    "artists = pd.read_csv('Data/data.csv')\n",
    "\n",
    "# Drop columns\n",
    "artists.drop(columns=['Unnamed: 0', 'track_name', 'artist_genres'], inplace=True)\n",
    "\n",
    "# Preview dataframe\n",
    "print(artists.info())\n",
    "artists.head()"
   ]
  },
  {
   "cell_type": "markdown",
   "metadata": {},
   "source": [
    "### Create DataFrame: \"artists_mean\""
   ]
  },
  {
   "cell_type": "code",
   "execution_count": 3,
   "metadata": {
    "ExecuteTime": {
     "end_time": "2019-11-17T00:00:20.748855Z",
     "start_time": "2019-11-17T00:00:19.002165Z"
    }
   },
   "outputs": [],
   "source": [
    "# Create dataframe: mean grouped by artist_id\n",
    "artists_mean = artists.groupby(['artist_id']).mean()"
   ]
  },
  {
   "cell_type": "code",
   "execution_count": 4,
   "metadata": {
    "ExecuteTime": {
     "end_time": "2019-11-17T00:00:20.761881Z",
     "start_time": "2019-11-17T00:00:20.750798Z"
    },
    "code_folding": []
   },
   "outputs": [],
   "source": [
    "# Re-name columns\n",
    "artists_mean.rename(columns={'artist_followers': 'artist_followers_mean', \n",
    "                             'artist_popularity': 'artist_popularity_mean', \n",
    "                             'track_popularity': 'track_popularity_mean', \n",
    "                             'track_release_year': 'track_release_year_mean',\n",
    "                             'danceability': 'danceability_mean', \n",
    "                             'energy': 'energy_mean',\n",
    "                             'loudness': 'loudness_mean', \n",
    "                             'speechiness': 'speechiness_mean', \n",
    "                             'acousticness': 'acousticness_mean', \n",
    "                             'instrumentalness': 'instrumentalness_mean', \n",
    "                             'liveness': 'liveness_mean', \n",
    "                             'valence': 'valence_mean', \n",
    "                             'tempo': 'tempo_mean', \n",
    "                             'duration_ms': 'duration_ms_mean'\n",
    "                            }, inplace=True)"
   ]
  },
  {
   "cell_type": "code",
   "execution_count": 5,
   "metadata": {
    "ExecuteTime": {
     "end_time": "2019-11-17T00:00:20.875021Z",
     "start_time": "2019-11-17T00:00:20.764168Z"
    }
   },
   "outputs": [
    {
     "name": "stdout",
     "output_type": "stream",
     "text": [
      "<class 'pandas.core.frame.DataFrame'>\n",
      "Index: 285709 entries, 0001ZVMPt41Vwzt1zsmuzp to 7zzzZIHQepsP640xf9UDt4\n",
      "Data columns (total 14 columns):\n",
      "artist_followers_mean      285188 non-null float64\n",
      "artist_popularity_mean     285194 non-null float64\n",
      "track_popularity_mean      285709 non-null float64\n",
      "track_release_year_mean    285709 non-null float64\n",
      "acousticness_mean          285709 non-null float64\n",
      "danceability_mean          285709 non-null float64\n",
      "duration_ms_mean           285709 non-null float64\n",
      "energy_mean                285709 non-null float64\n",
      "instrumentalness_mean      285709 non-null float64\n",
      "liveness_mean              285709 non-null float64\n",
      "loudness_mean              285709 non-null float64\n",
      "speechiness_mean           285709 non-null float64\n",
      "tempo_mean                 285709 non-null float64\n",
      "valence_mean               285709 non-null float64\n",
      "dtypes: float64(14)\n",
      "memory usage: 32.7+ MB\n"
     ]
    }
   ],
   "source": [
    "artists_mean.info()"
   ]
  },
  {
   "cell_type": "code",
   "execution_count": 6,
   "metadata": {
    "ExecuteTime": {
     "end_time": "2019-11-17T00:00:22.478697Z",
     "start_time": "2019-11-17T00:00:22.469852Z"
    }
   },
   "outputs": [],
   "source": [
    "# Replace NaNs with 0\n",
    "artists_mean.fillna(0, inplace=True)"
   ]
  },
  {
   "cell_type": "code",
   "execution_count": 7,
   "metadata": {
    "ExecuteTime": {
     "end_time": "2019-11-17T00:00:23.022579Z",
     "start_time": "2019-11-17T00:00:22.964800Z"
    }
   },
   "outputs": [
    {
     "name": "stdout",
     "output_type": "stream",
     "text": [
      "<class 'pandas.core.frame.DataFrame'>\n",
      "Index: 285709 entries, 0001ZVMPt41Vwzt1zsmuzp to 7zzzZIHQepsP640xf9UDt4\n",
      "Data columns (total 14 columns):\n",
      "artist_followers_mean      285709 non-null float64\n",
      "artist_popularity_mean     285709 non-null float64\n",
      "track_popularity_mean      285709 non-null float64\n",
      "track_release_year_mean    285709 non-null float64\n",
      "acousticness_mean          285709 non-null float64\n",
      "danceability_mean          285709 non-null float64\n",
      "duration_ms_mean           285709 non-null float64\n",
      "energy_mean                285709 non-null float64\n",
      "instrumentalness_mean      285709 non-null float64\n",
      "liveness_mean              285709 non-null float64\n",
      "loudness_mean              285709 non-null float64\n",
      "speechiness_mean           285709 non-null float64\n",
      "tempo_mean                 285709 non-null float64\n",
      "valence_mean               285709 non-null float64\n",
      "dtypes: float64(14)\n",
      "memory usage: 32.7+ MB\n"
     ]
    }
   ],
   "source": [
    "artists_mean.info()"
   ]
  },
  {
   "cell_type": "markdown",
   "metadata": {},
   "source": [
    "### Create DataFrame: \"artists_median\""
   ]
  },
  {
   "cell_type": "code",
   "execution_count": 8,
   "metadata": {
    "ExecuteTime": {
     "end_time": "2019-11-17T00:00:26.860448Z",
     "start_time": "2019-11-17T00:00:24.636305Z"
    }
   },
   "outputs": [],
   "source": [
    "# Create dataframe: median grouped by artist_id\n",
    "artists_median = artists.groupby(['artist_id']).median()"
   ]
  },
  {
   "cell_type": "code",
   "execution_count": 9,
   "metadata": {
    "ExecuteTime": {
     "end_time": "2019-11-17T00:00:26.874224Z",
     "start_time": "2019-11-17T00:00:26.862589Z"
    }
   },
   "outputs": [],
   "source": [
    "# Re-name columns\n",
    "artists_median.rename(columns={'artist_followers': 'artist_followers_median', \n",
    "                             'artist_popularity': 'artist_popularity_median', \n",
    "                             'track_popularity': 'track_popularity_median', \n",
    "                             'track_release_year': 'track_release_year_median', \n",
    "                             'danceability': 'danceability_median', \n",
    "                             'energy': 'energy_median', \n",
    "                             'loudness': 'loudness_median', \n",
    "                             'speechiness': 'speechiness_median', \n",
    "                             'acousticness': 'acousticness_median', \n",
    "                             'instrumentalness': 'instrumentalness_median', \n",
    "                             'liveness': 'liveness_median', \n",
    "                             'valence': 'valence_median', \n",
    "                             'tempo': 'tempo_median', \n",
    "                             'duration_ms': 'duration_ms_median'\n",
    "                            }, inplace=True)"
   ]
  },
  {
   "cell_type": "code",
   "execution_count": 10,
   "metadata": {
    "ExecuteTime": {
     "end_time": "2019-11-17T00:00:26.977361Z",
     "start_time": "2019-11-17T00:00:26.876889Z"
    }
   },
   "outputs": [
    {
     "name": "stdout",
     "output_type": "stream",
     "text": [
      "<class 'pandas.core.frame.DataFrame'>\n",
      "Index: 285709 entries, 0001ZVMPt41Vwzt1zsmuzp to 7zzzZIHQepsP640xf9UDt4\n",
      "Data columns (total 14 columns):\n",
      "artist_followers_median      285188 non-null float64\n",
      "artist_popularity_median     285194 non-null float64\n",
      "track_popularity_median      285709 non-null float64\n",
      "track_release_year_median    285709 non-null float64\n",
      "acousticness_median          285709 non-null float64\n",
      "danceability_median          285709 non-null float64\n",
      "duration_ms_median           285709 non-null float64\n",
      "energy_median                285709 non-null float64\n",
      "instrumentalness_median      285709 non-null float64\n",
      "liveness_median              285709 non-null float64\n",
      "loudness_median              285709 non-null float64\n",
      "speechiness_median           285709 non-null float64\n",
      "tempo_median                 285709 non-null float64\n",
      "valence_median               285709 non-null float64\n",
      "dtypes: float64(14)\n",
      "memory usage: 32.7+ MB\n"
     ]
    }
   ],
   "source": [
    "artists_median.info()"
   ]
  },
  {
   "cell_type": "code",
   "execution_count": 11,
   "metadata": {
    "ExecuteTime": {
     "end_time": "2019-11-17T00:00:26.991409Z",
     "start_time": "2019-11-17T00:00:26.980037Z"
    }
   },
   "outputs": [],
   "source": [
    "# Replace NaNs with 0\n",
    "artists_median.fillna(0, inplace=True)"
   ]
  },
  {
   "cell_type": "code",
   "execution_count": 12,
   "metadata": {
    "ExecuteTime": {
     "end_time": "2019-11-17T00:00:27.932175Z",
     "start_time": "2019-11-17T00:00:27.876902Z"
    }
   },
   "outputs": [
    {
     "name": "stdout",
     "output_type": "stream",
     "text": [
      "<class 'pandas.core.frame.DataFrame'>\n",
      "Index: 285709 entries, 0001ZVMPt41Vwzt1zsmuzp to 7zzzZIHQepsP640xf9UDt4\n",
      "Data columns (total 14 columns):\n",
      "artist_followers_median      285709 non-null float64\n",
      "artist_popularity_median     285709 non-null float64\n",
      "track_popularity_median      285709 non-null float64\n",
      "track_release_year_median    285709 non-null float64\n",
      "acousticness_median          285709 non-null float64\n",
      "danceability_median          285709 non-null float64\n",
      "duration_ms_median           285709 non-null float64\n",
      "energy_median                285709 non-null float64\n",
      "instrumentalness_median      285709 non-null float64\n",
      "liveness_median              285709 non-null float64\n",
      "loudness_median              285709 non-null float64\n",
      "speechiness_median           285709 non-null float64\n",
      "tempo_median                 285709 non-null float64\n",
      "valence_median               285709 non-null float64\n",
      "dtypes: float64(14)\n",
      "memory usage: 32.7+ MB\n"
     ]
    }
   ],
   "source": [
    "artists_median.info()"
   ]
  },
  {
   "cell_type": "markdown",
   "metadata": {},
   "source": [
    "### Create DataFrame: \"artists_std\""
   ]
  },
  {
   "cell_type": "code",
   "execution_count": 13,
   "metadata": {
    "ExecuteTime": {
     "end_time": "2019-11-17T00:00:31.209070Z",
     "start_time": "2019-11-17T00:00:29.372903Z"
    }
   },
   "outputs": [],
   "source": [
    "# Create dataframe: standard deviation grouped by artist_id\n",
    "artists_std = artists.groupby(['artist_id']).std()"
   ]
  },
  {
   "cell_type": "code",
   "execution_count": 14,
   "metadata": {
    "ExecuteTime": {
     "end_time": "2019-11-17T00:00:31.236421Z",
     "start_time": "2019-11-17T00:00:31.214229Z"
    }
   },
   "outputs": [],
   "source": [
    "# Drop columns: artist_followers_std & artist_popularity_std\n",
    "# Dropped because no standard deviation observed\n",
    "artists_std.drop(columns=['artist_followers', 'artist_popularity'], inplace=True)\n"
   ]
  },
  {
   "cell_type": "code",
   "execution_count": 15,
   "metadata": {
    "ExecuteTime": {
     "end_time": "2019-11-17T00:00:31.262625Z",
     "start_time": "2019-11-17T00:00:31.243325Z"
    }
   },
   "outputs": [],
   "source": [
    "# Re-name columns\n",
    "artists_std.rename(columns={'track_popularity': 'track_popularity_std', \n",
    "                             'track_release_year': 'track_release_year_std', \n",
    "                             'danceability': 'danceability_std', \n",
    "                             'energy': 'energy_std', \n",
    "                             'loudness': 'loudness_std', \n",
    "                             'speechiness': 'speechiness_std', \n",
    "                             'acousticness': 'acousticness_std', \n",
    "                             'instrumentalness': 'instrumentalness_std', \n",
    "                             'liveness': 'liveness_std', \n",
    "                             'valence': 'valence_std', \n",
    "                             'tempo': 'tempo_std', \n",
    "                             'duration_ms': 'duration_ms_std'\n",
    "                            }, inplace=True)"
   ]
  },
  {
   "cell_type": "code",
   "execution_count": 16,
   "metadata": {
    "ExecuteTime": {
     "end_time": "2019-11-17T00:00:31.369706Z",
     "start_time": "2019-11-17T00:00:31.266467Z"
    }
   },
   "outputs": [
    {
     "name": "stdout",
     "output_type": "stream",
     "text": [
      "<class 'pandas.core.frame.DataFrame'>\n",
      "Index: 285709 entries, 0001ZVMPt41Vwzt1zsmuzp to 7zzzZIHQepsP640xf9UDt4\n",
      "Data columns (total 12 columns):\n",
      "track_popularity_std      263369 non-null float64\n",
      "track_release_year_std    263369 non-null float64\n",
      "acousticness_std          263369 non-null float64\n",
      "danceability_std          263369 non-null float64\n",
      "duration_ms_std           263369 non-null float64\n",
      "energy_std                263369 non-null float64\n",
      "instrumentalness_std      263369 non-null float64\n",
      "liveness_std              263369 non-null float64\n",
      "loudness_std              263369 non-null float64\n",
      "speechiness_std           263369 non-null float64\n",
      "tempo_std                 263369 non-null float64\n",
      "valence_std               263369 non-null float64\n",
      "dtypes: float64(12)\n",
      "memory usage: 28.3+ MB\n"
     ]
    }
   ],
   "source": [
    "artists_std.info()"
   ]
  },
  {
   "cell_type": "code",
   "execution_count": 17,
   "metadata": {
    "ExecuteTime": {
     "end_time": "2019-11-17T00:00:31.384303Z",
     "start_time": "2019-11-17T00:00:31.371950Z"
    }
   },
   "outputs": [],
   "source": [
    "# Replace NaNs with 0\n",
    "artists_std.fillna(0, inplace=True)"
   ]
  },
  {
   "cell_type": "code",
   "execution_count": 18,
   "metadata": {
    "ExecuteTime": {
     "end_time": "2019-11-17T00:00:31.544428Z",
     "start_time": "2019-11-17T00:00:31.483452Z"
    }
   },
   "outputs": [
    {
     "name": "stdout",
     "output_type": "stream",
     "text": [
      "<class 'pandas.core.frame.DataFrame'>\n",
      "Index: 285709 entries, 0001ZVMPt41Vwzt1zsmuzp to 7zzzZIHQepsP640xf9UDt4\n",
      "Data columns (total 12 columns):\n",
      "track_popularity_std      285709 non-null float64\n",
      "track_release_year_std    285709 non-null float64\n",
      "acousticness_std          285709 non-null float64\n",
      "danceability_std          285709 non-null float64\n",
      "duration_ms_std           285709 non-null float64\n",
      "energy_std                285709 non-null float64\n",
      "instrumentalness_std      285709 non-null float64\n",
      "liveness_std              285709 non-null float64\n",
      "loudness_std              285709 non-null float64\n",
      "speechiness_std           285709 non-null float64\n",
      "tempo_std                 285709 non-null float64\n",
      "valence_std               285709 non-null float64\n",
      "dtypes: float64(12)\n",
      "memory usage: 28.3+ MB\n"
     ]
    }
   ],
   "source": [
    "artists_std.info()"
   ]
  },
  {
   "cell_type": "markdown",
   "metadata": {},
   "source": [
    "### Join \"artists_\" DataFrames"
   ]
  },
  {
   "cell_type": "code",
   "execution_count": 19,
   "metadata": {
    "ExecuteTime": {
     "end_time": "2019-11-17T00:00:37.178939Z",
     "start_time": "2019-11-17T00:00:36.827412Z"
    }
   },
   "outputs": [],
   "source": [
    "# Merge artists_mean & artists_median\n",
    "artists_joined1 = pd.merge(artists_mean, artists_median, \n",
    "                           on='artist_id', how='left')"
   ]
  },
  {
   "cell_type": "code",
   "execution_count": 20,
   "metadata": {
    "ExecuteTime": {
     "end_time": "2019-11-17T00:00:38.162684Z",
     "start_time": "2019-11-17T00:00:37.836379Z"
    }
   },
   "outputs": [],
   "source": [
    "# Merge previous join & artists_std\n",
    "artists_joined2 = pd.merge(artists_joined1, artists_std, \n",
    "                           on='artist_id', how='left')"
   ]
  },
  {
   "cell_type": "code",
   "execution_count": 22,
   "metadata": {
    "ExecuteTime": {
     "end_time": "2019-11-17T00:01:02.909076Z",
     "start_time": "2019-11-17T00:01:01.722074Z"
    }
   },
   "outputs": [
    {
     "name": "stdout",
     "output_type": "stream",
     "text": [
      "<class 'pandas.core.frame.DataFrame'>\n",
      "Index: 281929 entries, 4Mf2Y2nSSWsNLSgxvAhTIj to 6eby6NBafCZ8wmDx8qMkmF\n",
      "Data columns (total 1 columns):\n",
      "artist_name    281928 non-null object\n",
      "dtypes: object(1)\n",
      "memory usage: 4.3+ MB\n",
      "None\n"
     ]
    },
    {
     "data": {
      "text/html": [
       "<div>\n",
       "<style scoped>\n",
       "    .dataframe tbody tr th:only-of-type {\n",
       "        vertical-align: middle;\n",
       "    }\n",
       "\n",
       "    .dataframe tbody tr th {\n",
       "        vertical-align: top;\n",
       "    }\n",
       "\n",
       "    .dataframe thead th {\n",
       "        text-align: right;\n",
       "    }\n",
       "</style>\n",
       "<table border=\"1\" class=\"dataframe\">\n",
       "  <thead>\n",
       "    <tr style=\"text-align: right;\">\n",
       "      <th></th>\n",
       "      <th>artist_name</th>\n",
       "    </tr>\n",
       "    <tr>\n",
       "      <th>artist_id</th>\n",
       "      <th></th>\n",
       "    </tr>\n",
       "  </thead>\n",
       "  <tbody>\n",
       "    <tr>\n",
       "      <th>4Mf2Y2nSSWsNLSgxvAhTIj</th>\n",
       "      <td>Luke Cole</td>\n",
       "    </tr>\n",
       "    <tr>\n",
       "      <th>52WV9rEqSP9z9fcxeywOtz</th>\n",
       "      <td>The Sparks</td>\n",
       "    </tr>\n",
       "    <tr>\n",
       "      <th>5D0WwKVD3KVdOnMZJLTo96</th>\n",
       "      <td>One Call</td>\n",
       "    </tr>\n",
       "    <tr>\n",
       "      <th>1Lkx061Y0k6Szk3Ee0KI2V</th>\n",
       "      <td>Joy Lapps</td>\n",
       "    </tr>\n",
       "    <tr>\n",
       "      <th>4I1iKyF3JdZ8sR9RHdGFfJ</th>\n",
       "      <td>BLKD</td>\n",
       "    </tr>\n",
       "  </tbody>\n",
       "</table>\n",
       "</div>"
      ],
      "text/plain": [
       "                       artist_name\n",
       "artist_id                         \n",
       "4Mf2Y2nSSWsNLSgxvAhTIj   Luke Cole\n",
       "52WV9rEqSP9z9fcxeywOtz  The Sparks\n",
       "5D0WwKVD3KVdOnMZJLTo96    One Call\n",
       "1Lkx061Y0k6Szk3Ee0KI2V   Joy Lapps\n",
       "4I1iKyF3JdZ8sR9RHdGFfJ        BLKD"
      ]
     },
     "execution_count": 22,
     "metadata": {},
     "output_type": "execute_result"
    }
   ],
   "source": [
    "# Artists names\n",
    "\n",
    "# Create dataframe of artist names\n",
    "artists_names = artists[['artist_id', 'artist_name']].copy()\n",
    "\n",
    "# Set index\n",
    "artists_names.set_index('artist_id', inplace=True)\n",
    "\n",
    "# Drop duplicates\n",
    "artists_names.drop_duplicates(inplace=True)\n",
    "\n",
    "print(artists_names.info())\n",
    "artists_names.head()"
   ]
  },
  {
   "cell_type": "code",
   "execution_count": 24,
   "metadata": {
    "ExecuteTime": {
     "end_time": "2019-11-17T00:01:18.660756Z",
     "start_time": "2019-11-17T00:01:18.257153Z"
    }
   },
   "outputs": [],
   "source": [
    "# Merge previous join2 & artists_names\n",
    "artists_joined3 = pd.merge(artists_joined2, artists_names, \n",
    "                           on='artist_id', how='left')"
   ]
  },
  {
   "cell_type": "code",
   "execution_count": 26,
   "metadata": {
    "ExecuteTime": {
     "end_time": "2019-11-17T00:01:58.999440Z",
     "start_time": "2019-11-17T00:01:58.158047Z"
    }
   },
   "outputs": [
    {
     "data": {
      "text/plain": [
       "50"
      ]
     },
     "execution_count": 26,
     "metadata": {},
     "output_type": "execute_result"
    }
   ],
   "source": [
    "# Count duplicate rows\n",
    "artists_joined3.duplicated().sum()"
   ]
  },
  {
   "cell_type": "code",
   "execution_count": 27,
   "metadata": {
    "ExecuteTime": {
     "end_time": "2019-11-17T00:02:05.911662Z",
     "start_time": "2019-11-17T00:02:04.992876Z"
    }
   },
   "outputs": [],
   "source": [
    "# Drop duplicate rows\n",
    "artists_joined3.drop_duplicates(inplace=True)"
   ]
  },
  {
   "cell_type": "code",
   "execution_count": 28,
   "metadata": {
    "ExecuteTime": {
     "end_time": "2019-11-17T00:02:10.320419Z",
     "start_time": "2019-11-17T00:02:10.273323Z"
    }
   },
   "outputs": [],
   "source": [
    "# Re-order columns\n",
    "artists_joined3 = artists_joined3[['artist_name',\n",
    "                                   'artist_followers_mean','artist_followers_median',\n",
    "                                   'artist_popularity_mean','artist_popularity_median',\n",
    "                                   'track_popularity_mean','track_popularity_median','track_popularity_std',\n",
    "                                   'track_release_year_mean','track_release_year_median','track_release_year_std',\n",
    "                                   'acousticness_mean','acousticness_median','acousticness_std',\n",
    "                                   'danceability_mean','danceability_median','danceability_std',\n",
    "                                   'duration_ms_mean','duration_ms_median','duration_ms_std',\n",
    "                                   'energy_mean','energy_median','energy_std',\n",
    "                                   'instrumentalness_mean','instrumentalness_median','instrumentalness_std',\n",
    "                                   'liveness_mean','liveness_median','liveness_std',\n",
    "                                   'loudness_mean','loudness_median','loudness_std',\n",
    "                                   'speechiness_mean','speechiness_median','speechiness_std',\n",
    "                                   'tempo_mean','tempo_median','tempo_std',\n",
    "                                   'valence_mean','valence_median','valence_std'\n",
    "                                  ]]"
   ]
  },
  {
   "cell_type": "code",
   "execution_count": 29,
   "metadata": {
    "ExecuteTime": {
     "end_time": "2019-11-17T00:02:17.466201Z",
     "start_time": "2019-11-17T00:02:17.390827Z"
    }
   },
   "outputs": [],
   "source": [
    "# Drop artist_followers_median & artist_popularity_median columns\n",
    "artists_joined3.drop(columns=['artist_followers_median', 'artist_popularity_median'], inplace=True)"
   ]
  },
  {
   "cell_type": "code",
   "execution_count": 30,
   "metadata": {
    "ExecuteTime": {
     "end_time": "2019-11-17T00:02:17.922336Z",
     "start_time": "2019-11-17T00:02:17.872913Z"
    }
   },
   "outputs": [],
   "source": [
    "# Re-name artist_followers & artist_popularity columns\n",
    "artists_joined3.rename(columns={'artist_followers_mean': 'artist_followers', \n",
    "                                'artist_popularity_mean': 'artist_popularity'\n",
    "                               }, inplace=True)"
   ]
  },
  {
   "cell_type": "markdown",
   "metadata": {},
   "source": [
    "### Export to CSV"
   ]
  },
  {
   "cell_type": "code",
   "execution_count": 31,
   "metadata": {
    "ExecuteTime": {
     "end_time": "2019-11-17T00:02:26.021343Z",
     "start_time": "2019-11-17T00:02:25.779026Z"
    }
   },
   "outputs": [
    {
     "name": "stdout",
     "output_type": "stream",
     "text": [
      "<class 'pandas.core.frame.DataFrame'>\n",
      "Index: 285659 entries, 0001ZVMPt41Vwzt1zsmuzp to 7zzzZIHQepsP640xf9UDt4\n",
      "Data columns (total 39 columns):\n",
      "artist_name                  281928 non-null object\n",
      "artist_followers             285659 non-null float64\n",
      "artist_popularity            285659 non-null float64\n",
      "track_popularity_mean        285659 non-null float64\n",
      "track_popularity_median      285659 non-null float64\n",
      "track_popularity_std         285659 non-null float64\n",
      "track_release_year_mean      285659 non-null float64\n",
      "track_release_year_median    285659 non-null float64\n",
      "track_release_year_std       285659 non-null float64\n",
      "acousticness_mean            285659 non-null float64\n",
      "acousticness_median          285659 non-null float64\n",
      "acousticness_std             285659 non-null float64\n",
      "danceability_mean            285659 non-null float64\n",
      "danceability_median          285659 non-null float64\n",
      "danceability_std             285659 non-null float64\n",
      "duration_ms_mean             285659 non-null float64\n",
      "duration_ms_median           285659 non-null float64\n",
      "duration_ms_std              285659 non-null float64\n",
      "energy_mean                  285659 non-null float64\n",
      "energy_median                285659 non-null float64\n",
      "energy_std                   285659 non-null float64\n",
      "instrumentalness_mean        285659 non-null float64\n",
      "instrumentalness_median      285659 non-null float64\n",
      "instrumentalness_std         285659 non-null float64\n",
      "liveness_mean                285659 non-null float64\n",
      "liveness_median              285659 non-null float64\n",
      "liveness_std                 285659 non-null float64\n",
      "loudness_mean                285659 non-null float64\n",
      "loudness_median              285659 non-null float64\n",
      "loudness_std                 285659 non-null float64\n",
      "speechiness_mean             285659 non-null float64\n",
      "speechiness_median           285659 non-null float64\n",
      "speechiness_std              285659 non-null float64\n",
      "tempo_mean                   285659 non-null float64\n",
      "tempo_median                 285659 non-null float64\n",
      "tempo_std                    285659 non-null float64\n",
      "valence_mean                 285659 non-null float64\n",
      "valence_median               285659 non-null float64\n",
      "valence_std                  285659 non-null float64\n",
      "dtypes: float64(38), object(1)\n",
      "memory usage: 87.2+ MB\n",
      "None\n"
     ]
    },
    {
     "data": {
      "text/html": [
       "<div>\n",
       "<style scoped>\n",
       "    .dataframe tbody tr th:only-of-type {\n",
       "        vertical-align: middle;\n",
       "    }\n",
       "\n",
       "    .dataframe tbody tr th {\n",
       "        vertical-align: top;\n",
       "    }\n",
       "\n",
       "    .dataframe thead th {\n",
       "        text-align: right;\n",
       "    }\n",
       "</style>\n",
       "<table border=\"1\" class=\"dataframe\">\n",
       "  <thead>\n",
       "    <tr style=\"text-align: right;\">\n",
       "      <th></th>\n",
       "      <th>artist_name</th>\n",
       "      <th>artist_followers</th>\n",
       "      <th>artist_popularity</th>\n",
       "      <th>track_popularity_mean</th>\n",
       "      <th>track_popularity_median</th>\n",
       "      <th>track_popularity_std</th>\n",
       "      <th>track_release_year_mean</th>\n",
       "      <th>track_release_year_median</th>\n",
       "      <th>track_release_year_std</th>\n",
       "      <th>acousticness_mean</th>\n",
       "      <th>acousticness_median</th>\n",
       "      <th>acousticness_std</th>\n",
       "      <th>danceability_mean</th>\n",
       "      <th>danceability_median</th>\n",
       "      <th>danceability_std</th>\n",
       "      <th>duration_ms_mean</th>\n",
       "      <th>duration_ms_median</th>\n",
       "      <th>duration_ms_std</th>\n",
       "      <th>energy_mean</th>\n",
       "      <th>energy_median</th>\n",
       "      <th>energy_std</th>\n",
       "      <th>instrumentalness_mean</th>\n",
       "      <th>instrumentalness_median</th>\n",
       "      <th>instrumentalness_std</th>\n",
       "      <th>liveness_mean</th>\n",
       "      <th>liveness_median</th>\n",
       "      <th>liveness_std</th>\n",
       "      <th>loudness_mean</th>\n",
       "      <th>loudness_median</th>\n",
       "      <th>loudness_std</th>\n",
       "      <th>speechiness_mean</th>\n",
       "      <th>speechiness_median</th>\n",
       "      <th>speechiness_std</th>\n",
       "      <th>tempo_mean</th>\n",
       "      <th>tempo_median</th>\n",
       "      <th>tempo_std</th>\n",
       "      <th>valence_mean</th>\n",
       "      <th>valence_median</th>\n",
       "      <th>valence_std</th>\n",
       "    </tr>\n",
       "    <tr>\n",
       "      <th>artist_id</th>\n",
       "      <th></th>\n",
       "      <th></th>\n",
       "      <th></th>\n",
       "      <th></th>\n",
       "      <th></th>\n",
       "      <th></th>\n",
       "      <th></th>\n",
       "      <th></th>\n",
       "      <th></th>\n",
       "      <th></th>\n",
       "      <th></th>\n",
       "      <th></th>\n",
       "      <th></th>\n",
       "      <th></th>\n",
       "      <th></th>\n",
       "      <th></th>\n",
       "      <th></th>\n",
       "      <th></th>\n",
       "      <th></th>\n",
       "      <th></th>\n",
       "      <th></th>\n",
       "      <th></th>\n",
       "      <th></th>\n",
       "      <th></th>\n",
       "      <th></th>\n",
       "      <th></th>\n",
       "      <th></th>\n",
       "      <th></th>\n",
       "      <th></th>\n",
       "      <th></th>\n",
       "      <th></th>\n",
       "      <th></th>\n",
       "      <th></th>\n",
       "      <th></th>\n",
       "      <th></th>\n",
       "      <th></th>\n",
       "      <th></th>\n",
       "      <th></th>\n",
       "      <th></th>\n",
       "    </tr>\n",
       "  </thead>\n",
       "  <tbody>\n",
       "    <tr>\n",
       "      <th>0001ZVMPt41Vwzt1zsmuzp</th>\n",
       "      <td>Thyro &amp; Yumi</td>\n",
       "      <td>11327.0</td>\n",
       "      <td>11.0</td>\n",
       "      <td>19.5</td>\n",
       "      <td>19.5</td>\n",
       "      <td>2.121320</td>\n",
       "      <td>2017.5</td>\n",
       "      <td>2017.5</td>\n",
       "      <td>0.707107</td>\n",
       "      <td>0.206200</td>\n",
       "      <td>0.206200</td>\n",
       "      <td>0.241548</td>\n",
       "      <td>0.7570</td>\n",
       "      <td>0.7570</td>\n",
       "      <td>0.049497</td>\n",
       "      <td>223839.0</td>\n",
       "      <td>223839.0</td>\n",
       "      <td>6692.058577</td>\n",
       "      <td>0.75300</td>\n",
       "      <td>0.7530</td>\n",
       "      <td>0.002828</td>\n",
       "      <td>0.000359</td>\n",
       "      <td>0.000359</td>\n",
       "      <td>0.000373</td>\n",
       "      <td>0.15810</td>\n",
       "      <td>0.15810</td>\n",
       "      <td>0.111581</td>\n",
       "      <td>-4.9795</td>\n",
       "      <td>-4.9795</td>\n",
       "      <td>1.560585</td>\n",
       "      <td>0.04040</td>\n",
       "      <td>0.04040</td>\n",
       "      <td>0.012869</td>\n",
       "      <td>108.4635</td>\n",
       "      <td>108.4635</td>\n",
       "      <td>4.913685</td>\n",
       "      <td>0.73300</td>\n",
       "      <td>0.733</td>\n",
       "      <td>0.332340</td>\n",
       "    </tr>\n",
       "    <tr>\n",
       "      <th>0001wHqxbF2YYRQxGdbyER</th>\n",
       "      <td>Motion Drive</td>\n",
       "      <td>3532.0</td>\n",
       "      <td>18.0</td>\n",
       "      <td>8.9</td>\n",
       "      <td>9.0</td>\n",
       "      <td>4.012481</td>\n",
       "      <td>2014.0</td>\n",
       "      <td>2015.0</td>\n",
       "      <td>2.108185</td>\n",
       "      <td>0.012644</td>\n",
       "      <td>0.001355</td>\n",
       "      <td>0.024116</td>\n",
       "      <td>0.6489</td>\n",
       "      <td>0.6415</td>\n",
       "      <td>0.056717</td>\n",
       "      <td>481528.1</td>\n",
       "      <td>478160.0</td>\n",
       "      <td>43893.760352</td>\n",
       "      <td>0.73060</td>\n",
       "      <td>0.7920</td>\n",
       "      <td>0.155317</td>\n",
       "      <td>0.807800</td>\n",
       "      <td>0.810000</td>\n",
       "      <td>0.073014</td>\n",
       "      <td>0.19576</td>\n",
       "      <td>0.11750</td>\n",
       "      <td>0.155194</td>\n",
       "      <td>-8.6983</td>\n",
       "      <td>-7.7255</td>\n",
       "      <td>2.617272</td>\n",
       "      <td>0.04290</td>\n",
       "      <td>0.04120</td>\n",
       "      <td>0.010319</td>\n",
       "      <td>126.7034</td>\n",
       "      <td>132.0050</td>\n",
       "      <td>11.915851</td>\n",
       "      <td>0.21437</td>\n",
       "      <td>0.180</td>\n",
       "      <td>0.152289</td>\n",
       "    </tr>\n",
       "    <tr>\n",
       "      <th>000Dq0VqTZpxOP6jQMscVL</th>\n",
       "      <td>Thug Brothers</td>\n",
       "      <td>3482.0</td>\n",
       "      <td>14.0</td>\n",
       "      <td>10.4</td>\n",
       "      <td>9.0</td>\n",
       "      <td>10.807405</td>\n",
       "      <td>2014.0</td>\n",
       "      <td>2014.0</td>\n",
       "      <td>1.000000</td>\n",
       "      <td>0.025614</td>\n",
       "      <td>0.014500</td>\n",
       "      <td>0.031576</td>\n",
       "      <td>0.6450</td>\n",
       "      <td>0.6520</td>\n",
       "      <td>0.029043</td>\n",
       "      <td>199780.8</td>\n",
       "      <td>196253.0</td>\n",
       "      <td>27694.143717</td>\n",
       "      <td>0.88040</td>\n",
       "      <td>0.9010</td>\n",
       "      <td>0.055694</td>\n",
       "      <td>0.006660</td>\n",
       "      <td>0.000000</td>\n",
       "      <td>0.014892</td>\n",
       "      <td>0.29640</td>\n",
       "      <td>0.32900</td>\n",
       "      <td>0.094614</td>\n",
       "      <td>-4.2056</td>\n",
       "      <td>-4.6680</td>\n",
       "      <td>1.129464</td>\n",
       "      <td>0.13080</td>\n",
       "      <td>0.05010</td>\n",
       "      <td>0.114962</td>\n",
       "      <td>158.6588</td>\n",
       "      <td>160.0360</td>\n",
       "      <td>10.963097</td>\n",
       "      <td>0.55840</td>\n",
       "      <td>0.605</td>\n",
       "      <td>0.264162</td>\n",
       "    </tr>\n",
       "    <tr>\n",
       "      <th>000ESzt0wlQI41YbKYGIkf</th>\n",
       "      <td>Zach Russell</td>\n",
       "      <td>36.0</td>\n",
       "      <td>0.0</td>\n",
       "      <td>0.0</td>\n",
       "      <td>0.0</td>\n",
       "      <td>0.000000</td>\n",
       "      <td>2015.6</td>\n",
       "      <td>2014.0</td>\n",
       "      <td>2.065591</td>\n",
       "      <td>0.480650</td>\n",
       "      <td>0.523000</td>\n",
       "      <td>0.388906</td>\n",
       "      <td>0.5628</td>\n",
       "      <td>0.5440</td>\n",
       "      <td>0.171955</td>\n",
       "      <td>217349.5</td>\n",
       "      <td>216398.5</td>\n",
       "      <td>10805.481430</td>\n",
       "      <td>0.38932</td>\n",
       "      <td>0.4950</td>\n",
       "      <td>0.227478</td>\n",
       "      <td>0.015326</td>\n",
       "      <td>0.000000</td>\n",
       "      <td>0.048374</td>\n",
       "      <td>0.15210</td>\n",
       "      <td>0.09685</td>\n",
       "      <td>0.151020</td>\n",
       "      <td>-8.9797</td>\n",
       "      <td>-8.6720</td>\n",
       "      <td>1.977170</td>\n",
       "      <td>0.06714</td>\n",
       "      <td>0.04655</td>\n",
       "      <td>0.045628</td>\n",
       "      <td>112.6615</td>\n",
       "      <td>112.0185</td>\n",
       "      <td>19.636695</td>\n",
       "      <td>0.38670</td>\n",
       "      <td>0.405</td>\n",
       "      <td>0.129500</td>\n",
       "    </tr>\n",
       "    <tr>\n",
       "      <th>000NbZqISnuKaqmw33JxTV</th>\n",
       "      <td>Carlos Nakai</td>\n",
       "      <td>445.0</td>\n",
       "      <td>9.0</td>\n",
       "      <td>17.0</td>\n",
       "      <td>17.0</td>\n",
       "      <td>0.000000</td>\n",
       "      <td>2018.0</td>\n",
       "      <td>2018.0</td>\n",
       "      <td>0.000000</td>\n",
       "      <td>0.995000</td>\n",
       "      <td>0.995000</td>\n",
       "      <td>0.000000</td>\n",
       "      <td>0.3190</td>\n",
       "      <td>0.3190</td>\n",
       "      <td>0.000000</td>\n",
       "      <td>103307.0</td>\n",
       "      <td>103307.0</td>\n",
       "      <td>0.000000</td>\n",
       "      <td>0.02340</td>\n",
       "      <td>0.0234</td>\n",
       "      <td>0.000000</td>\n",
       "      <td>0.710000</td>\n",
       "      <td>0.710000</td>\n",
       "      <td>0.000000</td>\n",
       "      <td>0.10600</td>\n",
       "      <td>0.10600</td>\n",
       "      <td>0.000000</td>\n",
       "      <td>-23.8090</td>\n",
       "      <td>-23.8090</td>\n",
       "      <td>0.000000</td>\n",
       "      <td>0.04500</td>\n",
       "      <td>0.04500</td>\n",
       "      <td>0.000000</td>\n",
       "      <td>69.3040</td>\n",
       "      <td>69.3040</td>\n",
       "      <td>0.000000</td>\n",
       "      <td>0.52500</td>\n",
       "      <td>0.525</td>\n",
       "      <td>0.000000</td>\n",
       "    </tr>\n",
       "  </tbody>\n",
       "</table>\n",
       "</div>"
      ],
      "text/plain": [
       "                          artist_name  artist_followers  artist_popularity  track_popularity_mean  track_popularity_median  track_popularity_std  track_release_year_mean  track_release_year_median  track_release_year_std  acousticness_mean  acousticness_median  acousticness_std  danceability_mean  danceability_median  danceability_std  duration_ms_mean  duration_ms_median  duration_ms_std  energy_mean  energy_median  energy_std  instrumentalness_mean  instrumentalness_median  instrumentalness_std  liveness_mean  liveness_median  liveness_std  loudness_mean  loudness_median  loudness_std  speechiness_mean  speechiness_median  speechiness_std  tempo_mean  tempo_median  tempo_std  valence_mean  valence_median  valence_std\n",
       "artist_id                                                                                                                                                                                                                                                                                                                                                                                                                                                                                                                                                                                                                                                                                                                                               \n",
       "0001ZVMPt41Vwzt1zsmuzp   Thyro & Yumi           11327.0               11.0                   19.5                     19.5              2.121320                   2017.5                     2017.5                0.707107           0.206200             0.206200          0.241548             0.7570               0.7570          0.049497          223839.0            223839.0      6692.058577      0.75300         0.7530    0.002828               0.000359                 0.000359              0.000373        0.15810          0.15810      0.111581        -4.9795          -4.9795      1.560585           0.04040             0.04040         0.012869    108.4635      108.4635   4.913685       0.73300           0.733     0.332340\n",
       "0001wHqxbF2YYRQxGdbyER   Motion Drive            3532.0               18.0                    8.9                      9.0              4.012481                   2014.0                     2015.0                2.108185           0.012644             0.001355          0.024116             0.6489               0.6415          0.056717          481528.1            478160.0     43893.760352      0.73060         0.7920    0.155317               0.807800                 0.810000              0.073014        0.19576          0.11750      0.155194        -8.6983          -7.7255      2.617272           0.04290             0.04120         0.010319    126.7034      132.0050  11.915851       0.21437           0.180     0.152289\n",
       "000Dq0VqTZpxOP6jQMscVL  Thug Brothers            3482.0               14.0                   10.4                      9.0             10.807405                   2014.0                     2014.0                1.000000           0.025614             0.014500          0.031576             0.6450               0.6520          0.029043          199780.8            196253.0     27694.143717      0.88040         0.9010    0.055694               0.006660                 0.000000              0.014892        0.29640          0.32900      0.094614        -4.2056          -4.6680      1.129464           0.13080             0.05010         0.114962    158.6588      160.0360  10.963097       0.55840           0.605     0.264162\n",
       "000ESzt0wlQI41YbKYGIkf   Zach Russell              36.0                0.0                    0.0                      0.0              0.000000                   2015.6                     2014.0                2.065591           0.480650             0.523000          0.388906             0.5628               0.5440          0.171955          217349.5            216398.5     10805.481430      0.38932         0.4950    0.227478               0.015326                 0.000000              0.048374        0.15210          0.09685      0.151020        -8.9797          -8.6720      1.977170           0.06714             0.04655         0.045628    112.6615      112.0185  19.636695       0.38670           0.405     0.129500\n",
       "000NbZqISnuKaqmw33JxTV   Carlos Nakai             445.0                9.0                   17.0                     17.0              0.000000                   2018.0                     2018.0                0.000000           0.995000             0.995000          0.000000             0.3190               0.3190          0.000000          103307.0            103307.0         0.000000      0.02340         0.0234    0.000000               0.710000                 0.710000              0.000000        0.10600          0.10600      0.000000       -23.8090         -23.8090      0.000000           0.04500             0.04500         0.000000     69.3040       69.3040   0.000000       0.52500           0.525     0.000000"
      ]
     },
     "execution_count": 31,
     "metadata": {},
     "output_type": "execute_result"
    }
   ],
   "source": [
    "# Preview dataframe\n",
    "print(artists_joined3.info())\n",
    "artists_joined3.head()"
   ]
  },
  {
   "cell_type": "code",
   "execution_count": 32,
   "metadata": {
    "ExecuteTime": {
     "end_time": "2019-11-17T00:03:21.490793Z",
     "start_time": "2019-11-17T00:03:06.668557Z"
    }
   },
   "outputs": [],
   "source": [
    "# Export to CSV\n",
    "artists_joined3.to_csv(\"Data/artists.csv\")"
   ]
  },
  {
   "cell_type": "markdown",
   "metadata": {},
   "source": [
    "# EDA"
   ]
  },
  {
   "cell_type": "markdown",
   "metadata": {},
   "source": [
    "## Songs EDA"
   ]
  },
  {
   "cell_type": "code",
   "execution_count": 81,
   "metadata": {
    "ExecuteTime": {
     "end_time": "2019-11-16T22:56:30.282455Z",
     "start_time": "2019-11-16T22:56:24.288573Z"
    }
   },
   "outputs": [],
   "source": [
    "# Read CSV to DataFrame\n",
    "songs = pd.read_csv('Data/songs.csv')\n",
    "songs.drop(columns=['Unnamed: 0'], inplace=True)"
   ]
  },
  {
   "cell_type": "code",
   "execution_count": 82,
   "metadata": {
    "ExecuteTime": {
     "end_time": "2019-11-16T22:56:30.326424Z",
     "start_time": "2019-11-16T22:56:30.285240Z"
    }
   },
   "outputs": [
    {
     "name": "stdout",
     "output_type": "stream",
     "text": [
      "<class 'pandas.core.frame.DataFrame'>\n",
      "RangeIndex: 2404422 entries, 0 to 2404421\n",
      "Data columns (total 15 columns):\n",
      "track_id              object\n",
      "artist_followers      float64\n",
      "artist_popularity     float64\n",
      "track_popularity      float64\n",
      "track_release_year    float64\n",
      "acousticness          float64\n",
      "danceability          float64\n",
      "duration_ms           float64\n",
      "energy                float64\n",
      "instrumentalness      float64\n",
      "liveness              float64\n",
      "loudness              float64\n",
      "speechiness           float64\n",
      "tempo                 float64\n",
      "valence               float64\n",
      "dtypes: float64(14), object(1)\n",
      "memory usage: 275.2+ MB\n",
      "None\n"
     ]
    },
    {
     "data": {
      "text/html": [
       "<div>\n",
       "<style scoped>\n",
       "    .dataframe tbody tr th:only-of-type {\n",
       "        vertical-align: middle;\n",
       "    }\n",
       "\n",
       "    .dataframe tbody tr th {\n",
       "        vertical-align: top;\n",
       "    }\n",
       "\n",
       "    .dataframe thead th {\n",
       "        text-align: right;\n",
       "    }\n",
       "</style>\n",
       "<table border=\"1\" class=\"dataframe\">\n",
       "  <thead>\n",
       "    <tr style=\"text-align: right;\">\n",
       "      <th></th>\n",
       "      <th>track_id</th>\n",
       "      <th>artist_followers</th>\n",
       "      <th>artist_popularity</th>\n",
       "      <th>track_popularity</th>\n",
       "      <th>track_release_year</th>\n",
       "      <th>acousticness</th>\n",
       "      <th>danceability</th>\n",
       "      <th>duration_ms</th>\n",
       "      <th>energy</th>\n",
       "      <th>instrumentalness</th>\n",
       "      <th>liveness</th>\n",
       "      <th>loudness</th>\n",
       "      <th>speechiness</th>\n",
       "      <th>tempo</th>\n",
       "      <th>valence</th>\n",
       "    </tr>\n",
       "  </thead>\n",
       "  <tbody>\n",
       "    <tr>\n",
       "      <th>0</th>\n",
       "      <td>0001ETU9DQ1EDGwQODbyLP</td>\n",
       "      <td>169.0</td>\n",
       "      <td>27.0</td>\n",
       "      <td>26.0</td>\n",
       "      <td>2017.0</td>\n",
       "      <td>0.7270</td>\n",
       "      <td>0.177</td>\n",
       "      <td>100523.0</td>\n",
       "      <td>0.275</td>\n",
       "      <td>0.000000</td>\n",
       "      <td>0.141</td>\n",
       "      <td>-12.961</td>\n",
       "      <td>0.0401</td>\n",
       "      <td>114.181</td>\n",
       "      <td>0.0351</td>\n",
       "    </tr>\n",
       "    <tr>\n",
       "      <th>1</th>\n",
       "      <td>0001px4jtydNsUqu1oRgkT</td>\n",
       "      <td>937.0</td>\n",
       "      <td>23.0</td>\n",
       "      <td>7.0</td>\n",
       "      <td>2009.0</td>\n",
       "      <td>0.0788</td>\n",
       "      <td>0.622</td>\n",
       "      <td>162773.0</td>\n",
       "      <td>0.911</td>\n",
       "      <td>0.832000</td>\n",
       "      <td>0.242</td>\n",
       "      <td>-4.421</td>\n",
       "      <td>0.0340</td>\n",
       "      <td>135.523</td>\n",
       "      <td>0.6550</td>\n",
       "    </tr>\n",
       "    <tr>\n",
       "      <th>2</th>\n",
       "      <td>000254o6oXjLDip6sUPHcL</td>\n",
       "      <td>846.0</td>\n",
       "      <td>3.0</td>\n",
       "      <td>0.0</td>\n",
       "      <td>2009.0</td>\n",
       "      <td>0.6610</td>\n",
       "      <td>0.550</td>\n",
       "      <td>394720.0</td>\n",
       "      <td>0.415</td>\n",
       "      <td>0.000015</td>\n",
       "      <td>0.171</td>\n",
       "      <td>-9.211</td>\n",
       "      <td>0.0253</td>\n",
       "      <td>145.992</td>\n",
       "      <td>0.2310</td>\n",
       "    </tr>\n",
       "    <tr>\n",
       "      <th>3</th>\n",
       "      <td>0003vV1RhR0OHyTfrrIHyd</td>\n",
       "      <td>55.0</td>\n",
       "      <td>2.0</td>\n",
       "      <td>1.0</td>\n",
       "      <td>2006.0</td>\n",
       "      <td>0.4940</td>\n",
       "      <td>0.623</td>\n",
       "      <td>378880.0</td>\n",
       "      <td>0.542</td>\n",
       "      <td>0.327000</td>\n",
       "      <td>0.111</td>\n",
       "      <td>-9.374</td>\n",
       "      <td>0.0412</td>\n",
       "      <td>84.074</td>\n",
       "      <td>0.6080</td>\n",
       "    </tr>\n",
       "    <tr>\n",
       "      <th>4</th>\n",
       "      <td>0004AYxyqRFP0GC8ZZO2lG</td>\n",
       "      <td>1837.0</td>\n",
       "      <td>23.0</td>\n",
       "      <td>14.0</td>\n",
       "      <td>2019.0</td>\n",
       "      <td>0.4180</td>\n",
       "      <td>0.739</td>\n",
       "      <td>177981.0</td>\n",
       "      <td>0.445</td>\n",
       "      <td>0.001370</td>\n",
       "      <td>0.105</td>\n",
       "      <td>-12.608</td>\n",
       "      <td>0.2240</td>\n",
       "      <td>174.105</td>\n",
       "      <td>0.3810</td>\n",
       "    </tr>\n",
       "  </tbody>\n",
       "</table>\n",
       "</div>"
      ],
      "text/plain": [
       "                 track_id  artist_followers  artist_popularity  track_popularity  track_release_year  acousticness  danceability  duration_ms  energy  instrumentalness  liveness  loudness  speechiness    tempo  valence\n",
       "0  0001ETU9DQ1EDGwQODbyLP             169.0               27.0              26.0              2017.0        0.7270         0.177     100523.0   0.275          0.000000     0.141   -12.961       0.0401  114.181   0.0351\n",
       "1  0001px4jtydNsUqu1oRgkT             937.0               23.0               7.0              2009.0        0.0788         0.622     162773.0   0.911          0.832000     0.242    -4.421       0.0340  135.523   0.6550\n",
       "2  000254o6oXjLDip6sUPHcL             846.0                3.0               0.0              2009.0        0.6610         0.550     394720.0   0.415          0.000015     0.171    -9.211       0.0253  145.992   0.2310\n",
       "3  0003vV1RhR0OHyTfrrIHyd              55.0                2.0               1.0              2006.0        0.4940         0.623     378880.0   0.542          0.327000     0.111    -9.374       0.0412   84.074   0.6080\n",
       "4  0004AYxyqRFP0GC8ZZO2lG            1837.0               23.0              14.0              2019.0        0.4180         0.739     177981.0   0.445          0.001370     0.105   -12.608       0.2240  174.105   0.3810"
      ]
     },
     "execution_count": 82,
     "metadata": {},
     "output_type": "execute_result"
    }
   ],
   "source": [
    "print(songs.info())\n",
    "songs.head()"
   ]
  },
  {
   "cell_type": "code",
   "execution_count": 83,
   "metadata": {
    "ExecuteTime": {
     "end_time": "2019-11-16T22:56:36.304344Z",
     "start_time": "2019-11-16T22:56:36.297036Z"
    },
    "code_folding": [
     0
    ]
   },
   "outputs": [],
   "source": [
    "def feature_boxplot(feature, df):\n",
    "    plt.figure(figsize=(5, 7))\n",
    "    box_plot = sns.boxplot(x=\"variable\", y=\"value\", data=pd.melt(df))\n",
    "    ax = box_plot.axes\n",
    "    lines = ax.get_lines()\n",
    "    categories = ax.get_xticks()\n",
    "    for cat in categories:\n",
    "        # every 4th line at the interval of 6 is median line\n",
    "        # 0 -> p25 1 -> p75 2 -> lower whisker 3 -> upper whisker 4 -> p50 5 -> upper extreme value\n",
    "        y=round(lines[4+cat*6].get_ydata()[0], 3)\n",
    "        ax.text(\n",
    "            cat,\n",
    "            y,\n",
    "            f'{y}',\n",
    "            ha='center',\n",
    "            va='center',\n",
    "            fontweight='bold',\n",
    "            size=12,\n",
    "            color='white',\n",
    "            bbox=dict(facecolor='#445A64'))\n",
    "    plt.title(feature, fontsize=15)\n",
    "    plt.xlabel('', fontsize=13)\n",
    "    plt.ylabel('Score', fontsize=13)\n",
    "    box_plot.figure.tight_layout()\n",
    "    print(\"Mean\", feature, \"Score:\", round(df[df.columns[0]].mean(), 3))\n",
    "    print(\"Median\", feature, \"Score:\", round(df[df.columns[0]].median(), 3))\n",
    "    print(\"STD of\", feature, \"Score:\", round(df[df.columns[0]].std(), 3))"
   ]
  },
  {
   "cell_type": "markdown",
   "metadata": {},
   "source": [
    "### Artist Followers"
   ]
  },
  {
   "cell_type": "code",
   "execution_count": 86,
   "metadata": {
    "ExecuteTime": {
     "end_time": "2019-11-16T22:58:53.628002Z",
     "start_time": "2019-11-16T22:58:51.620573Z"
    }
   },
   "outputs": [
    {
     "name": "stdout",
     "output_type": "stream",
     "text": [
      "Mean Artist Followers Score: 29641.322\n",
      "Median Artist Followers Score: 622.0\n",
      "STD of Artist Followers Score: 366446.671\n"
     ]
    },
    {
     "data": {
      "image/png": "[encoded data removed]",
      "text/plain": [
       "<Figure size 360x504 with 1 Axes>"
      ]
     },
     "metadata": {},
     "output_type": "display_data"
    }
   ],
   "source": [
    "# Distribution boxplot\n",
    "feature_boxplot('Artist Followers', songs[['artist_followers']])"
   ]
  },
  {
   "cell_type": "markdown",
   "metadata": {},
   "source": [
    "### Artist Popularity"
   ]
  },
  {
   "cell_type": "code",
   "execution_count": 87,
   "metadata": {
    "ExecuteTime": {
     "end_time": "2019-11-16T22:58:54.408166Z",
     "start_time": "2019-11-16T22:58:53.629825Z"
    }
   },
   "outputs": [
    {
     "name": "stdout",
     "output_type": "stream",
     "text": [
      "Mean Artist Popularity Score: 19.472\n",
      "Median Artist Popularity Score: 17.0\n",
      "STD of Artist Popularity Score: 17.176\n"
     ]
    },
    {
     "data": {
      "image/png": "[encoded data removed]",
      "text/plain": [
       "<Figure size 360x504 with 1 Axes>"
      ]
     },
     "metadata": {},
     "output_type": "display_data"
    }
   ],
   "source": [
    "# Distribution boxplot\n",
    "feature_boxplot('Artist Popularity', songs[['artist_popularity']])"
   ]
  },
  {
   "cell_type": "markdown",
   "metadata": {},
   "source": [
    "### Track Popularity"
   ]
  },
  {
   "cell_type": "code",
   "execution_count": 85,
   "metadata": {
    "ExecuteTime": {
     "end_time": "2019-11-16T22:56:48.919710Z",
     "start_time": "2019-11-16T22:56:47.984419Z"
    },
    "cell_style": "center"
   },
   "outputs": [
    {
     "name": "stdout",
     "output_type": "stream",
     "text": [
      "Mean Track Popularity Score: 13.74\n",
      "Median Track Popularity Score: 8.0\n",
      "STD of Track Popularity Score: 15.186\n"
     ]
    },
    {
     "data": {
      "image/png": "[encoded data removed]",
      "text/plain": [
       "<Figure size 360x504 with 1 Axes>"
      ]
     },
     "metadata": {},
     "output_type": "display_data"
    }
   ],
   "source": [
    "# Distribution boxplot\n",
    "feature_boxplot('Track Popularity', songs[['track_popularity']])"
   ]
  },
  {
   "cell_type": "markdown",
   "metadata": {},
   "source": [
    "### Track Release Year"
   ]
  },
  {
   "cell_type": "code",
   "execution_count": 88,
   "metadata": {
    "ExecuteTime": {
     "end_time": "2019-11-16T23:01:12.215818Z",
     "start_time": "2019-11-16T23:01:11.044889Z"
    },
    "cell_style": "center"
   },
   "outputs": [
    {
     "name": "stdout",
     "output_type": "stream",
     "text": [
      "Mean Track Release Year Score: 2011.023\n",
      "Median Track Release Year Score: 2014.0\n",
      "STD of Track Release Year Score: 9.197\n"
     ]
    },
    {
     "data": {
      "image/png": "[encoded data removed]",
      "text/plain": [
       "<Figure size 360x504 with 1 Axes>"
      ]
     },
     "metadata": {},
     "output_type": "display_data"
    }
   ],
   "source": [
    "# Distribution boxplot\n",
    "feature_boxplot('Track Release Year', songs[['track_release_year']])"
   ]
  },
  {
   "cell_type": "markdown",
   "metadata": {},
   "source": [
    "### Acousticness"
   ]
  },
  {
   "cell_type": "code",
   "execution_count": 89,
   "metadata": {
    "ExecuteTime": {
     "end_time": "2019-11-16T23:01:32.959937Z",
     "start_time": "2019-11-16T23:01:32.244553Z"
    },
    "cell_style": "center"
   },
   "outputs": [
    {
     "name": "stdout",
     "output_type": "stream",
     "text": [
      "Mean Acousticness Score: 0.359\n",
      "Median Acousticness Score: 0.216\n",
      "STD of Acousticness Score: 0.36\n"
     ]
    },
    {
     "data": {
      "image/png": "[encoded data removed]",
      "text/plain": [
       "<Figure size 360x504 with 1 Axes>"
      ]
     },
     "metadata": {},
     "output_type": "display_data"
    }
   ],
   "source": [
    "# Distribution boxplot\n",
    "feature_boxplot('Acousticness', songs[['acousticness']])"
   ]
  },
  {
   "cell_type": "markdown",
   "metadata": {},
   "source": [
    "### Danceability"
   ]
  },
  {
   "cell_type": "code",
   "execution_count": 90,
   "metadata": {
    "ExecuteTime": {
     "end_time": "2019-11-16T23:01:47.379600Z",
     "start_time": "2019-11-16T23:01:46.658483Z"
    },
    "cell_style": "center"
   },
   "outputs": [
    {
     "name": "stdout",
     "output_type": "stream",
     "text": [
      "Mean Danceability Score: 0.559\n",
      "Median Danceability Score: 0.577\n",
      "STD of Danceability Score: 0.188\n"
     ]
    },
    {
     "data": {
      "image/png": "[encoded data removed]",
      "text/plain": [
       "<Figure size 360x504 with 1 Axes>"
      ]
     },
     "metadata": {},
     "output_type": "display_data"
    }
   ],
   "source": [
    "# Distribution boxplot\n",
    "feature_boxplot('Danceability', songs[['danceability']])"
   ]
  },
  {
   "cell_type": "markdown",
   "metadata": {},
   "source": [
    "### Duration"
   ]
  },
  {
   "cell_type": "code",
   "execution_count": 92,
   "metadata": {
    "ExecuteTime": {
     "end_time": "2019-11-16T23:02:04.455373Z",
     "start_time": "2019-11-16T23:02:03.209723Z"
    },
    "cell_style": "center"
   },
   "outputs": [
    {
     "name": "stdout",
     "output_type": "stream",
     "text": [
      "Mean Duration Score: 254480.602\n",
      "Median Duration Score: 226320.0\n",
      "STD of Duration Score: 162464.695\n"
     ]
    },
    {
     "data": {
      "image/png": "[encoded data removed]",
      "text/plain": [
       "<Figure size 360x504 with 1 Axes>"
      ]
     },
     "metadata": {},
     "output_type": "display_data"
    }
   ],
   "source": [
    "# Distribution boxplot\n",
    "feature_boxplot('Duration', songs[['duration_ms']])"
   ]
  },
  {
   "cell_type": "markdown",
   "metadata": {},
   "source": [
    "### Energy"
   ]
  },
  {
   "cell_type": "code",
   "execution_count": 93,
   "metadata": {
    "ExecuteTime": {
     "end_time": "2019-11-16T23:02:16.428594Z",
     "start_time": "2019-11-16T23:02:15.642862Z"
    },
    "cell_style": "center"
   },
   "outputs": [
    {
     "name": "stdout",
     "output_type": "stream",
     "text": [
      "Mean Energy Score: 0.58\n",
      "Median Energy Score: 0.618\n",
      "STD of Energy Score: 0.27\n"
     ]
    },
    {
     "data": {
      "image/png": "[encoded data removed]",
      "text/plain": [
       "<Figure size 360x504 with 1 Axes>"
      ]
     },
     "metadata": {},
     "output_type": "display_data"
    }
   ],
   "source": [
    "# Distribution boxplot\n",
    "feature_boxplot('Energy', songs[['energy']])"
   ]
  },
  {
   "cell_type": "markdown",
   "metadata": {},
   "source": [
    "### Instrumentalness"
   ]
  },
  {
   "cell_type": "code",
   "execution_count": 94,
   "metadata": {
    "ExecuteTime": {
     "end_time": "2019-11-16T23:02:32.336292Z",
     "start_time": "2019-11-16T23:02:31.609384Z"
    },
    "cell_style": "center"
   },
   "outputs": [
    {
     "name": "stdout",
     "output_type": "stream",
     "text": [
      "Mean Instrumentalness Score: 0.24\n",
      "Median Instrumentalness Score: 0.001\n",
      "STD of Instrumentalness Score: 0.359\n"
     ]
    },
    {
     "data": {
      "image/png": "[encoded data removed]",
      "text/plain": [
       "<Figure size 360x504 with 1 Axes>"
      ]
     },
     "metadata": {},
     "output_type": "display_data"
    }
   ],
   "source": [
    "# Distribution boxplot\n",
    "feature_boxplot('Instrumentalness', songs[['instrumentalness']])"
   ]
  },
  {
   "cell_type": "markdown",
   "metadata": {},
   "source": [
    "### Liveness"
   ]
  },
  {
   "cell_type": "code",
   "execution_count": 95,
   "metadata": {
    "ExecuteTime": {
     "end_time": "2019-11-16T23:02:44.528578Z",
     "start_time": "2019-11-16T23:02:43.265064Z"
    },
    "cell_style": "center"
   },
   "outputs": [
    {
     "name": "stdout",
     "output_type": "stream",
     "text": [
      "Mean Liveness Score: 0.192\n",
      "Median Liveness Score: 0.123\n",
      "STD of Liveness Score: 0.164\n"
     ]
    },
    {
     "data": {
      "image/png": "[encoded data removed]",
      "text/plain": [
       "<Figure size 360x504 with 1 Axes>"
      ]
     },
     "metadata": {},
     "output_type": "display_data"
    }
   ],
   "source": [
    "# Distribution boxplot\n",
    "feature_boxplot('Liveness', songs[['liveness']])"
   ]
  },
  {
   "cell_type": "markdown",
   "metadata": {},
   "source": [
    "### Loudness"
   ]
  },
  {
   "cell_type": "code",
   "execution_count": 96,
   "metadata": {
    "ExecuteTime": {
     "end_time": "2019-11-16T23:02:54.126547Z",
     "start_time": "2019-11-16T23:02:52.936143Z"
    },
    "cell_style": "center"
   },
   "outputs": [
    {
     "name": "stdout",
     "output_type": "stream",
     "text": [
      "Mean Loudness Score: -9.909\n",
      "Median Loudness Score: -8.294\n",
      "STD of Loudness Score: 5.874\n"
     ]
    },
    {
     "data": {
      "image/png": "[encoded data removed]",
      "text/plain": [
       "<Figure size 360x504 with 1 Axes>"
      ]
     },
     "metadata": {},
     "output_type": "display_data"
    }
   ],
   "source": [
    "# Distribution boxplot\n",
    "feature_boxplot('Loudness', songs[['loudness']])"
   ]
  },
  {
   "cell_type": "markdown",
   "metadata": {},
   "source": [
    "### Speechiness"
   ]
  },
  {
   "cell_type": "code",
   "execution_count": 97,
   "metadata": {
    "ExecuteTime": {
     "end_time": "2019-11-16T23:03:09.454008Z",
     "start_time": "2019-11-16T23:03:07.560188Z"
    },
    "cell_style": "center"
   },
   "outputs": [
    {
     "name": "stdout",
     "output_type": "stream",
     "text": [
      "Mean Speechiness Score: 0.096\n",
      "Median Speechiness Score: 0.049\n",
      "STD of Speechiness Score: 0.123\n"
     ]
    },
    {
     "data": {
      "image/png": "[encoded data removed]",
      "text/plain": [
       "<Figure size 360x504 with 1 Axes>"
      ]
     },
     "metadata": {},
     "output_type": "display_data"
    }
   ],
   "source": [
    "# Distribution boxplot\n",
    "feature_boxplot('Speechiness', songs[['speechiness']])"
   ]
  },
  {
   "cell_type": "markdown",
   "metadata": {},
   "source": [
    "### Tempo"
   ]
  },
  {
   "cell_type": "code",
   "execution_count": 98,
   "metadata": {
    "ExecuteTime": {
     "end_time": "2019-11-16T23:03:17.664597Z",
     "start_time": "2019-11-16T23:03:16.910110Z"
    },
    "cell_style": "center"
   },
   "outputs": [
    {
     "name": "stdout",
     "output_type": "stream",
     "text": [
      "Mean Tempo Score: 119.929\n",
      "Median Tempo Score: 120.024\n",
      "STD of Tempo Score: 29.534\n"
     ]
    },
    {
     "data": {
      "image/png": "[encoded data removed]",
      "text/plain": [
       "<Figure size 360x504 with 1 Axes>"
      ]
     },
     "metadata": {},
     "output_type": "display_data"
    }
   ],
   "source": [
    "# Distribution boxplot\n",
    "feature_boxplot('Tempo', songs[['tempo']])"
   ]
  },
  {
   "cell_type": "markdown",
   "metadata": {},
   "source": [
    "### Valence"
   ]
  },
  {
   "cell_type": "code",
   "execution_count": 99,
   "metadata": {
    "ExecuteTime": {
     "end_time": "2019-11-16T23:03:24.976479Z",
     "start_time": "2019-11-16T23:03:24.311524Z"
    },
    "cell_style": "center"
   },
   "outputs": [
    {
     "name": "stdout",
     "output_type": "stream",
     "text": [
      "Mean Valence Score: 0.464\n",
      "Median Valence Score: 0.451\n",
      "STD of Valence Score: 0.268\n"
     ]
    },
    {
     "data": {
      "image/png": "[encoded data removed]",
      "text/plain": [
       "<Figure size 360x504 with 1 Axes>"
      ]
     },
     "metadata": {},
     "output_type": "display_data"
    }
   ],
   "source": [
    "# Distribution boxplot\n",
    "feature_boxplot('Valence', songs[['valence']])"
   ]
  },
  {
   "cell_type": "markdown",
   "metadata": {},
   "source": [
    "## Artists EDA"
   ]
  },
  {
   "cell_type": "code",
   "execution_count": 2,
   "metadata": {
    "ExecuteTime": {
     "end_time": "2019-11-16T22:14:01.342099Z",
     "start_time": "2019-11-16T22:13:58.879173Z"
    }
   },
   "outputs": [],
   "source": [
    "# Read CSV to DataFrame\n",
    "artists = pd.read_csv('Data/artists.csv')"
   ]
  },
  {
   "cell_type": "code",
   "execution_count": 3,
   "metadata": {
    "ExecuteTime": {
     "end_time": "2019-11-16T22:14:01.671561Z",
     "start_time": "2019-11-16T22:14:01.345606Z"
    }
   },
   "outputs": [
    {
     "name": "stdout",
     "output_type": "stream",
     "text": [
      "<class 'pandas.core.frame.DataFrame'>\n",
      "RangeIndex: 285642 entries, 0 to 285641\n",
      "Data columns (total 39 columns):\n",
      "artist_id                    285642 non-null object\n",
      "artist_followers             285642 non-null float64\n",
      "artist_popularity            285642 non-null float64\n",
      "track_popularity_mean        285642 non-null float64\n",
      "track_popularity_median      285642 non-null float64\n",
      "track_popularity_std         285642 non-null float64\n",
      "track_release_year_mean      285642 non-null float64\n",
      "track_release_year_median    285642 non-null float64\n",
      "track_release_year_std       285642 non-null float64\n",
      "acousticness_mean            285642 non-null float64\n",
      "acousticness_median          285642 non-null float64\n",
      "acousticness_std             285642 non-null float64\n",
      "danceability_mean            285642 non-null float64\n",
      "danceability_median          285642 non-null float64\n",
      "danceability_std             285642 non-null float64\n",
      "duration_ms_mean             285642 non-null float64\n",
      "duration_ms_median           285642 non-null float64\n",
      "duration_ms_std              285642 non-null float64\n",
      "energy_mean                  285642 non-null float64\n",
      "energy_median                285642 non-null float64\n",
      "energy_std                   285642 non-null float64\n",
      "instrumentalness_mean        285642 non-null float64\n",
      "instrumentalness_median      285642 non-null float64\n",
      "instrumentalness_std         285642 non-null float64\n",
      "liveness_mean                285642 non-null float64\n",
      "liveness_median              285642 non-null float64\n",
      "liveness_std                 285642 non-null float64\n",
      "loudness_mean                285642 non-null float64\n",
      "loudness_median              285642 non-null float64\n",
      "loudness_std                 285642 non-null float64\n",
      "speechiness_mean             285642 non-null float64\n",
      "speechiness_median           285642 non-null float64\n",
      "speechiness_std              285642 non-null float64\n",
      "tempo_mean                   285642 non-null float64\n",
      "tempo_median                 285642 non-null float64\n",
      "tempo_std                    285642 non-null float64\n",
      "valence_mean                 285642 non-null float64\n",
      "valence_median               285642 non-null float64\n",
      "valence_std                  285642 non-null float64\n",
      "dtypes: float64(38), object(1)\n",
      "memory usage: 85.0+ MB\n",
      "None\n"
     ]
    },
    {
     "data": {
      "text/html": [
       "<div>\n",
       "<style scoped>\n",
       "    .dataframe tbody tr th:only-of-type {\n",
       "        vertical-align: middle;\n",
       "    }\n",
       "\n",
       "    .dataframe tbody tr th {\n",
       "        vertical-align: top;\n",
       "    }\n",
       "\n",
       "    .dataframe thead th {\n",
       "        text-align: right;\n",
       "    }\n",
       "</style>\n",
       "<table border=\"1\" class=\"dataframe\">\n",
       "  <thead>\n",
       "    <tr style=\"text-align: right;\">\n",
       "      <th></th>\n",
       "      <th>artist_id</th>\n",
       "      <th>artist_followers</th>\n",
       "      <th>artist_popularity</th>\n",
       "      <th>track_popularity_mean</th>\n",
       "      <th>track_popularity_median</th>\n",
       "      <th>track_popularity_std</th>\n",
       "      <th>track_release_year_mean</th>\n",
       "      <th>track_release_year_median</th>\n",
       "      <th>track_release_year_std</th>\n",
       "      <th>acousticness_mean</th>\n",
       "      <th>acousticness_median</th>\n",
       "      <th>acousticness_std</th>\n",
       "      <th>danceability_mean</th>\n",
       "      <th>danceability_median</th>\n",
       "      <th>danceability_std</th>\n",
       "      <th>duration_ms_mean</th>\n",
       "      <th>duration_ms_median</th>\n",
       "      <th>duration_ms_std</th>\n",
       "      <th>energy_mean</th>\n",
       "      <th>energy_median</th>\n",
       "      <th>energy_std</th>\n",
       "      <th>instrumentalness_mean</th>\n",
       "      <th>instrumentalness_median</th>\n",
       "      <th>instrumentalness_std</th>\n",
       "      <th>liveness_mean</th>\n",
       "      <th>liveness_median</th>\n",
       "      <th>liveness_std</th>\n",
       "      <th>loudness_mean</th>\n",
       "      <th>loudness_median</th>\n",
       "      <th>loudness_std</th>\n",
       "      <th>speechiness_mean</th>\n",
       "      <th>speechiness_median</th>\n",
       "      <th>speechiness_std</th>\n",
       "      <th>tempo_mean</th>\n",
       "      <th>tempo_median</th>\n",
       "      <th>tempo_std</th>\n",
       "      <th>valence_mean</th>\n",
       "      <th>valence_median</th>\n",
       "      <th>valence_std</th>\n",
       "    </tr>\n",
       "  </thead>\n",
       "  <tbody>\n",
       "    <tr>\n",
       "      <th>0</th>\n",
       "      <td>0001ZVMPt41Vwzt1zsmuzp</td>\n",
       "      <td>11327.0</td>\n",
       "      <td>11.0</td>\n",
       "      <td>19.5</td>\n",
       "      <td>19.5</td>\n",
       "      <td>2.121320</td>\n",
       "      <td>2017.5</td>\n",
       "      <td>2017.5</td>\n",
       "      <td>0.707107</td>\n",
       "      <td>0.206200</td>\n",
       "      <td>0.206200</td>\n",
       "      <td>0.241548</td>\n",
       "      <td>0.7570</td>\n",
       "      <td>0.7570</td>\n",
       "      <td>0.049497</td>\n",
       "      <td>223839.0</td>\n",
       "      <td>223839.0</td>\n",
       "      <td>6692.058577</td>\n",
       "      <td>0.75300</td>\n",
       "      <td>0.7530</td>\n",
       "      <td>0.002828</td>\n",
       "      <td>0.000359</td>\n",
       "      <td>0.000359</td>\n",
       "      <td>0.000373</td>\n",
       "      <td>0.15810</td>\n",
       "      <td>0.15810</td>\n",
       "      <td>0.111581</td>\n",
       "      <td>-4.9795</td>\n",
       "      <td>-4.9795</td>\n",
       "      <td>1.560585</td>\n",
       "      <td>0.04040</td>\n",
       "      <td>0.04040</td>\n",
       "      <td>0.012869</td>\n",
       "      <td>108.4635</td>\n",
       "      <td>108.4635</td>\n",
       "      <td>4.913685</td>\n",
       "      <td>0.73300</td>\n",
       "      <td>0.733</td>\n",
       "      <td>0.332340</td>\n",
       "    </tr>\n",
       "    <tr>\n",
       "      <th>1</th>\n",
       "      <td>0001wHqxbF2YYRQxGdbyER</td>\n",
       "      <td>3532.0</td>\n",
       "      <td>18.0</td>\n",
       "      <td>8.9</td>\n",
       "      <td>9.0</td>\n",
       "      <td>4.012481</td>\n",
       "      <td>2014.0</td>\n",
       "      <td>2015.0</td>\n",
       "      <td>2.108185</td>\n",
       "      <td>0.012644</td>\n",
       "      <td>0.001355</td>\n",
       "      <td>0.024116</td>\n",
       "      <td>0.6489</td>\n",
       "      <td>0.6415</td>\n",
       "      <td>0.056717</td>\n",
       "      <td>481528.1</td>\n",
       "      <td>478160.0</td>\n",
       "      <td>43893.760352</td>\n",
       "      <td>0.73060</td>\n",
       "      <td>0.7920</td>\n",
       "      <td>0.155317</td>\n",
       "      <td>0.807800</td>\n",
       "      <td>0.810000</td>\n",
       "      <td>0.073014</td>\n",
       "      <td>0.19576</td>\n",
       "      <td>0.11750</td>\n",
       "      <td>0.155194</td>\n",
       "      <td>-8.6983</td>\n",
       "      <td>-7.7255</td>\n",
       "      <td>2.617272</td>\n",
       "      <td>0.04290</td>\n",
       "      <td>0.04120</td>\n",
       "      <td>0.010319</td>\n",
       "      <td>126.7034</td>\n",
       "      <td>132.0050</td>\n",
       "      <td>11.915851</td>\n",
       "      <td>0.21437</td>\n",
       "      <td>0.180</td>\n",
       "      <td>0.152289</td>\n",
       "    </tr>\n",
       "    <tr>\n",
       "      <th>2</th>\n",
       "      <td>000Dq0VqTZpxOP6jQMscVL</td>\n",
       "      <td>3482.0</td>\n",
       "      <td>14.0</td>\n",
       "      <td>10.4</td>\n",
       "      <td>9.0</td>\n",
       "      <td>10.807405</td>\n",
       "      <td>2014.0</td>\n",
       "      <td>2014.0</td>\n",
       "      <td>1.000000</td>\n",
       "      <td>0.025614</td>\n",
       "      <td>0.014500</td>\n",
       "      <td>0.031576</td>\n",
       "      <td>0.6450</td>\n",
       "      <td>0.6520</td>\n",
       "      <td>0.029043</td>\n",
       "      <td>199780.8</td>\n",
       "      <td>196253.0</td>\n",
       "      <td>27694.143717</td>\n",
       "      <td>0.88040</td>\n",
       "      <td>0.9010</td>\n",
       "      <td>0.055694</td>\n",
       "      <td>0.006660</td>\n",
       "      <td>0.000000</td>\n",
       "      <td>0.014892</td>\n",
       "      <td>0.29640</td>\n",
       "      <td>0.32900</td>\n",
       "      <td>0.094614</td>\n",
       "      <td>-4.2056</td>\n",
       "      <td>-4.6680</td>\n",
       "      <td>1.129464</td>\n",
       "      <td>0.13080</td>\n",
       "      <td>0.05010</td>\n",
       "      <td>0.114962</td>\n",
       "      <td>158.6588</td>\n",
       "      <td>160.0360</td>\n",
       "      <td>10.963097</td>\n",
       "      <td>0.55840</td>\n",
       "      <td>0.605</td>\n",
       "      <td>0.264162</td>\n",
       "    </tr>\n",
       "    <tr>\n",
       "      <th>3</th>\n",
       "      <td>000ESzt0wlQI41YbKYGIkf</td>\n",
       "      <td>36.0</td>\n",
       "      <td>0.0</td>\n",
       "      <td>0.0</td>\n",
       "      <td>0.0</td>\n",
       "      <td>0.000000</td>\n",
       "      <td>2015.6</td>\n",
       "      <td>2014.0</td>\n",
       "      <td>2.065591</td>\n",
       "      <td>0.480650</td>\n",
       "      <td>0.523000</td>\n",
       "      <td>0.388906</td>\n",
       "      <td>0.5628</td>\n",
       "      <td>0.5440</td>\n",
       "      <td>0.171955</td>\n",
       "      <td>217349.5</td>\n",
       "      <td>216398.5</td>\n",
       "      <td>10805.481430</td>\n",
       "      <td>0.38932</td>\n",
       "      <td>0.4950</td>\n",
       "      <td>0.227478</td>\n",
       "      <td>0.015326</td>\n",
       "      <td>0.000000</td>\n",
       "      <td>0.048374</td>\n",
       "      <td>0.15210</td>\n",
       "      <td>0.09685</td>\n",
       "      <td>0.151020</td>\n",
       "      <td>-8.9797</td>\n",
       "      <td>-8.6720</td>\n",
       "      <td>1.977170</td>\n",
       "      <td>0.06714</td>\n",
       "      <td>0.04655</td>\n",
       "      <td>0.045628</td>\n",
       "      <td>112.6615</td>\n",
       "      <td>112.0185</td>\n",
       "      <td>19.636695</td>\n",
       "      <td>0.38670</td>\n",
       "      <td>0.405</td>\n",
       "      <td>0.129500</td>\n",
       "    </tr>\n",
       "    <tr>\n",
       "      <th>4</th>\n",
       "      <td>000NbZqISnuKaqmw33JxTV</td>\n",
       "      <td>445.0</td>\n",
       "      <td>9.0</td>\n",
       "      <td>17.0</td>\n",
       "      <td>17.0</td>\n",
       "      <td>0.000000</td>\n",
       "      <td>2018.0</td>\n",
       "      <td>2018.0</td>\n",
       "      <td>0.000000</td>\n",
       "      <td>0.995000</td>\n",
       "      <td>0.995000</td>\n",
       "      <td>0.000000</td>\n",
       "      <td>0.3190</td>\n",
       "      <td>0.3190</td>\n",
       "      <td>0.000000</td>\n",
       "      <td>103307.0</td>\n",
       "      <td>103307.0</td>\n",
       "      <td>0.000000</td>\n",
       "      <td>0.02340</td>\n",
       "      <td>0.0234</td>\n",
       "      <td>0.000000</td>\n",
       "      <td>0.710000</td>\n",
       "      <td>0.710000</td>\n",
       "      <td>0.000000</td>\n",
       "      <td>0.10600</td>\n",
       "      <td>0.10600</td>\n",
       "      <td>0.000000</td>\n",
       "      <td>-23.8090</td>\n",
       "      <td>-23.8090</td>\n",
       "      <td>0.000000</td>\n",
       "      <td>0.04500</td>\n",
       "      <td>0.04500</td>\n",
       "      <td>0.000000</td>\n",
       "      <td>69.3040</td>\n",
       "      <td>69.3040</td>\n",
       "      <td>0.000000</td>\n",
       "      <td>0.52500</td>\n",
       "      <td>0.525</td>\n",
       "      <td>0.000000</td>\n",
       "    </tr>\n",
       "  </tbody>\n",
       "</table>\n",
       "</div>"
      ],
      "text/plain": [
       "                artist_id  artist_followers  artist_popularity  track_popularity_mean  track_popularity_median  track_popularity_std  track_release_year_mean  track_release_year_median  track_release_year_std  acousticness_mean  acousticness_median  acousticness_std  danceability_mean  danceability_median  danceability_std  duration_ms_mean  duration_ms_median  duration_ms_std  energy_mean  energy_median  energy_std  instrumentalness_mean  instrumentalness_median  instrumentalness_std  liveness_mean  liveness_median  liveness_std  loudness_mean  loudness_median  loudness_std  speechiness_mean  speechiness_median  speechiness_std  tempo_mean  tempo_median  tempo_std  valence_mean  valence_median  valence_std\n",
       "0  0001ZVMPt41Vwzt1zsmuzp           11327.0               11.0                   19.5                     19.5              2.121320                   2017.5                     2017.5                0.707107           0.206200             0.206200          0.241548             0.7570               0.7570          0.049497          223839.0            223839.0      6692.058577      0.75300         0.7530    0.002828               0.000359                 0.000359              0.000373        0.15810          0.15810      0.111581        -4.9795          -4.9795      1.560585           0.04040             0.04040         0.012869    108.4635      108.4635   4.913685       0.73300           0.733     0.332340\n",
       "1  0001wHqxbF2YYRQxGdbyER            3532.0               18.0                    8.9                      9.0              4.012481                   2014.0                     2015.0                2.108185           0.012644             0.001355          0.024116             0.6489               0.6415          0.056717          481528.1            478160.0     43893.760352      0.73060         0.7920    0.155317               0.807800                 0.810000              0.073014        0.19576          0.11750      0.155194        -8.6983          -7.7255      2.617272           0.04290             0.04120         0.010319    126.7034      132.0050  11.915851       0.21437           0.180     0.152289\n",
       "2  000Dq0VqTZpxOP6jQMscVL            3482.0               14.0                   10.4                      9.0             10.807405                   2014.0                     2014.0                1.000000           0.025614             0.014500          0.031576             0.6450               0.6520          0.029043          199780.8            196253.0     27694.143717      0.88040         0.9010    0.055694               0.006660                 0.000000              0.014892        0.29640          0.32900      0.094614        -4.2056          -4.6680      1.129464           0.13080             0.05010         0.114962    158.6588      160.0360  10.963097       0.55840           0.605     0.264162\n",
       "3  000ESzt0wlQI41YbKYGIkf              36.0                0.0                    0.0                      0.0              0.000000                   2015.6                     2014.0                2.065591           0.480650             0.523000          0.388906             0.5628               0.5440          0.171955          217349.5            216398.5     10805.481430      0.38932         0.4950    0.227478               0.015326                 0.000000              0.048374        0.15210          0.09685      0.151020        -8.9797          -8.6720      1.977170           0.06714             0.04655         0.045628    112.6615      112.0185  19.636695       0.38670           0.405     0.129500\n",
       "4  000NbZqISnuKaqmw33JxTV             445.0                9.0                   17.0                     17.0              0.000000                   2018.0                     2018.0                0.000000           0.995000             0.995000          0.000000             0.3190               0.3190          0.000000          103307.0            103307.0         0.000000      0.02340         0.0234    0.000000               0.710000                 0.710000              0.000000        0.10600          0.10600      0.000000       -23.8090         -23.8090      0.000000           0.04500             0.04500         0.000000     69.3040       69.3040   0.000000       0.52500           0.525     0.000000"
      ]
     },
     "execution_count": 3,
     "metadata": {},
     "output_type": "execute_result"
    }
   ],
   "source": [
    "print(artists.info())\n",
    "artists.head()"
   ]
  },
  {
   "cell_type": "code",
   "execution_count": 18,
   "metadata": {
    "ExecuteTime": {
     "end_time": "2019-11-16T22:21:15.148606Z",
     "start_time": "2019-11-16T22:21:15.141815Z"
    },
    "code_folding": [
     0
    ]
   },
   "outputs": [],
   "source": [
    "def mean_median_boxplot(feature, df):\n",
    "    plt.figure(figsize=(5, 7))\n",
    "    box_plot = sns.boxplot(x=\"variable\", y=\"value\", data=pd.melt(df))\n",
    "    ax = box_plot.axes\n",
    "    lines = ax.get_lines()\n",
    "    categories = ax.get_xticks()\n",
    "    for cat in categories:\n",
    "        # every 4th line at the interval of 6 is median line\n",
    "        # 0 -> p25 1 -> p75 2 -> lower whisker 3 -> upper whisker 4 -> p50 5 -> upper extreme value\n",
    "        y=round(lines[4+cat*6].get_ydata()[0], 3)\n",
    "        ax.text(\n",
    "            cat,\n",
    "            y,\n",
    "            f'{y}',\n",
    "            ha='center',\n",
    "            va='center',\n",
    "            fontweight='bold',\n",
    "            size=12,\n",
    "            color='white',\n",
    "            bbox=dict(facecolor='#445A64'))\n",
    "    plt.title(feature, fontsize=15)\n",
    "    plt.xlabel('', fontsize=13)\n",
    "    plt.ylabel('Score', fontsize=13)\n",
    "    box_plot.figure.tight_layout()\n",
    "    print(\"Average Mean\", feature, \"Score:\", round(df[df.columns[0]].mean(), 3))\n",
    "    print(\"Average Median\", feature, \"Score:\", round(df[df.columns[1]].mean(), 3))"
   ]
  },
  {
   "cell_type": "code",
   "execution_count": 21,
   "metadata": {
    "ExecuteTime": {
     "end_time": "2019-11-16T22:21:50.810642Z",
     "start_time": "2019-11-16T22:21:50.804199Z"
    },
    "code_folding": [
     0
    ]
   },
   "outputs": [],
   "source": [
    "def std_boxplot(feature, df):\n",
    "    plt.figure(figsize=(5, 7))\n",
    "    box_plot = sns.boxplot(x=\"variable\", y=\"value\", data=pd.melt(df))\n",
    "    ax = box_plot.axes\n",
    "    lines = ax.get_lines()\n",
    "    categories = ax.get_xticks()\n",
    "    for cat in categories:\n",
    "        # every 4th line at the interval of 6 is median line\n",
    "        # 0 -> p25 1 -> p75 2 -> lower whisker 3 -> upper whisker 4 -> p50 5 -> upper extreme value\n",
    "        y=round(lines[4+cat*6].get_ydata()[0], 3)\n",
    "        ax.text(\n",
    "            cat,\n",
    "            y,\n",
    "            f'{y}',\n",
    "            ha='center',\n",
    "            va='center',\n",
    "            fontweight='bold',\n",
    "            size=12,\n",
    "            color='white',\n",
    "            bbox=dict(facecolor='#445A64'))\n",
    "    plt.title(feature, fontsize=15)\n",
    "    plt.xlabel('', fontsize=13)\n",
    "    plt.ylabel('Standard Deviation', fontsize=13)\n",
    "    box_plot.figure.tight_layout()\n",
    "    print(\"Average STD of\", feature, \"Score:\", round(df[df.columns[0]].mean(), 3))"
   ]
  },
  {
   "cell_type": "markdown",
   "metadata": {},
   "source": [
    "### Track Popularity"
   ]
  },
  {
   "cell_type": "code",
   "execution_count": 19,
   "metadata": {
    "ExecuteTime": {
     "end_time": "2019-11-16T22:21:19.841195Z",
     "start_time": "2019-11-16T22:21:19.405376Z"
    },
    "cell_style": "split"
   },
   "outputs": [
    {
     "name": "stdout",
     "output_type": "stream",
     "text": [
      "Average Mean Track Popularity Score: 12.994\n",
      "Average Median Track Popularity Score: 12.079\n"
     ]
    },
    {
     "data": {
      "image/png": "[encoded data removed]",
      "text/plain": [
       "<Figure size 360x504 with 1 Axes>"
      ]
     },
     "metadata": {
      "needs_background": "light"
     },
     "output_type": "display_data"
    }
   ],
   "source": [
    "# Compare mean & median distributions\n",
    "mean_median_boxplot('Track Popularity', artists[['track_popularity_mean','track_popularity_median']])\n"
   ]
  },
  {
   "cell_type": "code",
   "execution_count": 20,
   "metadata": {
    "ExecuteTime": {
     "end_time": "2019-11-16T22:21:20.283682Z",
     "start_time": "2019-11-16T22:21:19.938112Z"
    },
    "cell_style": "split"
   },
   "outputs": [
    {
     "name": "stdout",
     "output_type": "stream",
     "text": [
      "Average STD of Track Popularity Score: 4.119\n"
     ]
    },
    {
     "data": {
      "image/png": "[encoded data removed]",
      "text/plain": [
       "<Figure size 360x504 with 1 Axes>"
      ]
     },
     "metadata": {
      "needs_background": "light"
     },
     "output_type": "display_data"
    }
   ],
   "source": [
    "# Standard deviation distribution\n",
    "std_boxplot('Track Popularity', artists[['track_popularity_std']])\n"
   ]
  },
  {
   "cell_type": "markdown",
   "metadata": {},
   "source": [
    "### Track Release Year"
   ]
  },
  {
   "cell_type": "code",
   "execution_count": 22,
   "metadata": {
    "ExecuteTime": {
     "end_time": "2019-11-16T22:22:08.676956Z",
     "start_time": "2019-11-16T22:22:08.153141Z"
    },
    "cell_style": "split"
   },
   "outputs": [
    {
     "name": "stdout",
     "output_type": "stream",
     "text": [
      "Average Mean Release Year Score: 2011.014\n",
      "Average Median Release Year Score: 2011.027\n"
     ]
    },
    {
     "data": {
      "image/png": "[encoded data removed]",
      "text/plain": [
       "<Figure size 360x504 with 1 Axes>"
      ]
     },
     "metadata": {
      "needs_background": "light"
     },
     "output_type": "display_data"
    }
   ],
   "source": [
    "# Compare mean & median distributions\n",
    "mean_median_boxplot('Track Release Year', artists[['track_release_year_mean','track_release_year_median']])\n"
   ]
  },
  {
   "cell_type": "code",
   "execution_count": 23,
   "metadata": {
    "ExecuteTime": {
     "end_time": "2019-11-16T22:22:09.078509Z",
     "start_time": "2019-11-16T22:22:08.679022Z"
    },
    "cell_style": "split"
   },
   "outputs": [
    {
     "name": "stdout",
     "output_type": "stream",
     "text": [
      "Average STD of Release Year Score: 2.263\n"
     ]
    },
    {
     "data": {
      "image/png": "[encoded data removed]",
      "text/plain": [
       "<Figure size 360x504 with 1 Axes>"
      ]
     },
     "metadata": {
      "needs_background": "light"
     },
     "output_type": "display_data"
    }
   ],
   "source": [
    "# Standard deviation distribution\n",
    "std_boxplot('Track Release Year', artists[['track_release_year_std']])\n"
   ]
  },
  {
   "cell_type": "markdown",
   "metadata": {},
   "source": [
    "### Acousticness"
   ]
  },
  {
   "cell_type": "code",
   "execution_count": 24,
   "metadata": {
    "ExecuteTime": {
     "end_time": "2019-11-16T22:22:09.488409Z",
     "start_time": "2019-11-16T22:22:09.080699Z"
    },
    "cell_style": "split"
   },
   "outputs": [
    {
     "name": "stdout",
     "output_type": "stream",
     "text": [
      "Average Mean Acousticness Score: 0.352\n",
      "Average Median Acousticness Score: 0.337\n"
     ]
    },
    {
     "data": {
      "image/png": "[encoded data removed]",
      "text/plain": [
       "<Figure size 360x504 with 1 Axes>"
      ]
     },
     "metadata": {
      "needs_background": "light"
     },
     "output_type": "display_data"
    }
   ],
   "source": [
    "# Compare mean & median distributions\n",
    "mean_median_boxplot('Acousticness', artists[['acousticness_mean','acousticness_median']])\n"
   ]
  },
  {
   "cell_type": "code",
   "execution_count": 25,
   "metadata": {
    "ExecuteTime": {
     "end_time": "2019-11-16T22:22:09.813398Z",
     "start_time": "2019-11-16T22:22:09.490463Z"
    },
    "cell_style": "split"
   },
   "outputs": [
    {
     "name": "stdout",
     "output_type": "stream",
     "text": [
      "Average STD of Acousticness Score: 0.142\n"
     ]
    },
    {
     "data": {
      "image/png": "[encoded data removed]",
      "text/plain": [
       "<Figure size 360x504 with 1 Axes>"
      ]
     },
     "metadata": {
      "needs_background": "light"
     },
     "output_type": "display_data"
    }
   ],
   "source": [
    "# Standard deviation distribution\n",
    "std_boxplot('Acousticness', artists[['acousticness_std']])\n"
   ]
  },
  {
   "cell_type": "markdown",
   "metadata": {},
   "source": [
    "### Danceability"
   ]
  },
  {
   "cell_type": "code",
   "execution_count": 26,
   "metadata": {
    "ExecuteTime": {
     "end_time": "2019-11-16T22:22:10.244114Z",
     "start_time": "2019-11-16T22:22:09.815292Z"
    },
    "cell_style": "split"
   },
   "outputs": [
    {
     "name": "stdout",
     "output_type": "stream",
     "text": [
      "Average Mean Danceability Score: 0.565\n",
      "Average Median Danceability Score: 0.569\n"
     ]
    },
    {
     "data": {
      "image/png": "[encoded data removed]",
      "text/plain": [
       "<Figure size 360x504 with 1 Axes>"
      ]
     },
     "metadata": {
      "needs_background": "light"
     },
     "output_type": "display_data"
    }
   ],
   "source": [
    "# Compare mean & median distributions\n",
    "mean_median_boxplot('Danceability', artists[['danceability_mean','danceability_median']])\n"
   ]
  },
  {
   "cell_type": "code",
   "execution_count": 27,
   "metadata": {
    "ExecuteTime": {
     "end_time": "2019-11-16T22:22:10.589654Z",
     "start_time": "2019-11-16T22:22:10.246138Z"
    },
    "cell_style": "split"
   },
   "outputs": [
    {
     "name": "stdout",
     "output_type": "stream",
     "text": [
      "Average STD of Danceability Score: 0.097\n"
     ]
    },
    {
     "data": {
      "image/png": "[encoded data removed]",
      "text/plain": [
       "<Figure size 360x504 with 1 Axes>"
      ]
     },
     "metadata": {
      "needs_background": "light"
     },
     "output_type": "display_data"
    }
   ],
   "source": [
    "# Standard deviation distribution\n",
    "std_boxplot('Danceability', artists[['danceability_std']])\n"
   ]
  },
  {
   "cell_type": "markdown",
   "metadata": {},
   "source": [
    "### Duration"
   ]
  },
  {
   "cell_type": "code",
   "execution_count": 28,
   "metadata": {
    "ExecuteTime": {
     "end_time": "2019-11-16T22:22:11.227332Z",
     "start_time": "2019-11-16T22:22:10.591428Z"
    },
    "cell_style": "split"
   },
   "outputs": [
    {
     "name": "stdout",
     "output_type": "stream",
     "text": [
      "Average Mean Duration Score: 254700.369\n",
      "Average Median Duration Score: 247405.547\n"
     ]
    },
    {
     "data": {
      "image/png": "[encoded data removed]",
      "text/plain": [
       "<Figure size 360x504 with 1 Axes>"
      ]
     },
     "metadata": {
      "needs_background": "light"
     },
     "output_type": "display_data"
    }
   ],
   "source": [
    "# Compare mean & median distributions\n",
    "mean_median_boxplot('Duration', artists[['duration_ms_mean','duration_ms_median']])\n"
   ]
  },
  {
   "cell_type": "code",
   "execution_count": 29,
   "metadata": {
    "ExecuteTime": {
     "end_time": "2019-11-16T22:22:11.643563Z",
     "start_time": "2019-11-16T22:22:11.232252Z"
    },
    "cell_style": "split"
   },
   "outputs": [
    {
     "name": "stdout",
     "output_type": "stream",
     "text": [
      "Average STD of Duration Score: 62838.857\n"
     ]
    },
    {
     "data": {
      "image/png": "[encoded data removed]",
      "text/plain": [
       "<Figure size 360x504 with 1 Axes>"
      ]
     },
     "metadata": {
      "needs_background": "light"
     },
     "output_type": "display_data"
    }
   ],
   "source": [
    "# Standard deviation distribution\n",
    "std_boxplot('Duration', artists[['duration_ms_std']])\n"
   ]
  },
  {
   "cell_type": "markdown",
   "metadata": {},
   "source": [
    "### Energy"
   ]
  },
  {
   "cell_type": "code",
   "execution_count": 30,
   "metadata": {
    "ExecuteTime": {
     "end_time": "2019-11-16T22:22:12.082290Z",
     "start_time": "2019-11-16T22:22:11.645815Z"
    },
    "cell_style": "split"
   },
   "outputs": [
    {
     "name": "stdout",
     "output_type": "stream",
     "text": [
      "Average Mean Energy Score: 0.585\n",
      "Average Median Energy Score: 0.589\n"
     ]
    },
    {
     "data": {
      "image/png": "[encoded data removed]",
      "text/plain": [
       "<Figure size 360x504 with 1 Axes>"
      ]
     },
     "metadata": {
      "needs_background": "light"
     },
     "output_type": "display_data"
    }
   ],
   "source": [
    "# Compare mean & median distributions\n",
    "mean_median_boxplot('Energy', artists[['energy_mean','energy_median']])\n"
   ]
  },
  {
   "cell_type": "code",
   "execution_count": 31,
   "metadata": {
    "ExecuteTime": {
     "end_time": "2019-11-16T22:22:12.422718Z",
     "start_time": "2019-11-16T22:22:12.084086Z"
    },
    "cell_style": "split"
   },
   "outputs": [
    {
     "name": "stdout",
     "output_type": "stream",
     "text": [
      "Average STD of Energy Score: 0.119\n"
     ]
    },
    {
     "data": {
      "image/png": "[encoded data removed]",
      "text/plain": [
       "<Figure size 360x504 with 1 Axes>"
      ]
     },
     "metadata": {
      "needs_background": "light"
     },
     "output_type": "display_data"
    }
   ],
   "source": [
    "# Standard deviation distribution\n",
    "std_boxplot('Energy', artists[['energy_std']])\n"
   ]
  },
  {
   "cell_type": "markdown",
   "metadata": {},
   "source": [
    "### Instrumentalness"
   ]
  },
  {
   "cell_type": "code",
   "execution_count": 32,
   "metadata": {
    "ExecuteTime": {
     "end_time": "2019-11-16T22:22:12.889351Z",
     "start_time": "2019-11-16T22:22:12.424636Z"
    },
    "cell_style": "split"
   },
   "outputs": [
    {
     "name": "stdout",
     "output_type": "stream",
     "text": [
      "Average Mean Instrumentalness Score: 0.242\n",
      "Average Median Instrumentalness Score: 0.23\n"
     ]
    },
    {
     "data": {
      "image/png": "[encoded data removed]",
      "text/plain": [
       "<Figure size 360x504 with 1 Axes>"
      ]
     },
     "metadata": {
      "needs_background": "light"
     },
     "output_type": "display_data"
    }
   ],
   "source": [
    "# Compare mean & median distributions\n",
    "mean_median_boxplot('Instrumentalness', artists[['instrumentalness_mean','instrumentalness_median']])\n"
   ]
  },
  {
   "cell_type": "code",
   "execution_count": 33,
   "metadata": {
    "ExecuteTime": {
     "end_time": "2019-11-16T22:22:13.315311Z",
     "start_time": "2019-11-16T22:22:12.891308Z"
    },
    "cell_style": "split"
   },
   "outputs": [
    {
     "name": "stdout",
     "output_type": "stream",
     "text": [
      "Average STD of Instrumentalness Score: 0.131\n"
     ]
    },
    {
     "data": {
      "image/png": "[encoded data removed]",
      "text/plain": [
       "<Figure size 360x504 with 1 Axes>"
      ]
     },
     "metadata": {
      "needs_background": "light"
     },
     "output_type": "display_data"
    }
   ],
   "source": [
    "# Standard deviation distribution\n",
    "std_boxplot('Instrumentalness', artists[['instrumentalness_std']])\n"
   ]
  },
  {
   "cell_type": "markdown",
   "metadata": {},
   "source": [
    "### Liveness"
   ]
  },
  {
   "cell_type": "code",
   "execution_count": 34,
   "metadata": {
    "ExecuteTime": {
     "end_time": "2019-11-16T22:22:13.954620Z",
     "start_time": "2019-11-16T22:22:13.317519Z"
    },
    "cell_style": "split"
   },
   "outputs": [
    {
     "name": "stdout",
     "output_type": "stream",
     "text": [
      "Average Mean Liveness Score: 0.192\n",
      "Average Median Liveness Score: 0.162\n"
     ]
    },
    {
     "data": {
      "image/png": "[encoded data removed]",
      "text/plain": [
       "<Figure size 360x504 with 1 Axes>"
      ]
     },
     "metadata": {
      "needs_background": "light"
     },
     "output_type": "display_data"
    }
   ],
   "source": [
    "# Compare mean & median distributions\n",
    "mean_median_boxplot('Liveness', artists[['liveness_mean','liveness_median']])\n"
   ]
  },
  {
   "cell_type": "code",
   "execution_count": 35,
   "metadata": {
    "ExecuteTime": {
     "end_time": "2019-11-16T22:22:14.292761Z",
     "start_time": "2019-11-16T22:22:13.956357Z"
    },
    "cell_style": "split"
   },
   "outputs": [
    {
     "name": "stdout",
     "output_type": "stream",
     "text": [
      "Average STD of Liveness Score: 0.111\n"
     ]
    },
    {
     "data": {
      "image/png": "[encoded data removed]",
      "text/plain": [
       "<Figure size 360x504 with 1 Axes>"
      ]
     },
     "metadata": {
      "needs_background": "light"
     },
     "output_type": "display_data"
    }
   ],
   "source": [
    "# Standard deviation distribution\n",
    "std_boxplot('Liveness', artists[['liveness_std']])\n"
   ]
  },
  {
   "cell_type": "markdown",
   "metadata": {},
   "source": [
    "### Loudness"
   ]
  },
  {
   "cell_type": "code",
   "execution_count": 36,
   "metadata": {
    "ExecuteTime": {
     "end_time": "2019-11-16T22:22:14.961087Z",
     "start_time": "2019-11-16T22:22:14.294441Z"
    },
    "cell_style": "split"
   },
   "outputs": [
    {
     "name": "stdout",
     "output_type": "stream",
     "text": [
      "Average Mean Loudness Score: -9.831\n",
      "Average Median Loudness Score: -9.634\n"
     ]
    },
    {
     "data": {
      "image/png": "[encoded data removed]",
      "text/plain": [
       "<Figure size 360x504 with 1 Axes>"
      ]
     },
     "metadata": {
      "needs_background": "light"
     },
     "output_type": "display_data"
    }
   ],
   "source": [
    "# Compare mean & median distributions\n",
    "mean_median_boxplot('Loudness', artists[['loudness_mean','loudness_median']])\n"
   ]
  },
  {
   "cell_type": "code",
   "execution_count": 37,
   "metadata": {
    "ExecuteTime": {
     "end_time": "2019-11-16T22:22:15.395600Z",
     "start_time": "2019-11-16T22:22:14.963663Z"
    },
    "cell_style": "split"
   },
   "outputs": [
    {
     "name": "stdout",
     "output_type": "stream",
     "text": [
      "Average STD of Loudness Score: 2.174\n"
     ]
    },
    {
     "data": {
      "image/png": "[encoded data removed]",
      "text/plain": [
       "<Figure size 360x504 with 1 Axes>"
      ]
     },
     "metadata": {
      "needs_background": "light"
     },
     "output_type": "display_data"
    }
   ],
   "source": [
    "# Standard deviation distribution\n",
    "std_boxplot('Loudness', artists[['loudness_std']])\n"
   ]
  },
  {
   "cell_type": "markdown",
   "metadata": {},
   "source": [
    "### Speechiness"
   ]
  },
  {
   "cell_type": "code",
   "execution_count": 38,
   "metadata": {
    "ExecuteTime": {
     "end_time": "2019-11-16T22:22:16.183335Z",
     "start_time": "2019-11-16T22:22:15.397266Z"
    },
    "cell_style": "split"
   },
   "outputs": [
    {
     "name": "stdout",
     "output_type": "stream",
     "text": [
      "Average Mean Speechiness Score: 0.097\n",
      "Average Median Speechiness Score: 0.087\n"
     ]
    },
    {
     "data": {
      "image/png": "[encoded data removed]",
      "text/plain": [
       "<Figure size 360x504 with 1 Axes>"
      ]
     },
     "metadata": {
      "needs_background": "light"
     },
     "output_type": "display_data"
    }
   ],
   "source": [
    "# Compare mean & median distributions\n",
    "mean_median_boxplot('Speechiness', artists[['speechiness_mean','speechiness_median']])\n"
   ]
  },
  {
   "cell_type": "code",
   "execution_count": 39,
   "metadata": {
    "ExecuteTime": {
     "end_time": "2019-11-16T22:22:16.592454Z",
     "start_time": "2019-11-16T22:22:16.185923Z"
    },
    "cell_style": "split",
    "scrolled": false
   },
   "outputs": [
    {
     "name": "stdout",
     "output_type": "stream",
     "text": [
      "Average STD of Speechiness Score: 0.046\n"
     ]
    },
    {
     "data": {
      "image/png": "[encoded data removed]",
      "text/plain": [
       "<Figure size 360x504 with 1 Axes>"
      ]
     },
     "metadata": {
      "needs_background": "light"
     },
     "output_type": "display_data"
    }
   ],
   "source": [
    "# Standard deviation distribution\n",
    "std_boxplot('Speechiness', artists[['speechiness_std']])\n"
   ]
  },
  {
   "cell_type": "markdown",
   "metadata": {},
   "source": [
    "### Tempo"
   ]
  },
  {
   "cell_type": "code",
   "execution_count": 40,
   "metadata": {
    "ExecuteTime": {
     "end_time": "2019-11-16T22:22:17.150074Z",
     "start_time": "2019-11-16T22:22:16.594347Z"
    },
    "cell_style": "split"
   },
   "outputs": [
    {
     "name": "stdout",
     "output_type": "stream",
     "text": [
      "Average Mean Tempo Score: 120.14\n",
      "Average Median Tempo Score: 118.441\n"
     ]
    },
    {
     "data": {
      "image/png": "[encoded data removed]",
      "text/plain": [
       "<Figure size 360x504 with 1 Axes>"
      ]
     },
     "metadata": {
      "needs_background": "light"
     },
     "output_type": "display_data"
    }
   ],
   "source": [
    "# Compare mean & median distributions\n",
    "mean_median_boxplot('Tempo', artists[['tempo_mean','tempo_median']])\n"
   ]
  },
  {
   "cell_type": "code",
   "execution_count": 41,
   "metadata": {
    "ExecuteTime": {
     "end_time": "2019-11-16T22:22:17.518939Z",
     "start_time": "2019-11-16T22:22:17.152089Z"
    },
    "cell_style": "split"
   },
   "outputs": [
    {
     "name": "stdout",
     "output_type": "stream",
     "text": [
      "Average STD of Tempo Score: 22.468\n"
     ]
    },
    {
     "data": {
      "image/png": "[encoded data removed]",
      "text/plain": [
       "<Figure size 360x504 with 1 Axes>"
      ]
     },
     "metadata": {
      "needs_background": "light"
     },
     "output_type": "display_data"
    }
   ],
   "source": [
    "# Standard deviation distribution\n",
    "std_boxplot('Tempo', artists[['tempo_std']])\n"
   ]
  },
  {
   "cell_type": "markdown",
   "metadata": {},
   "source": [
    "### Valence"
   ]
  },
  {
   "cell_type": "code",
   "execution_count": 42,
   "metadata": {
    "ExecuteTime": {
     "end_time": "2019-11-16T22:22:18.035323Z",
     "start_time": "2019-11-16T22:22:17.521908Z"
    },
    "cell_style": "split"
   },
   "outputs": [
    {
     "name": "stdout",
     "output_type": "stream",
     "text": [
      "Average Mean Valence Score: 0.467\n",
      "Average Median Valence Score: 0.463\n"
     ]
    },
    {
     "data": {
      "image/png": "[encoded data removed]",
      "text/plain": [
       "<Figure size 360x504 with 1 Axes>"
      ]
     },
     "metadata": {
      "needs_background": "light"
     },
     "output_type": "display_data"
    }
   ],
   "source": [
    "# Compare mean & median distributions\n",
    "mean_median_boxplot('Valence', artists[['valence_mean','valence_median']])\n"
   ]
  },
  {
   "cell_type": "code",
   "execution_count": 43,
   "metadata": {
    "ExecuteTime": {
     "end_time": "2019-11-16T22:22:18.419394Z",
     "start_time": "2019-11-16T22:22:18.037483Z"
    },
    "cell_style": "split"
   },
   "outputs": [
    {
     "name": "stdout",
     "output_type": "stream",
     "text": [
      "Average STD of Valence Score: 0.161\n"
     ]
    },
    {
     "data": {
      "image/png": "[encoded data removed]",
      "text/plain": [
       "<Figure size 360x504 with 1 Axes>"
      ]
     },
     "metadata": {
      "needs_background": "light"
     },
     "output_type": "display_data"
    }
   ],
   "source": [
    "# Standard deviation distribution\n",
    "std_boxplot('Valence', artists[['valence_std']])\n"
   ]
  },
  {
   "cell_type": "markdown",
   "metadata": {},
   "source": [
    "# Artists > Artists2"
   ]
  },
  {
   "cell_type": "code",
   "execution_count": 38,
   "metadata": {
    "ExecuteTime": {
     "end_time": "2019-11-17T00:05:09.667403Z",
     "start_time": "2019-11-17T00:05:07.465118Z"
    }
   },
   "outputs": [],
   "source": [
    "# Read CSV to DataFrame\n",
    "artists = pd.read_csv('Data/artists.csv')"
   ]
  },
  {
   "cell_type": "code",
   "execution_count": 39,
   "metadata": {
    "ExecuteTime": {
     "end_time": "2019-11-17T00:05:10.797603Z",
     "start_time": "2019-11-17T00:05:10.745453Z"
    }
   },
   "outputs": [],
   "source": [
    "# Drop median columns\n",
    "artists.drop(columns=['track_popularity_median', \n",
    "                      'track_release_year_median', \n",
    "                      'acousticness_median', \n",
    "                      'danceability_median',\n",
    "                      'duration_ms_median',\n",
    "                      'energy_median',\n",
    "                      'instrumentalness_median',\n",
    "                      'liveness_median',\n",
    "                      'loudness_median',\n",
    "                      'speechiness_median',\n",
    "                      'tempo_median',\n",
    "                      'valence_median'\n",
    "                     ], inplace=True)"
   ]
  },
  {
   "cell_type": "code",
   "execution_count": 40,
   "metadata": {
    "ExecuteTime": {
     "end_time": "2019-11-17T00:05:12.732372Z",
     "start_time": "2019-11-17T00:05:12.554328Z"
    }
   },
   "outputs": [
    {
     "name": "stdout",
     "output_type": "stream",
     "text": [
      "<class 'pandas.core.frame.DataFrame'>\n",
      "RangeIndex: 285659 entries, 0 to 285658\n",
      "Data columns (total 28 columns):\n",
      "artist_id                  285659 non-null object\n",
      "artist_name                281928 non-null object\n",
      "artist_followers           285659 non-null float64\n",
      "artist_popularity          285659 non-null float64\n",
      "track_popularity_mean      285659 non-null float64\n",
      "track_popularity_std       285659 non-null float64\n",
      "track_release_year_mean    285659 non-null float64\n",
      "track_release_year_std     285659 non-null float64\n",
      "acousticness_mean          285659 non-null float64\n",
      "acousticness_std           285659 non-null float64\n",
      "danceability_mean          285659 non-null float64\n",
      "danceability_std           285659 non-null float64\n",
      "duration_ms_mean           285659 non-null float64\n",
      "duration_ms_std            285659 non-null float64\n",
      "energy_mean                285659 non-null float64\n",
      "energy_std                 285659 non-null float64\n",
      "instrumentalness_mean      285659 non-null float64\n",
      "instrumentalness_std       285659 non-null float64\n",
      "liveness_mean              285659 non-null float64\n",
      "liveness_std               285659 non-null float64\n",
      "loudness_mean              285659 non-null float64\n",
      "loudness_std               285659 non-null float64\n",
      "speechiness_mean           285659 non-null float64\n",
      "speechiness_std            285659 non-null float64\n",
      "tempo_mean                 285659 non-null float64\n",
      "tempo_std                  285659 non-null float64\n",
      "valence_mean               285659 non-null float64\n",
      "valence_std                285659 non-null float64\n",
      "dtypes: float64(26), object(2)\n",
      "memory usage: 61.0+ MB\n",
      "None\n"
     ]
    },
    {
     "data": {
      "text/html": [
       "<div>\n",
       "<style scoped>\n",
       "    .dataframe tbody tr th:only-of-type {\n",
       "        vertical-align: middle;\n",
       "    }\n",
       "\n",
       "    .dataframe tbody tr th {\n",
       "        vertical-align: top;\n",
       "    }\n",
       "\n",
       "    .dataframe thead th {\n",
       "        text-align: right;\n",
       "    }\n",
       "</style>\n",
       "<table border=\"1\" class=\"dataframe\">\n",
       "  <thead>\n",
       "    <tr style=\"text-align: right;\">\n",
       "      <th></th>\n",
       "      <th>artist_id</th>\n",
       "      <th>artist_name</th>\n",
       "      <th>artist_followers</th>\n",
       "      <th>artist_popularity</th>\n",
       "      <th>track_popularity_mean</th>\n",
       "      <th>track_popularity_std</th>\n",
       "      <th>track_release_year_mean</th>\n",
       "      <th>track_release_year_std</th>\n",
       "      <th>acousticness_mean</th>\n",
       "      <th>acousticness_std</th>\n",
       "      <th>danceability_mean</th>\n",
       "      <th>danceability_std</th>\n",
       "      <th>duration_ms_mean</th>\n",
       "      <th>duration_ms_std</th>\n",
       "      <th>energy_mean</th>\n",
       "      <th>energy_std</th>\n",
       "      <th>instrumentalness_mean</th>\n",
       "      <th>instrumentalness_std</th>\n",
       "      <th>liveness_mean</th>\n",
       "      <th>liveness_std</th>\n",
       "      <th>loudness_mean</th>\n",
       "      <th>loudness_std</th>\n",
       "      <th>speechiness_mean</th>\n",
       "      <th>speechiness_std</th>\n",
       "      <th>tempo_mean</th>\n",
       "      <th>tempo_std</th>\n",
       "      <th>valence_mean</th>\n",
       "      <th>valence_std</th>\n",
       "    </tr>\n",
       "  </thead>\n",
       "  <tbody>\n",
       "    <tr>\n",
       "      <th>0</th>\n",
       "      <td>0001ZVMPt41Vwzt1zsmuzp</td>\n",
       "      <td>Thyro &amp; Yumi</td>\n",
       "      <td>11327.0</td>\n",
       "      <td>11.0</td>\n",
       "      <td>19.5</td>\n",
       "      <td>2.121320</td>\n",
       "      <td>2017.5</td>\n",
       "      <td>0.707107</td>\n",
       "      <td>0.206200</td>\n",
       "      <td>0.241548</td>\n",
       "      <td>0.7570</td>\n",
       "      <td>0.049497</td>\n",
       "      <td>223839.0</td>\n",
       "      <td>6692.058577</td>\n",
       "      <td>0.75300</td>\n",
       "      <td>0.002828</td>\n",
       "      <td>0.000359</td>\n",
       "      <td>0.000373</td>\n",
       "      <td>0.15810</td>\n",
       "      <td>0.111581</td>\n",
       "      <td>-4.9795</td>\n",
       "      <td>1.560585</td>\n",
       "      <td>0.04040</td>\n",
       "      <td>0.012869</td>\n",
       "      <td>108.4635</td>\n",
       "      <td>4.913685</td>\n",
       "      <td>0.73300</td>\n",
       "      <td>0.332340</td>\n",
       "    </tr>\n",
       "    <tr>\n",
       "      <th>1</th>\n",
       "      <td>0001wHqxbF2YYRQxGdbyER</td>\n",
       "      <td>Motion Drive</td>\n",
       "      <td>3532.0</td>\n",
       "      <td>18.0</td>\n",
       "      <td>8.9</td>\n",
       "      <td>4.012481</td>\n",
       "      <td>2014.0</td>\n",
       "      <td>2.108185</td>\n",
       "      <td>0.012644</td>\n",
       "      <td>0.024116</td>\n",
       "      <td>0.6489</td>\n",
       "      <td>0.056717</td>\n",
       "      <td>481528.1</td>\n",
       "      <td>43893.760352</td>\n",
       "      <td>0.73060</td>\n",
       "      <td>0.155317</td>\n",
       "      <td>0.807800</td>\n",
       "      <td>0.073014</td>\n",
       "      <td>0.19576</td>\n",
       "      <td>0.155194</td>\n",
       "      <td>-8.6983</td>\n",
       "      <td>2.617272</td>\n",
       "      <td>0.04290</td>\n",
       "      <td>0.010319</td>\n",
       "      <td>126.7034</td>\n",
       "      <td>11.915851</td>\n",
       "      <td>0.21437</td>\n",
       "      <td>0.152289</td>\n",
       "    </tr>\n",
       "    <tr>\n",
       "      <th>2</th>\n",
       "      <td>000Dq0VqTZpxOP6jQMscVL</td>\n",
       "      <td>Thug Brothers</td>\n",
       "      <td>3482.0</td>\n",
       "      <td>14.0</td>\n",
       "      <td>10.4</td>\n",
       "      <td>10.807405</td>\n",
       "      <td>2014.0</td>\n",
       "      <td>1.000000</td>\n",
       "      <td>0.025614</td>\n",
       "      <td>0.031576</td>\n",
       "      <td>0.6450</td>\n",
       "      <td>0.029043</td>\n",
       "      <td>199780.8</td>\n",
       "      <td>27694.143717</td>\n",
       "      <td>0.88040</td>\n",
       "      <td>0.055694</td>\n",
       "      <td>0.006660</td>\n",
       "      <td>0.014892</td>\n",
       "      <td>0.29640</td>\n",
       "      <td>0.094614</td>\n",
       "      <td>-4.2056</td>\n",
       "      <td>1.129464</td>\n",
       "      <td>0.13080</td>\n",
       "      <td>0.114962</td>\n",
       "      <td>158.6588</td>\n",
       "      <td>10.963097</td>\n",
       "      <td>0.55840</td>\n",
       "      <td>0.264162</td>\n",
       "    </tr>\n",
       "    <tr>\n",
       "      <th>3</th>\n",
       "      <td>000ESzt0wlQI41YbKYGIkf</td>\n",
       "      <td>Zach Russell</td>\n",
       "      <td>36.0</td>\n",
       "      <td>0.0</td>\n",
       "      <td>0.0</td>\n",
       "      <td>0.000000</td>\n",
       "      <td>2015.6</td>\n",
       "      <td>2.065591</td>\n",
       "      <td>0.480650</td>\n",
       "      <td>0.388906</td>\n",
       "      <td>0.5628</td>\n",
       "      <td>0.171955</td>\n",
       "      <td>217349.5</td>\n",
       "      <td>10805.481430</td>\n",
       "      <td>0.38932</td>\n",
       "      <td>0.227478</td>\n",
       "      <td>0.015326</td>\n",
       "      <td>0.048374</td>\n",
       "      <td>0.15210</td>\n",
       "      <td>0.151020</td>\n",
       "      <td>-8.9797</td>\n",
       "      <td>1.977170</td>\n",
       "      <td>0.06714</td>\n",
       "      <td>0.045628</td>\n",
       "      <td>112.6615</td>\n",
       "      <td>19.636695</td>\n",
       "      <td>0.38670</td>\n",
       "      <td>0.129500</td>\n",
       "    </tr>\n",
       "    <tr>\n",
       "      <th>4</th>\n",
       "      <td>000NbZqISnuKaqmw33JxTV</td>\n",
       "      <td>Carlos Nakai</td>\n",
       "      <td>445.0</td>\n",
       "      <td>9.0</td>\n",
       "      <td>17.0</td>\n",
       "      <td>0.000000</td>\n",
       "      <td>2018.0</td>\n",
       "      <td>0.000000</td>\n",
       "      <td>0.995000</td>\n",
       "      <td>0.000000</td>\n",
       "      <td>0.3190</td>\n",
       "      <td>0.000000</td>\n",
       "      <td>103307.0</td>\n",
       "      <td>0.000000</td>\n",
       "      <td>0.02340</td>\n",
       "      <td>0.000000</td>\n",
       "      <td>0.710000</td>\n",
       "      <td>0.000000</td>\n",
       "      <td>0.10600</td>\n",
       "      <td>0.000000</td>\n",
       "      <td>-23.8090</td>\n",
       "      <td>0.000000</td>\n",
       "      <td>0.04500</td>\n",
       "      <td>0.000000</td>\n",
       "      <td>69.3040</td>\n",
       "      <td>0.000000</td>\n",
       "      <td>0.52500</td>\n",
       "      <td>0.000000</td>\n",
       "    </tr>\n",
       "  </tbody>\n",
       "</table>\n",
       "</div>"
      ],
      "text/plain": [
       "                artist_id    artist_name  artist_followers  artist_popularity  track_popularity_mean  track_popularity_std  track_release_year_mean  track_release_year_std  acousticness_mean  acousticness_std  danceability_mean  danceability_std  duration_ms_mean  duration_ms_std  energy_mean  energy_std  instrumentalness_mean  instrumentalness_std  liveness_mean  liveness_std  loudness_mean  loudness_std  speechiness_mean  speechiness_std  tempo_mean  tempo_std  valence_mean  valence_std\n",
       "0  0001ZVMPt41Vwzt1zsmuzp   Thyro & Yumi           11327.0               11.0                   19.5              2.121320                   2017.5                0.707107           0.206200          0.241548             0.7570          0.049497          223839.0      6692.058577      0.75300    0.002828               0.000359              0.000373        0.15810      0.111581        -4.9795      1.560585           0.04040         0.012869    108.4635   4.913685       0.73300     0.332340\n",
       "1  0001wHqxbF2YYRQxGdbyER   Motion Drive            3532.0               18.0                    8.9              4.012481                   2014.0                2.108185           0.012644          0.024116             0.6489          0.056717          481528.1     43893.760352      0.73060    0.155317               0.807800              0.073014        0.19576      0.155194        -8.6983      2.617272           0.04290         0.010319    126.7034  11.915851       0.21437     0.152289\n",
       "2  000Dq0VqTZpxOP6jQMscVL  Thug Brothers            3482.0               14.0                   10.4             10.807405                   2014.0                1.000000           0.025614          0.031576             0.6450          0.029043          199780.8     27694.143717      0.88040    0.055694               0.006660              0.014892        0.29640      0.094614        -4.2056      1.129464           0.13080         0.114962    158.6588  10.963097       0.55840     0.264162\n",
       "3  000ESzt0wlQI41YbKYGIkf   Zach Russell              36.0                0.0                    0.0              0.000000                   2015.6                2.065591           0.480650          0.388906             0.5628          0.171955          217349.5     10805.481430      0.38932    0.227478               0.015326              0.048374        0.15210      0.151020        -8.9797      1.977170           0.06714         0.045628    112.6615  19.636695       0.38670     0.129500\n",
       "4  000NbZqISnuKaqmw33JxTV   Carlos Nakai             445.0                9.0                   17.0              0.000000                   2018.0                0.000000           0.995000          0.000000             0.3190          0.000000          103307.0         0.000000      0.02340    0.000000               0.710000              0.000000        0.10600      0.000000       -23.8090      0.000000           0.04500         0.000000     69.3040   0.000000       0.52500     0.000000"
      ]
     },
     "execution_count": 40,
     "metadata": {},
     "output_type": "execute_result"
    }
   ],
   "source": [
    "print(artists.info())\n",
    "artists.head()"
   ]
  },
  {
   "cell_type": "code",
   "execution_count": 41,
   "metadata": {
    "ExecuteTime": {
     "end_time": "2019-11-17T00:05:31.893143Z",
     "start_time": "2019-11-17T00:05:19.832161Z"
    }
   },
   "outputs": [],
   "source": [
    "# Export to CSV\n",
    "artists.to_csv(\"Data/artists2.csv\")"
   ]
  },
  {
   "cell_type": "markdown",
   "metadata": {},
   "source": [
    "# Train-Validation-Test Split"
   ]
  },
  {
   "cell_type": "markdown",
   "metadata": {},
   "source": [
    "## Songs Train-Test Split"
   ]
  },
  {
   "cell_type": "code",
   "execution_count": 42,
   "metadata": {
    "ExecuteTime": {
     "end_time": "2019-11-17T00:06:02.186869Z",
     "start_time": "2019-11-17T00:05:53.311465Z"
    }
   },
   "outputs": [],
   "source": [
    "# Read CSV to DataFrame\n",
    "songs = pd.read_csv('Data/songs.csv')"
   ]
  },
  {
   "cell_type": "code",
   "execution_count": 43,
   "metadata": {
    "ExecuteTime": {
     "end_time": "2019-11-17T00:06:06.401190Z",
     "start_time": "2019-11-17T00:06:02.188782Z"
    }
   },
   "outputs": [
    {
     "name": "stdout",
     "output_type": "stream",
     "text": [
      "Songs Train Set Size: 1635118\n",
      "Songs Test Set Size: 408780\n",
      "Songs Test Final Set Size: 360689\n"
     ]
    }
   ],
   "source": [
    "# Train-Test Split\n",
    "from sklearn.model_selection import train_test_split\n",
    "\n",
    "songs_train, songs_test_final = train_test_split(songs, test_size=0.15)\n",
    "songs_train, songs_test = train_test_split(songs_train, test_size=0.2)\n",
    "\n",
    "print(\"Songs Train Set Size:\", len(songs_train))\n",
    "print(\"Songs Test Set Size:\", len(songs_test))\n",
    "print(\"Songs Test Final Set Size:\", len(songs_test_final))"
   ]
  },
  {
   "cell_type": "code",
   "execution_count": 44,
   "metadata": {
    "ExecuteTime": {
     "end_time": "2019-11-17T00:06:55.217652Z",
     "start_time": "2019-11-17T00:06:06.403357Z"
    }
   },
   "outputs": [],
   "source": [
    "# Export to CSV\n",
    "songs_train.to_csv(\"Data/songs_train.csv\")\n",
    "songs_test.to_csv(\"Data/songs_test.csv\")\n",
    "songs_test_final.to_csv(\"Data/songs_test_final.csv\")"
   ]
  },
  {
   "cell_type": "markdown",
   "metadata": {},
   "source": [
    "## Artists Train-Test Split"
   ]
  },
  {
   "cell_type": "code",
   "execution_count": 45,
   "metadata": {
    "ExecuteTime": {
     "end_time": "2019-11-17T00:06:57.310775Z",
     "start_time": "2019-11-17T00:06:55.219396Z"
    }
   },
   "outputs": [],
   "source": [
    "# Read CSV to DataFrame\n",
    "artists = pd.read_csv('Data/artists2.csv')"
   ]
  },
  {
   "cell_type": "code",
   "execution_count": 46,
   "metadata": {
    "ExecuteTime": {
     "end_time": "2019-11-17T00:06:57.609103Z",
     "start_time": "2019-11-17T00:06:57.314353Z"
    }
   },
   "outputs": [
    {
     "name": "stdout",
     "output_type": "stream",
     "text": [
      "Artists Train Set Size: 194248\n",
      "Artists Test Set Size: 48562\n",
      "Artists Test Final Set Size: 42849\n"
     ]
    }
   ],
   "source": [
    "# Train-Test Split\n",
    "from sklearn.model_selection import train_test_split\n",
    "\n",
    "artists_train, artists_test_final = train_test_split(artists, test_size=0.15)\n",
    "artists_train, artists_test = train_test_split(artists_train, test_size=0.2)\n",
    "\n",
    "print(\"Artists Train Set Size:\", len(artists_train))\n",
    "print(\"Artists Test Set Size:\", len(artists_test))\n",
    "print(\"Artists Test Final Set Size:\", len(artists_test_final))"
   ]
  },
  {
   "cell_type": "code",
   "execution_count": 47,
   "metadata": {
    "ExecuteTime": {
     "end_time": "2019-11-17T00:07:10.170346Z",
     "start_time": "2019-11-17T00:06:57.611250Z"
    }
   },
   "outputs": [],
   "source": [
    "# Export to CSV\n",
    "artists_train.to_csv(\"Data/artists_train.csv\")\n",
    "artists_test.to_csv(\"Data/artists_test.csv\")\n",
    "artists_test_final.to_csv(\"Data/artists_test_final.csv\")"
   ]
  },
  {
   "cell_type": "code",
   "execution_count": null,
   "metadata": {},
   "outputs": [],
   "source": []
  }
 ],
 "metadata": {
  "kernelspec": {
   "display_name": "Python 3",
   "language": "python",
   "name": "python3"
  },
  "language_info": {
   "codemirror_mode": {
    "name": "ipython",
    "version": 3
   },
   "file_extension": ".py",
   "mimetype": "text/x-python",
   "name": "python",
   "nbconvert_exporter": "python",
   "pygments_lexer": "ipython3",
   "version": "3.7.3"
  },
  "toc": {
   "base_numbering": 1,
   "nav_menu": {},
   "number_sections": true,
   "sideBar": true,
   "skip_h1_title": false,
   "title_cell": "Table of Contents",
   "title_sidebar": "Contents",
   "toc_cell": false,
   "toc_position": {
    "height": "calc(100% - 180px)",
    "left": "10px",
    "top": "150px",
    "width": "273.253px"
   },
   "toc_section_display": true,
   "toc_window_display": true
  }
 },
 "nbformat": 4,
 "nbformat_minor": 2
}
