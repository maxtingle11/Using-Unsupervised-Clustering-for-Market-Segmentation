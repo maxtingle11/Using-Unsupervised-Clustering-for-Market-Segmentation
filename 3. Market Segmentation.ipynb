{
 "cells": [
  {
   "cell_type": "markdown",
   "metadata": {},
   "source": [
    "# Using Clustering for Market Segmentation"
   ]
  },
  {
   "cell_type": "markdown",
   "metadata": {},
   "source": [
    "A clustering problem is where you want to discover the inherent groupings in the data without knowing what the actual classes are.\n",
    "\n",
    "\n",
    "   \n",
    "   \n",
    "Goal is to group objects into similar classes so that:\n",
    "- intra-class similarity(distance) is high\n",
    "- inter-class similarity(distance) is low\n",
    "\n",
    "Hierarchical Clustering\n",
    "- Agglomerative: starts with n clusters, then combines two most similar clusters, combines next two most similar clusters, and so on\n",
    "- Divisive: opposite of agglomerative, goes from 1 to n clusters\n",
    "\n",
    "Non-Hierarchical Clustering: choosing k initial clusters and reassign observations until no improvement can be obtained\n",
    "\n",
    "K-Means\n",
    "1. Randomly assign a number from, 1 to K, to each of the observations. These serve as initial cluster assignments for the observations.\n",
    "2. Iterate until the cluster assignments stop changing:\n",
    "   - For each of the K clusters, compute the cluster centroid. The kth cluster centroid is the vector of the p feature means for the observations in the kth cluster.\n",
    "   - Assign each observation to the cluster whose centroid is closest (where closest is defined using Euclidean distance.)\n",
    "- Assumption 1: cluster center = arithmetic mean of all points belonging to the cluster; each cluster center is recalculated in the beginning of each new iteration\n",
    "- Assumption 2: after cluster center has been recalculated, if given point is now closer to a different cluster center, then it is reassigned to the closer center\n",
    "\n",
    "\n",
    "\n",
    "try cos distance"
   ]
  },
  {
   "cell_type": "markdown",
   "metadata": {},
   "source": [
    "## Set-Up"
   ]
  },
  {
   "cell_type": "markdown",
   "metadata": {},
   "source": [
    "### Import Libraries"
   ]
  },
  {
   "cell_type": "code",
   "execution_count": 1,
   "metadata": {
    "ExecuteTime": {
     "end_time": "2019-11-20T16:55:02.512873Z",
     "start_time": "2019-11-20T16:54:59.975937Z"
    }
   },
   "outputs": [],
   "source": [
    "import pandas as pd\n",
    "import numpy as np\n",
    "import math\n",
    "\n",
    "from sklearn.cluster import KMeans \n",
    "from sklearn import metrics\n",
    "from sklearn.metrics import calinski_harabasz_score, silhouette_score\n",
    "\n",
    "import matplotlib.pyplot as plt\n",
    "%matplotlib inline\n",
    "\n",
    "import warnings\n",
    "warnings.filterwarnings('ignore')\n",
    "\n",
    "pd.set_option('display.max_rows', 500)\n",
    "pd.set_option('display.max_columns', 40)\n",
    "pd.set_option('display.width', 1000)"
   ]
  },
  {
   "cell_type": "markdown",
   "metadata": {},
   "source": [
    "### Import Data"
   ]
  },
  {
   "cell_type": "code",
   "execution_count": 2,
   "metadata": {
    "ExecuteTime": {
     "end_time": "2019-11-20T16:55:04.573768Z",
     "start_time": "2019-11-20T16:55:02.515815Z"
    }
   },
   "outputs": [
    {
     "name": "stdout",
     "output_type": "stream",
     "text": [
      "<class 'pandas.core.frame.DataFrame'>\n",
      "RangeIndex: 194248 entries, 0 to 194247\n",
      "Data columns (total 28 columns):\n",
      "artist_id                  194248 non-null object\n",
      "artist_name                191716 non-null object\n",
      "artist_followers           194248 non-null float64\n",
      "artist_popularity          194248 non-null float64\n",
      "track_popularity_mean      194248 non-null float64\n",
      "track_popularity_std       194248 non-null float64\n",
      "track_release_year_mean    194248 non-null float64\n",
      "track_release_year_std     194248 non-null float64\n",
      "acousticness_mean          194248 non-null float64\n",
      "acousticness_std           194248 non-null float64\n",
      "danceability_mean          194248 non-null float64\n",
      "danceability_std           194248 non-null float64\n",
      "duration_ms_mean           194248 non-null float64\n",
      "duration_ms_std            194248 non-null float64\n",
      "energy_mean                194248 non-null float64\n",
      "energy_std                 194248 non-null float64\n",
      "instrumentalness_mean      194248 non-null float64\n",
      "instrumentalness_std       194248 non-null float64\n",
      "liveness_mean              194248 non-null float64\n",
      "liveness_std               194248 non-null float64\n",
      "loudness_mean              194248 non-null float64\n",
      "loudness_std               194248 non-null float64\n",
      "speechiness_mean           194248 non-null float64\n",
      "speechiness_std            194248 non-null float64\n",
      "tempo_mean                 194248 non-null float64\n",
      "tempo_std                  194248 non-null float64\n",
      "valence_mean               194248 non-null float64\n",
      "valence_std                194248 non-null float64\n",
      "dtypes: float64(26), object(2)\n",
      "memory usage: 41.5+ MB\n",
      "None\n"
     ]
    },
    {
     "data": {
      "text/html": [
       "<div>\n",
       "<style scoped>\n",
       "    .dataframe tbody tr th:only-of-type {\n",
       "        vertical-align: middle;\n",
       "    }\n",
       "\n",
       "    .dataframe tbody tr th {\n",
       "        vertical-align: top;\n",
       "    }\n",
       "\n",
       "    .dataframe thead th {\n",
       "        text-align: right;\n",
       "    }\n",
       "</style>\n",
       "<table border=\"1\" class=\"dataframe\">\n",
       "  <thead>\n",
       "    <tr style=\"text-align: right;\">\n",
       "      <th></th>\n",
       "      <th>artist_id</th>\n",
       "      <th>artist_name</th>\n",
       "      <th>artist_followers</th>\n",
       "      <th>artist_popularity</th>\n",
       "      <th>track_popularity_mean</th>\n",
       "      <th>track_popularity_std</th>\n",
       "      <th>track_release_year_mean</th>\n",
       "      <th>track_release_year_std</th>\n",
       "      <th>acousticness_mean</th>\n",
       "      <th>acousticness_std</th>\n",
       "      <th>danceability_mean</th>\n",
       "      <th>danceability_std</th>\n",
       "      <th>duration_ms_mean</th>\n",
       "      <th>duration_ms_std</th>\n",
       "      <th>energy_mean</th>\n",
       "      <th>energy_std</th>\n",
       "      <th>instrumentalness_mean</th>\n",
       "      <th>instrumentalness_std</th>\n",
       "      <th>liveness_mean</th>\n",
       "      <th>liveness_std</th>\n",
       "      <th>loudness_mean</th>\n",
       "      <th>loudness_std</th>\n",
       "      <th>speechiness_mean</th>\n",
       "      <th>speechiness_std</th>\n",
       "      <th>tempo_mean</th>\n",
       "      <th>tempo_std</th>\n",
       "      <th>valence_mean</th>\n",
       "      <th>valence_std</th>\n",
       "    </tr>\n",
       "  </thead>\n",
       "  <tbody>\n",
       "    <tr>\n",
       "      <th>0</th>\n",
       "      <td>2jTsRGHAvKXXSbeO52G1t5</td>\n",
       "      <td>Webbstur</td>\n",
       "      <td>3453.0</td>\n",
       "      <td>28.0</td>\n",
       "      <td>17.8</td>\n",
       "      <td>10.195860</td>\n",
       "      <td>2017.3</td>\n",
       "      <td>0.948683</td>\n",
       "      <td>0.170563</td>\n",
       "      <td>0.255500</td>\n",
       "      <td>0.5925</td>\n",
       "      <td>0.116009</td>\n",
       "      <td>245121.3</td>\n",
       "      <td>51594.498027</td>\n",
       "      <td>0.84040</td>\n",
       "      <td>0.086234</td>\n",
       "      <td>0.413950</td>\n",
       "      <td>0.373703</td>\n",
       "      <td>0.15339</td>\n",
       "      <td>0.093559</td>\n",
       "      <td>-6.7449</td>\n",
       "      <td>1.570696</td>\n",
       "      <td>0.04442</td>\n",
       "      <td>0.015108</td>\n",
       "      <td>124.9970</td>\n",
       "      <td>2.174399</td>\n",
       "      <td>0.42026</td>\n",
       "      <td>0.266024</td>\n",
       "    </tr>\n",
       "    <tr>\n",
       "      <th>1</th>\n",
       "      <td>5CRw2KQzb9aH8HuyuQ6QCL</td>\n",
       "      <td>Ozy</td>\n",
       "      <td>103.0</td>\n",
       "      <td>6.0</td>\n",
       "      <td>2.5</td>\n",
       "      <td>5.233439</td>\n",
       "      <td>2012.7</td>\n",
       "      <td>4.001389</td>\n",
       "      <td>0.197861</td>\n",
       "      <td>0.354064</td>\n",
       "      <td>0.6189</td>\n",
       "      <td>0.177373</td>\n",
       "      <td>267232.6</td>\n",
       "      <td>94528.177818</td>\n",
       "      <td>0.72450</td>\n",
       "      <td>0.278383</td>\n",
       "      <td>0.672460</td>\n",
       "      <td>0.294077</td>\n",
       "      <td>0.21175</td>\n",
       "      <td>0.136774</td>\n",
       "      <td>-9.2551</td>\n",
       "      <td>5.195449</td>\n",
       "      <td>0.09468</td>\n",
       "      <td>0.055908</td>\n",
       "      <td>148.4241</td>\n",
       "      <td>21.335355</td>\n",
       "      <td>0.44111</td>\n",
       "      <td>0.272943</td>\n",
       "    </tr>\n",
       "    <tr>\n",
       "      <th>2</th>\n",
       "      <td>11fxyJpCpCnuG2c6NMuZNt</td>\n",
       "      <td>Bia Macedo</td>\n",
       "      <td>5177.0</td>\n",
       "      <td>11.0</td>\n",
       "      <td>7.8</td>\n",
       "      <td>4.391912</td>\n",
       "      <td>2017.0</td>\n",
       "      <td>0.000000</td>\n",
       "      <td>0.262620</td>\n",
       "      <td>0.159743</td>\n",
       "      <td>0.6322</td>\n",
       "      <td>0.087031</td>\n",
       "      <td>180036.6</td>\n",
       "      <td>12755.167904</td>\n",
       "      <td>0.87670</td>\n",
       "      <td>0.123941</td>\n",
       "      <td>0.000000</td>\n",
       "      <td>0.000000</td>\n",
       "      <td>0.37700</td>\n",
       "      <td>0.226577</td>\n",
       "      <td>-2.9268</td>\n",
       "      <td>2.288700</td>\n",
       "      <td>0.12018</td>\n",
       "      <td>0.090222</td>\n",
       "      <td>153.8066</td>\n",
       "      <td>20.089296</td>\n",
       "      <td>0.77540</td>\n",
       "      <td>0.090969</td>\n",
       "    </tr>\n",
       "    <tr>\n",
       "      <th>3</th>\n",
       "      <td>0pRBqfB42iVqXKIFJdfFKS</td>\n",
       "      <td>Brett Detar</td>\n",
       "      <td>1781.0</td>\n",
       "      <td>20.0</td>\n",
       "      <td>14.1</td>\n",
       "      <td>7.752419</td>\n",
       "      <td>2011.8</td>\n",
       "      <td>1.549193</td>\n",
       "      <td>0.183107</td>\n",
       "      <td>0.270250</td>\n",
       "      <td>0.4248</td>\n",
       "      <td>0.128387</td>\n",
       "      <td>259215.9</td>\n",
       "      <td>49391.796063</td>\n",
       "      <td>0.66320</td>\n",
       "      <td>0.200920</td>\n",
       "      <td>0.072125</td>\n",
       "      <td>0.140028</td>\n",
       "      <td>0.22184</td>\n",
       "      <td>0.176418</td>\n",
       "      <td>-7.4456</td>\n",
       "      <td>2.286342</td>\n",
       "      <td>0.03678</td>\n",
       "      <td>0.017357</td>\n",
       "      <td>135.1359</td>\n",
       "      <td>29.490275</td>\n",
       "      <td>0.48690</td>\n",
       "      <td>0.269610</td>\n",
       "    </tr>\n",
       "    <tr>\n",
       "      <th>4</th>\n",
       "      <td>5MpELOfAiq7aIBTij30phD</td>\n",
       "      <td>Harry James</td>\n",
       "      <td>17750.5</td>\n",
       "      <td>53.0</td>\n",
       "      <td>34.7</td>\n",
       "      <td>9.894709</td>\n",
       "      <td>1977.8</td>\n",
       "      <td>31.701901</td>\n",
       "      <td>0.841900</td>\n",
       "      <td>0.158289</td>\n",
       "      <td>0.4435</td>\n",
       "      <td>0.140408</td>\n",
       "      <td>197270.7</td>\n",
       "      <td>38825.948564</td>\n",
       "      <td>0.24639</td>\n",
       "      <td>0.198372</td>\n",
       "      <td>0.267144</td>\n",
       "      <td>0.373276</td>\n",
       "      <td>0.18035</td>\n",
       "      <td>0.086693</td>\n",
       "      <td>-12.8619</td>\n",
       "      <td>4.617813</td>\n",
       "      <td>0.03994</td>\n",
       "      <td>0.018269</td>\n",
       "      <td>100.5924</td>\n",
       "      <td>21.342652</td>\n",
       "      <td>0.40420</td>\n",
       "      <td>0.173864</td>\n",
       "    </tr>\n",
       "  </tbody>\n",
       "</table>\n",
       "</div>"
      ],
      "text/plain": [
       "                artist_id  artist_name  artist_followers  artist_popularity  track_popularity_mean  track_popularity_std  track_release_year_mean  track_release_year_std  acousticness_mean  acousticness_std  danceability_mean  danceability_std  duration_ms_mean  duration_ms_std  energy_mean  energy_std  instrumentalness_mean  instrumentalness_std  liveness_mean  liveness_std  loudness_mean  loudness_std  speechiness_mean  speechiness_std  tempo_mean  tempo_std  valence_mean  valence_std\n",
       "0  2jTsRGHAvKXXSbeO52G1t5     Webbstur            3453.0               28.0                   17.8             10.195860                   2017.3                0.948683           0.170563          0.255500             0.5925          0.116009          245121.3     51594.498027      0.84040    0.086234               0.413950              0.373703        0.15339      0.093559        -6.7449      1.570696           0.04442         0.015108    124.9970   2.174399       0.42026     0.266024\n",
       "1  5CRw2KQzb9aH8HuyuQ6QCL          Ozy             103.0                6.0                    2.5              5.233439                   2012.7                4.001389           0.197861          0.354064             0.6189          0.177373          267232.6     94528.177818      0.72450    0.278383               0.672460              0.294077        0.21175      0.136774        -9.2551      5.195449           0.09468         0.055908    148.4241  21.335355       0.44111     0.272943\n",
       "2  11fxyJpCpCnuG2c6NMuZNt   Bia Macedo            5177.0               11.0                    7.8              4.391912                   2017.0                0.000000           0.262620          0.159743             0.6322          0.087031          180036.6     12755.167904      0.87670    0.123941               0.000000              0.000000        0.37700      0.226577        -2.9268      2.288700           0.12018         0.090222    153.8066  20.089296       0.77540     0.090969\n",
       "3  0pRBqfB42iVqXKIFJdfFKS  Brett Detar            1781.0               20.0                   14.1              7.752419                   2011.8                1.549193           0.183107          0.270250             0.4248          0.128387          259215.9     49391.796063      0.66320    0.200920               0.072125              0.140028        0.22184      0.176418        -7.4456      2.286342           0.03678         0.017357    135.1359  29.490275       0.48690     0.269610\n",
       "4  5MpELOfAiq7aIBTij30phD  Harry James           17750.5               53.0                   34.7              9.894709                   1977.8               31.701901           0.841900          0.158289             0.4435          0.140408          197270.7     38825.948564      0.24639    0.198372               0.267144              0.373276        0.18035      0.086693       -12.8619      4.617813           0.03994         0.018269    100.5924  21.342652       0.40420     0.173864"
      ]
     },
     "execution_count": 2,
     "metadata": {},
     "output_type": "execute_result"
    }
   ],
   "source": [
    "# Read CSV to DataFrame\n",
    "artists = pd.read_csv('Data/artists_train.csv')\n",
    "\n",
    "# Drop unnamed column\n",
    "artists.drop(columns=['Unnamed: 0', 'Unnamed: 0.1'], inplace=True)\n",
    "\n",
    "# Create id_name_genre column\n",
    "#artists['id_name'] = artists['artist_id'] + ', ' + artists['artist_name'].fillna('None')\n",
    "\n",
    "# Preview dataframe\n",
    "print(artists.info())\n",
    "artists.head()"
   ]
  },
  {
   "cell_type": "markdown",
   "metadata": {},
   "source": [
    "### Define X"
   ]
  },
  {
   "cell_type": "code",
   "execution_count": null,
   "metadata": {},
   "outputs": [],
   "source": [
    "X_train = artists.drop(columns=['artist_id', 'artist_name'])"
   ]
  },
  {
   "cell_type": "markdown",
   "metadata": {},
   "source": [
    "### Normalize Data"
   ]
  },
  {
   "cell_type": "markdown",
   "metadata": {},
   "source": [
    "#### Standard Scaler"
   ]
  },
  {
   "cell_type": "code",
   "execution_count": null,
   "metadata": {},
   "outputs": [],
   "source": [
    "from sklearn.preprocessing import StandardScaler\n",
    "ss = StandardScaler()\n",
    "X_train_sscaled = ss.fit_transform(X_train)\n",
    "X_train_sscaled = pd.DataFrame(X_train_sscaled, columns=X_train.columns)"
   ]
  },
  {
   "cell_type": "markdown",
   "metadata": {},
   "source": [
    "#### MinMax Scaler"
   ]
  },
  {
   "cell_type": "code",
   "execution_count": 3,
   "metadata": {
    "ExecuteTime": {
     "end_time": "2019-11-20T16:55:04.816698Z",
     "start_time": "2019-11-20T16:55:04.578216Z"
    }
   },
   "outputs": [],
   "source": [
    "from sklearn.preprocessing import MinMaxScaler\n",
    "mms = MinMaxScaler()\n",
    "X_train_mmscaled = mms.fit_transform(X_train)\n",
    "X_train_mmscaled = pd.DataFrame(X_train_mmscaled, columns=X_train.columns)"
   ]
  },
  {
   "cell_type": "markdown",
   "metadata": {},
   "source": [
    "## K-Means Clustering"
   ]
  },
  {
   "cell_type": "markdown",
   "metadata": {},
   "source": [
    "### K-Means (Unscaled)"
   ]
  },
  {
   "cell_type": "markdown",
   "metadata": {},
   "source": [
    "#### K=3"
   ]
  },
  {
   "cell_type": "code",
   "execution_count": 13,
   "metadata": {
    "ExecuteTime": {
     "end_time": "2019-11-19T21:56:38.095103Z",
     "start_time": "2019-11-19T21:56:31.225929Z"
    }
   },
   "outputs": [],
   "source": [
    "# K-Means in SKLearn\n",
    "k_means_3 = KMeans(n_clusters=3)\n",
    "k_means_3.fit(X_train)\n",
    "yhat_3 = k_means_3.predict(X_train)"
   ]
  },
  {
   "cell_type": "code",
   "execution_count": 37,
   "metadata": {
    "ExecuteTime": {
     "end_time": "2019-11-19T23:44:30.968322Z",
     "start_time": "2019-11-19T23:35:34.634920Z"
    }
   },
   "outputs": [
    {
     "data": {
      "text/plain": [
       "0.9612108913812986"
      ]
     },
     "execution_count": 37,
     "metadata": {},
     "output_type": "execute_result"
    }
   ],
   "source": [
    "# Silhouette Score\n",
    "#labels_3 = k_means_3.labels_\n",
    "sil_sc_3 = silhouette_score(X_train, yhat_3, metric='euclidean')\n",
    "sil_sc_3"
   ]
  },
  {
   "cell_type": "code",
   "execution_count": 16,
   "metadata": {
    "ExecuteTime": {
     "end_time": "2019-11-19T22:01:31.826140Z",
     "start_time": "2019-11-19T22:01:31.649628Z"
    },
    "scrolled": true
   },
   "outputs": [
    {
     "name": "stdout",
     "output_type": "stream",
     "text": [
      "157264.94188288614\n"
     ]
    }
   ],
   "source": [
    "# Calinski Harabasz Score\n",
    "ch_sc_3 = calinski_harabasz_score(X_train, yhat_3)\n",
    "ch_sc_3"
   ]
  },
  {
   "cell_type": "markdown",
   "metadata": {},
   "source": [
    "#### K=4"
   ]
  },
  {
   "cell_type": "code",
   "execution_count": 20,
   "metadata": {
    "ExecuteTime": {
     "end_time": "2019-11-19T22:28:44.576097Z",
     "start_time": "2019-11-19T22:15:55.225407Z"
    }
   },
   "outputs": [],
   "source": [
    "# K-Means in SKLearn\n",
    "k_means_4 = KMeans(n_clusters=4)\n",
    "k_means_4.fit(X_train)\n",
    "yhat_4 = k_means_4.predict(X_train)"
   ]
  },
  {
   "cell_type": "code",
   "execution_count": 38,
   "metadata": {
    "ExecuteTime": {
     "end_time": "2019-11-20T01:03:30.256145Z",
     "start_time": "2019-11-20T00:55:18.945927Z"
    }
   },
   "outputs": [
    {
     "data": {
      "text/plain": [
       "0.9489296016263137"
      ]
     },
     "execution_count": 38,
     "metadata": {},
     "output_type": "execute_result"
    }
   ],
   "source": [
    "# Silhouette Score\n",
    "#labels_4 = k_means_4.labels_\n",
    "sil_sc_4 = silhouette_score(X_train, yhat_4, metric='euclidean')\n",
    "sil_sc_4"
   ]
  },
  {
   "cell_type": "code",
   "execution_count": 21,
   "metadata": {
    "ExecuteTime": {
     "end_time": "2019-11-19T22:40:45.785104Z",
     "start_time": "2019-11-19T22:40:45.519430Z"
    }
   },
   "outputs": [
    {
     "name": "stdout",
     "output_type": "stream",
     "text": [
      "151618.03217560623\n"
     ]
    }
   ],
   "source": [
    "# Calinski Harabasz Score\n",
    "ch_sc_4 = calinski_harabasz_score(X_train, yhat_4)\n",
    "ch_sc_4"
   ]
  },
  {
   "cell_type": "markdown",
   "metadata": {},
   "source": [
    "#### K=5"
   ]
  },
  {
   "cell_type": "code",
   "execution_count": 22,
   "metadata": {
    "ExecuteTime": {
     "end_time": "2019-11-19T22:28:44.576097Z",
     "start_time": "2019-11-19T22:15:55.225407Z"
    }
   },
   "outputs": [],
   "source": [
    "# K-Means in SKLearn\n",
    "k_means_5 = KMeans(n_clusters=5)\n",
    "k_means_5.fit(X_train)\n",
    "yhat_5 = k_means_5.predict(X_train)"
   ]
  },
  {
   "cell_type": "code",
   "execution_count": 39,
   "metadata": {
    "ExecuteTime": {
     "end_time": "2019-11-20T01:03:30.256145Z",
     "start_time": "2019-11-20T00:55:18.945927Z"
    }
   },
   "outputs": [
    {
     "data": {
      "text/plain": [
       "0.9011829362566631"
      ]
     },
     "execution_count": 39,
     "metadata": {},
     "output_type": "execute_result"
    }
   ],
   "source": [
    "# Silhouette Score\n",
    "#labels_5 = k_means_5.labels_\n",
    "sil_sc_5 = silhouette_score(X_train, yhat_5, metric='euclidean')\n",
    "sil_sc_5"
   ]
  },
  {
   "cell_type": "code",
   "execution_count": 23,
   "metadata": {
    "ExecuteTime": {
     "end_time": "2019-11-19T22:40:45.785104Z",
     "start_time": "2019-11-19T22:40:45.519430Z"
    }
   },
   "outputs": [
    {
     "name": "stdout",
     "output_type": "stream",
     "text": [
      "165799.13265178702\n"
     ]
    }
   ],
   "source": [
    "# Calinski Harabasz Score\n",
    "ch_sc_5 = calinski_harabasz_score(X_train, yhat_5)\n",
    "ch_sc_5"
   ]
  },
  {
   "cell_type": "markdown",
   "metadata": {},
   "source": [
    "#### K=6"
   ]
  },
  {
   "cell_type": "code",
   "execution_count": 24,
   "metadata": {
    "ExecuteTime": {
     "end_time": "2019-11-19T22:28:44.576097Z",
     "start_time": "2019-11-19T22:15:55.225407Z"
    }
   },
   "outputs": [],
   "source": [
    "# K-Means in SKLearn\n",
    "k_means_6 = KMeans(n_clusters=6)\n",
    "k_means_6.fit(X_train)\n",
    "yhat_6 = k_means_6.predict(X_train)"
   ]
  },
  {
   "cell_type": "code",
   "execution_count": 40,
   "metadata": {
    "ExecuteTime": {
     "end_time": "2019-11-20T01:03:30.256145Z",
     "start_time": "2019-11-20T00:55:18.945927Z"
    }
   },
   "outputs": [
    {
     "data": {
      "text/plain": [
       "0.9005677037999094"
      ]
     },
     "execution_count": 40,
     "metadata": {},
     "output_type": "execute_result"
    }
   ],
   "source": [
    "# Silhouette Score\n",
    "#labels_6 = k_means_6.labels_\n",
    "sil_sc_6 = silhouette_score(X_train, yhat_6, metric='euclidean')\n",
    "sil_sc_6"
   ]
  },
  {
   "cell_type": "code",
   "execution_count": 25,
   "metadata": {
    "ExecuteTime": {
     "end_time": "2019-11-19T22:40:45.785104Z",
     "start_time": "2019-11-19T22:40:45.519430Z"
    }
   },
   "outputs": [
    {
     "name": "stdout",
     "output_type": "stream",
     "text": [
      "171269.47846653475\n"
     ]
    }
   ],
   "source": [
    "# Calinski Harabasz Score\n",
    "ch_sc_6 = calinski_harabasz_score(X_train, yhat_6)\n",
    "ch_sc_6"
   ]
  },
  {
   "cell_type": "markdown",
   "metadata": {},
   "source": [
    "#### K=10"
   ]
  },
  {
   "cell_type": "code",
   "execution_count": 26,
   "metadata": {
    "ExecuteTime": {
     "end_time": "2019-11-19T22:28:44.576097Z",
     "start_time": "2019-11-19T22:15:55.225407Z"
    }
   },
   "outputs": [],
   "source": [
    "# K-Means in SKLearn\n",
    "k_means_10 = KMeans(n_clusters=10)\n",
    "k_means_10.fit(X_train)\n",
    "yhat_10 = k_means_10.predict(X_train)"
   ]
  },
  {
   "cell_type": "code",
   "execution_count": 41,
   "metadata": {
    "ExecuteTime": {
     "end_time": "2019-11-20T01:03:30.256145Z",
     "start_time": "2019-11-20T00:55:18.945927Z"
    }
   },
   "outputs": [
    {
     "data": {
      "text/plain": [
       "0.5010848006215459"
      ]
     },
     "execution_count": 41,
     "metadata": {},
     "output_type": "execute_result"
    }
   ],
   "source": [
    "# Silhouette Score\n",
    "#labels_10 = k_means_10.labels_\n",
    "sil_sc_10 = silhouette_score(X_train, yhat_10, metric='euclidean')\n",
    "sil_sc_10"
   ]
  },
  {
   "cell_type": "code",
   "execution_count": 27,
   "metadata": {
    "ExecuteTime": {
     "end_time": "2019-11-19T22:40:45.785104Z",
     "start_time": "2019-11-19T22:40:45.519430Z"
    }
   },
   "outputs": [
    {
     "name": "stdout",
     "output_type": "stream",
     "text": [
      "204699.18778517135\n"
     ]
    }
   ],
   "source": [
    "# Calinski Harabasz Score\n",
    "ch_sc_10 = calinski_harabasz_score(X_train, yhat_10)\n",
    "ch_sc_10"
   ]
  },
  {
   "cell_type": "markdown",
   "metadata": {},
   "source": [
    "#### K=15"
   ]
  },
  {
   "cell_type": "code",
   "execution_count": 28,
   "metadata": {
    "ExecuteTime": {
     "end_time": "2019-11-19T22:28:44.576097Z",
     "start_time": "2019-11-19T22:15:55.225407Z"
    }
   },
   "outputs": [],
   "source": [
    "# K-Means in SKLearn\n",
    "k_means_15 = KMeans(n_clusters=15)\n",
    "k_means_15.fit(X_train)\n",
    "yhat_15 = k_means_15.predict(X_train)"
   ]
  },
  {
   "cell_type": "code",
   "execution_count": 42,
   "metadata": {
    "ExecuteTime": {
     "end_time": "2019-11-20T01:03:30.256145Z",
     "start_time": "2019-11-20T00:55:18.945927Z"
    }
   },
   "outputs": [
    {
     "data": {
      "text/plain": [
       "0.3503218202911173"
      ]
     },
     "execution_count": 42,
     "metadata": {},
     "output_type": "execute_result"
    }
   ],
   "source": [
    "# Silhouette Score\n",
    "#labels_15 = k_means_15.labels_\n",
    "sil_sc_15 = silhouette_score(X_train, yhat_15, metric='euclidean')\n",
    "sil_sc_15"
   ]
  },
  {
   "cell_type": "code",
   "execution_count": 29,
   "metadata": {
    "ExecuteTime": {
     "end_time": "2019-11-19T22:40:45.785104Z",
     "start_time": "2019-11-19T22:40:45.519430Z"
    }
   },
   "outputs": [
    {
     "name": "stdout",
     "output_type": "stream",
     "text": [
      "228311.27475159423\n"
     ]
    }
   ],
   "source": [
    "# Calinski Harabasz Score\n",
    "ch_sc_15 = calinski_harabasz_score(X_train, yhat_15)\n",
    "ch_sc_15"
   ]
  },
  {
   "cell_type": "markdown",
   "metadata": {},
   "source": [
    "#### K=20"
   ]
  },
  {
   "cell_type": "code",
   "execution_count": 30,
   "metadata": {
    "ExecuteTime": {
     "end_time": "2019-11-19T22:28:44.576097Z",
     "start_time": "2019-11-19T22:15:55.225407Z"
    }
   },
   "outputs": [],
   "source": [
    "# K-Means in SKLearn\n",
    "k_means_20 = KMeans(n_clusters=20)\n",
    "k_means_20.fit(X_train)\n",
    "yhat_20 = k_means_20.predict(X_train)"
   ]
  },
  {
   "cell_type": "code",
   "execution_count": 43,
   "metadata": {
    "ExecuteTime": {
     "end_time": "2019-11-20T01:03:30.256145Z",
     "start_time": "2019-11-20T00:55:18.945927Z"
    }
   },
   "outputs": [
    {
     "data": {
      "text/plain": [
       "0.3282035435702609"
      ]
     },
     "execution_count": 43,
     "metadata": {},
     "output_type": "execute_result"
    }
   ],
   "source": [
    "# Silhouette Score\n",
    "#labels_20 = k_means_20.labels_\n",
    "sil_sc_20 = silhouette_score(X_train, yhat_20, metric='euclidean')\n",
    "sil_sc_20"
   ]
  },
  {
   "cell_type": "code",
   "execution_count": 31,
   "metadata": {
    "ExecuteTime": {
     "end_time": "2019-11-19T22:40:45.785104Z",
     "start_time": "2019-11-19T22:40:45.519430Z"
    }
   },
   "outputs": [
    {
     "name": "stdout",
     "output_type": "stream",
     "text": [
      "251683.23809260657\n"
     ]
    }
   ],
   "source": [
    "# Calinski Harabasz Score\n",
    "ch_sc_20 = calinski_harabasz_score(X_train, yhat_20)\n",
    "ch_sc_20"
   ]
  },
  {
   "cell_type": "markdown",
   "metadata": {},
   "source": [
    "#### K=50"
   ]
  },
  {
   "cell_type": "code",
   "execution_count": 32,
   "metadata": {
    "ExecuteTime": {
     "end_time": "2019-11-19T22:28:44.576097Z",
     "start_time": "2019-11-19T22:15:55.225407Z"
    }
   },
   "outputs": [],
   "source": [
    "# K-Means in SKLearn\n",
    "k_means_50 = KMeans(n_clusters=50)\n",
    "k_means_50.fit(X_train)\n",
    "yhat_50 = k_means_50.predict(X_train)"
   ]
  },
  {
   "cell_type": "code",
   "execution_count": 44,
   "metadata": {
    "ExecuteTime": {
     "end_time": "2019-11-20T01:03:30.256145Z",
     "start_time": "2019-11-20T00:55:18.945927Z"
    }
   },
   "outputs": [
    {
     "data": {
      "text/plain": [
       "0.30120239185421593"
      ]
     },
     "execution_count": 44,
     "metadata": {},
     "output_type": "execute_result"
    }
   ],
   "source": [
    "# Silhouette Score\n",
    "#labels_50 = k_means_50.labels_\n",
    "sil_sc_50 = silhouette_score(X_train, yhat_50, metric='euclidean')\n",
    "sil_sc_50"
   ]
  },
  {
   "cell_type": "code",
   "execution_count": 33,
   "metadata": {
    "ExecuteTime": {
     "end_time": "2019-11-19T22:40:45.785104Z",
     "start_time": "2019-11-19T22:40:45.519430Z"
    }
   },
   "outputs": [
    {
     "name": "stdout",
     "output_type": "stream",
     "text": [
      "301895.1531959279\n"
     ]
    }
   ],
   "source": [
    "# Calinski Harabasz Score\n",
    "ch_sc_50 = calinski_harabasz_score(X_train, yhat_50)\n",
    "ch_sc_50"
   ]
  },
  {
   "cell_type": "markdown",
   "metadata": {},
   "source": [
    "#### K=100"
   ]
  },
  {
   "cell_type": "code",
   "execution_count": 34,
   "metadata": {
    "ExecuteTime": {
     "end_time": "2019-11-19T22:28:44.576097Z",
     "start_time": "2019-11-19T22:15:55.225407Z"
    }
   },
   "outputs": [],
   "source": [
    "# K-Means in SKLearn\n",
    "k_means_100 = KMeans(n_clusters=100)\n",
    "k_means_100.fit(X_train)\n",
    "yhat_100 = k_means_100.predict(X_train)"
   ]
  },
  {
   "cell_type": "code",
   "execution_count": 45,
   "metadata": {
    "ExecuteTime": {
     "end_time": "2019-11-20T01:03:30.256145Z",
     "start_time": "2019-11-20T00:55:18.945927Z"
    }
   },
   "outputs": [
    {
     "data": {
      "text/plain": [
       "0.29860184120076216"
      ]
     },
     "execution_count": 45,
     "metadata": {},
     "output_type": "execute_result"
    }
   ],
   "source": [
    "# Silhouette Score\n",
    "#labels_100 = k_means_100.labels_\n",
    "sil_sc_100 = silhouette_score(X_train, yhat_100, metric='euclidean')\n",
    "sil_sc_100"
   ]
  },
  {
   "cell_type": "code",
   "execution_count": 36,
   "metadata": {
    "ExecuteTime": {
     "end_time": "2019-11-19T22:40:45.785104Z",
     "start_time": "2019-11-19T22:40:45.519430Z"
    }
   },
   "outputs": [
    {
     "name": "stdout",
     "output_type": "stream",
     "text": [
      "331618.48450482957\n"
     ]
    }
   ],
   "source": [
    "# Calinski Harabasz Score\n",
    "ch_sc_100 = calinski_harabasz_score(X_train, yhat_100)\n",
    "ch_sc_100"
   ]
  },
  {
   "cell_type": "markdown",
   "metadata": {},
   "source": [
    "#### Finding Optimal K"
   ]
  },
  {
   "cell_type": "code",
   "execution_count": 46,
   "metadata": {
    "ExecuteTime": {
     "end_time": "2019-11-20T01:59:30.891521Z",
     "start_time": "2019-11-20T01:59:30.888811Z"
    }
   },
   "outputs": [],
   "source": [
    "k_values = [3, 4, 5, 6, 10, 15, 20, 50, 100]"
   ]
  },
  {
   "cell_type": "code",
   "execution_count": 47,
   "metadata": {
    "ExecuteTime": {
     "end_time": "2019-11-20T01:59:31.212938Z",
     "start_time": "2019-11-20T01:59:31.210259Z"
    }
   },
   "outputs": [],
   "source": [
    "#[0.9612, 0.9489, 0.9012, 0.9006, 0.5011, 0.3503, 0.3282, 0.3012, 0.2986]\n",
    "silhouette_scores = [sil_sc_3, \n",
    "                     sil_sc_4, \n",
    "                     sil_sc_5, \n",
    "                     sil_sc_6, \n",
    "                     sil_sc_10, \n",
    "                     sil_sc_15, \n",
    "                     sil_sc_20, \n",
    "                     sil_sc_50, \n",
    "                     sil_sc_100]\n",
    "silhouette_scores"
   ]
  },
  {
   "cell_type": "code",
   "execution_count": 48,
   "metadata": {
    "ExecuteTime": {
     "end_time": "2019-11-20T01:59:31.579197Z",
     "start_time": "2019-11-20T01:59:31.576517Z"
    }
   },
   "outputs": [],
   "source": [
    "#[157264.94, 151618.03, 165799.13, 171269.48, 204699.19, 228311.27, 251683.24, 301895.15, 331618.48]\n",
    "calinski_harabasz_scores = [ch_sc_3, \n",
    "                            ch_sc_4, \n",
    "                            ch_sc_5, \n",
    "                            ch_sc_6, \n",
    "                            ch_sc_10, \n",
    "                            ch_sc_15, \n",
    "                            ch_sc_20, \n",
    "                            ch_sc_50, \n",
    "                            ch_sc_100]\n",
    "calinski_harabasz_scores"
   ]
  },
  {
   "cell_type": "code",
   "execution_count": 49,
   "metadata": {
    "ExecuteTime": {
     "end_time": "2019-11-20T01:59:55.571716Z",
     "start_time": "2019-11-20T01:59:55.568012Z"
    }
   },
   "outputs": [
    {
     "data": {
      "text/plain": [
       "True"
      ]
     },
     "execution_count": 49,
     "metadata": {},
     "output_type": "execute_result"
    }
   ],
   "source": [
    "len(k_values) == len(silhouette_scores) == len(calinski_harabasz_scores)"
   ]
  },
  {
   "cell_type": "markdown",
   "metadata": {},
   "source": [
    "##### Elbow Plot: Silhouette Scores"
   ]
  },
  {
   "cell_type": "code",
   "execution_count": 57,
   "metadata": {
    "ExecuteTime": {
     "end_time": "2019-11-20T02:11:20.565595Z",
     "start_time": "2019-11-20T02:11:20.418242Z"
    },
    "cell_style": "center",
    "scrolled": false
   },
   "outputs": [
    {
     "data": {
      "image/png": "[encoded data removed]",
      "text/plain": [
       "<Figure size 432x288 with 1 Axes>"
      ]
     },
     "metadata": {
      "needs_background": "light"
     },
     "output_type": "display_data"
    }
   ],
   "source": [
    "plt.plot(k_values, silhouette_scores)\n",
    "plt.xticks(k_values)\n",
    "plt.title(\"Silhouette Scores for Different Values of K\")\n",
    "plt.ylabel(\"Silhouette Score\")\n",
    "plt.xlabel(\"K=\")\n",
    "plt.show()"
   ]
  },
  {
   "cell_type": "markdown",
   "metadata": {},
   "source": [
    "##### Elbow Plot: Calinski Harabaz Scores"
   ]
  },
  {
   "cell_type": "code",
   "execution_count": 58,
   "metadata": {
    "ExecuteTime": {
     "end_time": "2019-11-20T02:11:27.797335Z",
     "start_time": "2019-11-20T02:11:27.657698Z"
    }
   },
   "outputs": [
    {
     "data": {
      "image/png": "[encoded data removed]",
      "text/plain": [
       "<Figure size 432x288 with 1 Axes>"
      ]
     },
     "metadata": {
      "needs_background": "light"
     },
     "output_type": "display_data"
    }
   ],
   "source": [
    "plt.plot(k_values, calinski_harabasz_scores)\n",
    "plt.xticks(k_values)\n",
    "plt.title(\"Calinski Harabaz Scores for Different Values of K\")\n",
    "plt.ylabel(\"Variance Ratio\")\n",
    "plt.xlabel(\"K=\")\n",
    "plt.show()"
   ]
  },
  {
   "cell_type": "markdown",
   "metadata": {},
   "source": [
    "### K-Means (Standard Scaler)"
   ]
  },
  {
   "cell_type": "markdown",
   "metadata": {},
   "source": [
    "#### Testing Different K Values"
   ]
  },
  {
   "cell_type": "markdown",
   "metadata": {},
   "source": [
    "##### K=3"
   ]
  },
  {
   "cell_type": "code",
   "execution_count": 61,
   "metadata": {
    "ExecuteTime": {
     "end_time": "2019-11-20T04:05:54.095808Z",
     "start_time": "2019-11-20T04:05:50.488965Z"
    }
   },
   "outputs": [],
   "source": [
    "# K-Means in SKLearn\n",
    "k_means_3_ss = KMeans(n_clusters=3)\n",
    "k_means_3_ss.fit(X_train_sscaled)\n",
    "yhat_3_ss = k_means_3_ss.predict(X_train_sscaled)\n",
    "\n",
    "# Silhouette Score\n",
    "sil_sc_3_ss = silhouette_score(X_train_sscaled, yhat_3_ss, metric='euclidean')\n",
    "sil_sc_3_ss\n",
    "\n",
    "# Calinski Harabasz Score\n",
    "ch_sc_3_ss = calinski_harabasz_score(X_train_sscaled, yhat_3_ss)\n",
    "ch_sc_3_ss"
   ]
  },
  {
   "cell_type": "code",
   "execution_count": 62,
   "metadata": {
    "ExecuteTime": {
     "end_time": "2019-11-20T04:14:17.536756Z",
     "start_time": "2019-11-20T04:05:54.097853Z"
    }
   },
   "outputs": [
    {
     "data": {
      "text/plain": [
       "0.12633466503322371"
      ]
     },
     "execution_count": 62,
     "metadata": {},
     "output_type": "execute_result"
    }
   ],
   "source": [
    "# Silhouette Score\n",
    "#labels_3 = k_means_3.labels_\n",
    "sil_sc_3 = silhouette_score(X_train_sscaled, yhat_3, metric='euclidean')\n",
    "sil_sc_3"
   ]
  },
  {
   "cell_type": "code",
   "execution_count": 63,
   "metadata": {
    "ExecuteTime": {
     "end_time": "2019-11-20T04:14:17.616900Z",
     "start_time": "2019-11-20T04:14:17.538631Z"
    },
    "scrolled": true
   },
   "outputs": [
    {
     "data": {
      "text/plain": [
       "22682.528626599502"
      ]
     },
     "execution_count": 63,
     "metadata": {},
     "output_type": "execute_result"
    }
   ],
   "source": [
    "# Calinski Harabasz Score\n",
    "ch_sc_3 = calinski_harabasz_score(X_train_sscaled, yhat_3)\n",
    "ch_sc_3"
   ]
  },
  {
   "cell_type": "markdown",
   "metadata": {},
   "source": [
    "##### K=4"
   ]
  },
  {
   "cell_type": "code",
   "execution_count": null,
   "metadata": {},
   "outputs": [],
   "source": [
    "# K-Means in SKLearn\n",
    "k_means_4_ss = KMeans(n_clusters=4)\n",
    "k_means_4_ss.fit(X_train_sscaled)\n",
    "yhat_4_ss = k_means_4_ss.predict(X_train_sscaled)\n",
    "\n",
    "# Silhouette Score\n",
    "sil_sc_4_ss = silhouette_score(X_train_sscaled, yhat_4_ss, metric='euclidean')\n",
    "sil_sc_4_ss\n",
    "\n",
    "# Calinski Harabasz Score\n",
    "ch_sc_4_ss = calinski_harabasz_score(X_train_sscaled, yhat_4_ss)\n",
    "ch_sc_4_ss"
   ]
  },
  {
   "cell_type": "code",
   "execution_count": 64,
   "metadata": {
    "ExecuteTime": {
     "end_time": "2019-11-20T04:14:23.422304Z",
     "start_time": "2019-11-20T04:14:17.619015Z"
    }
   },
   "outputs": [],
   "source": [
    "# K-Means in SKLearn\n",
    "k_means_4 = KMeans(n_clusters=4)\n",
    "k_means_4.fit(X_train_sscaled)\n",
    "yhat_4 = k_means_4.predict(X_train_sscaled)"
   ]
  },
  {
   "cell_type": "code",
   "execution_count": 65,
   "metadata": {
    "ExecuteTime": {
     "end_time": "2019-11-20T04:22:35.541708Z",
     "start_time": "2019-11-20T04:14:23.424305Z"
    }
   },
   "outputs": [
    {
     "data": {
      "text/plain": [
       "0.11120727123436948"
      ]
     },
     "execution_count": 65,
     "metadata": {},
     "output_type": "execute_result"
    }
   ],
   "source": [
    "# Silhouette Score\n",
    "#labels_4 = k_means_4.labels_\n",
    "sil_sc_4 = silhouette_score(X_train_sscaled, yhat_4, metric='euclidean')\n",
    "sil_sc_4"
   ]
  },
  {
   "cell_type": "code",
   "execution_count": 66,
   "metadata": {
    "ExecuteTime": {
     "end_time": "2019-11-20T04:22:35.632650Z",
     "start_time": "2019-11-20T04:22:35.543753Z"
    }
   },
   "outputs": [
    {
     "data": {
      "text/plain": [
       "20716.146350968957"
      ]
     },
     "execution_count": 66,
     "metadata": {},
     "output_type": "execute_result"
    }
   ],
   "source": [
    "# Calinski Harabasz Score\n",
    "ch_sc_4 = calinski_harabasz_score(X_train_sscaled, yhat_4)\n",
    "ch_sc_4"
   ]
  },
  {
   "cell_type": "markdown",
   "metadata": {},
   "source": [
    "##### K=5"
   ]
  },
  {
   "cell_type": "code",
   "execution_count": null,
   "metadata": {},
   "outputs": [],
   "source": [
    "# K-Means in SKLearn\n",
    "k_means_5_ss = KMeans(n_clusters=5)\n",
    "k_means_5_ss.fit(X_train_sscaled)\n",
    "yhat_5_ss = k_means_5_ss.predict(X_train_sscaled)\n",
    "\n",
    "# Silhouette Score\n",
    "sil_sc_5_ss = silhouette_score(X_train_sscaled, yhat_5_ss, metric='euclidean')\n",
    "sil_sc_5_ss\n",
    "\n",
    "# Calinski Harabasz Score\n",
    "ch_sc_5_ss = calinski_harabasz_score(X_train_sscaled, yhat_5_ss)\n",
    "ch_sc_5_ss"
   ]
  },
  {
   "cell_type": "code",
   "execution_count": 67,
   "metadata": {
    "ExecuteTime": {
     "end_time": "2019-11-20T04:22:41.297064Z",
     "start_time": "2019-11-20T04:22:35.634867Z"
    }
   },
   "outputs": [],
   "source": [
    "# K-Means in SKLearn\n",
    "k_means_5 = KMeans(n_clusters=5)\n",
    "k_means_5.fit(X_train_sscaled)\n",
    "yhat_5 = k_means_5.predict(X_train_sscaled)"
   ]
  },
  {
   "cell_type": "code",
   "execution_count": 68,
   "metadata": {
    "ExecuteTime": {
     "end_time": "2019-11-20T04:30:41.795821Z",
     "start_time": "2019-11-20T04:22:41.299050Z"
    }
   },
   "outputs": [
    {
     "data": {
      "text/plain": [
       "0.10162697542915378"
      ]
     },
     "execution_count": 68,
     "metadata": {},
     "output_type": "execute_result"
    }
   ],
   "source": [
    "# Silhouette Score\n",
    "#labels_5 = k_means_5.labels_\n",
    "sil_sc_5 = silhouette_score(X_train_sscaled, yhat_5, metric='euclidean')\n",
    "sil_sc_5"
   ]
  },
  {
   "cell_type": "code",
   "execution_count": 69,
   "metadata": {
    "ExecuteTime": {
     "end_time": "2019-11-20T04:30:41.888058Z",
     "start_time": "2019-11-20T04:30:41.797906Z"
    }
   },
   "outputs": [
    {
     "data": {
      "text/plain": [
       "18471.506952948366"
      ]
     },
     "execution_count": 69,
     "metadata": {},
     "output_type": "execute_result"
    }
   ],
   "source": [
    "# Calinski Harabasz Score\n",
    "ch_sc_5 = calinski_harabasz_score(X_train_sscaled, yhat_5)\n",
    "ch_sc_5"
   ]
  },
  {
   "cell_type": "markdown",
   "metadata": {},
   "source": [
    "##### K=6"
   ]
  },
  {
   "cell_type": "code",
   "execution_count": 70,
   "metadata": {
    "ExecuteTime": {
     "end_time": "2019-11-20T04:30:49.799135Z",
     "start_time": "2019-11-20T04:30:41.889980Z"
    }
   },
   "outputs": [],
   "source": [
    "# K-Means in SKLearn\n",
    "k_means_6 = KMeans(n_clusters=6)\n",
    "k_means_6.fit(X_train_sscaled)\n",
    "yhat_6 = k_means_6.predict(X_train_sscaled)"
   ]
  },
  {
   "cell_type": "code",
   "execution_count": 71,
   "metadata": {
    "ExecuteTime": {
     "end_time": "2019-11-20T04:38:49.628432Z",
     "start_time": "2019-11-20T04:30:49.800837Z"
    }
   },
   "outputs": [
    {
     "data": {
      "text/plain": [
       "0.10629562247376065"
      ]
     },
     "execution_count": 71,
     "metadata": {},
     "output_type": "execute_result"
    }
   ],
   "source": [
    "# Silhouette Score\n",
    "#labels_6 = k_means_6.labels_\n",
    "sil_sc_6 = silhouette_score(X_train_sscaled, yhat_6, metric='euclidean')\n",
    "sil_sc_6"
   ]
  },
  {
   "cell_type": "code",
   "execution_count": 72,
   "metadata": {
    "ExecuteTime": {
     "end_time": "2019-11-20T04:38:49.706911Z",
     "start_time": "2019-11-20T04:38:49.630539Z"
    }
   },
   "outputs": [
    {
     "data": {
      "text/plain": [
       "17197.10950590829"
      ]
     },
     "execution_count": 72,
     "metadata": {},
     "output_type": "execute_result"
    }
   ],
   "source": [
    "# Calinski Harabasz Score\n",
    "ch_sc_6 = calinski_harabasz_score(X_train_sscaled, yhat_6)\n",
    "ch_sc_6"
   ]
  },
  {
   "cell_type": "markdown",
   "metadata": {},
   "source": [
    "##### K=10"
   ]
  },
  {
   "cell_type": "code",
   "execution_count": 73,
   "metadata": {
    "ExecuteTime": {
     "end_time": "2019-11-20T04:39:10.758632Z",
     "start_time": "2019-11-20T04:38:49.708983Z"
    }
   },
   "outputs": [],
   "source": [
    "# K-Means in SKLearn\n",
    "k_means_10 = KMeans(n_clusters=10)\n",
    "k_means_10.fit(X_train_sscaled)\n",
    "yhat_10 = k_means_10.predict(X_train_sscaled)"
   ]
  },
  {
   "cell_type": "code",
   "execution_count": 74,
   "metadata": {
    "ExecuteTime": {
     "end_time": "2019-11-20T04:47:08.703694Z",
     "start_time": "2019-11-20T04:39:10.760546Z"
    }
   },
   "outputs": [
    {
     "data": {
      "text/plain": [
       "0.09905222377768459"
      ]
     },
     "execution_count": 74,
     "metadata": {},
     "output_type": "execute_result"
    }
   ],
   "source": [
    "# Silhouette Score\n",
    "#labels_10 = k_means_10.labels_\n",
    "sil_sc_10 = silhouette_score(X_train_sscaled, yhat_10, metric='euclidean')\n",
    "sil_sc_10"
   ]
  },
  {
   "cell_type": "code",
   "execution_count": 75,
   "metadata": {
    "ExecuteTime": {
     "end_time": "2019-11-20T04:47:08.792120Z",
     "start_time": "2019-11-20T04:47:08.705866Z"
    }
   },
   "outputs": [
    {
     "data": {
      "text/plain": [
       "14260.712850269503"
      ]
     },
     "execution_count": 75,
     "metadata": {},
     "output_type": "execute_result"
    }
   ],
   "source": [
    "# Calinski Harabasz Score\n",
    "ch_sc_10 = calinski_harabasz_score(X_train_sscaled, yhat_10)\n",
    "ch_sc_10"
   ]
  },
  {
   "cell_type": "markdown",
   "metadata": {},
   "source": [
    "##### K=15"
   ]
  },
  {
   "cell_type": "code",
   "execution_count": 76,
   "metadata": {
    "ExecuteTime": {
     "end_time": "2019-11-20T04:47:46.062148Z",
     "start_time": "2019-11-20T04:47:08.794266Z"
    }
   },
   "outputs": [],
   "source": [
    "# K-Means in SKLearn\n",
    "k_means_15 = KMeans(n_clusters=15)\n",
    "k_means_15.fit(X_train_sscaled)\n",
    "yhat_15 = k_means_15.predict(X_train_sscaled)"
   ]
  },
  {
   "cell_type": "code",
   "execution_count": 77,
   "metadata": {
    "ExecuteTime": {
     "end_time": "2019-11-20T04:55:44.255757Z",
     "start_time": "2019-11-20T04:47:46.063921Z"
    }
   },
   "outputs": [
    {
     "data": {
      "text/plain": [
       "0.08332137341241151"
      ]
     },
     "execution_count": 77,
     "metadata": {},
     "output_type": "execute_result"
    }
   ],
   "source": [
    "# Silhouette Score\n",
    "#labels_15 = k_means_15.labels_\n",
    "sil_sc_15 = silhouette_score(X_train_sscaled, yhat_15, metric='euclidean')\n",
    "sil_sc_15"
   ]
  },
  {
   "cell_type": "code",
   "execution_count": 78,
   "metadata": {
    "ExecuteTime": {
     "end_time": "2019-11-20T04:55:44.351448Z",
     "start_time": "2019-11-20T04:55:44.257858Z"
    }
   },
   "outputs": [
    {
     "data": {
      "text/plain": [
       "11397.965515756572"
      ]
     },
     "execution_count": 78,
     "metadata": {},
     "output_type": "execute_result"
    }
   ],
   "source": [
    "# Calinski Harabasz Score\n",
    "ch_sc_15 = calinski_harabasz_score(X_train_sscaled, yhat_15)\n",
    "ch_sc_15"
   ]
  },
  {
   "cell_type": "markdown",
   "metadata": {},
   "source": [
    "##### K=20"
   ]
  },
  {
   "cell_type": "code",
   "execution_count": 79,
   "metadata": {
    "ExecuteTime": {
     "end_time": "2019-11-20T04:56:40.455219Z",
     "start_time": "2019-11-20T04:55:44.353519Z"
    }
   },
   "outputs": [],
   "source": [
    "# K-Means in SKLearn\n",
    "k_means_20 = KMeans(n_clusters=20)\n",
    "k_means_20.fit(X_train_sscaled)\n",
    "yhat_20 = k_means_20.predict(X_train_sscaled)"
   ]
  },
  {
   "cell_type": "code",
   "execution_count": 80,
   "metadata": {
    "ExecuteTime": {
     "end_time": "2019-11-20T05:04:39.756242Z",
     "start_time": "2019-11-20T04:56:40.456953Z"
    }
   },
   "outputs": [
    {
     "data": {
      "text/plain": [
       "0.08464213728362414"
      ]
     },
     "execution_count": 80,
     "metadata": {},
     "output_type": "execute_result"
    }
   ],
   "source": [
    "# Silhouette Score\n",
    "#labels_20 = k_means_20.labels_\n",
    "sil_sc_20 = silhouette_score(X_train_sscaled, yhat_20, metric='euclidean')\n",
    "sil_sc_20"
   ]
  },
  {
   "cell_type": "code",
   "execution_count": 81,
   "metadata": {
    "ExecuteTime": {
     "end_time": "2019-11-20T05:04:39.846584Z",
     "start_time": "2019-11-20T05:04:39.758391Z"
    }
   },
   "outputs": [
    {
     "data": {
      "text/plain": [
       "9787.15262813311"
      ]
     },
     "execution_count": 81,
     "metadata": {},
     "output_type": "execute_result"
    }
   ],
   "source": [
    "# Calinski Harabasz Score\n",
    "ch_sc_20 = calinski_harabasz_score(X_train_sscaled, yhat_20)\n",
    "ch_sc_20"
   ]
  },
  {
   "cell_type": "markdown",
   "metadata": {},
   "source": [
    "##### K=50"
   ]
  },
  {
   "cell_type": "code",
   "execution_count": 82,
   "metadata": {
    "ExecuteTime": {
     "end_time": "2019-11-20T05:09:06.072205Z",
     "start_time": "2019-11-20T05:04:39.848352Z"
    }
   },
   "outputs": [],
   "source": [
    "# K-Means in SKLearn\n",
    "k_means_50 = KMeans(n_clusters=50)\n",
    "k_means_50.fit(X_train_sscaled)\n",
    "yhat_50 = k_means_50.predict(X_train_sscaled)"
   ]
  },
  {
   "cell_type": "code",
   "execution_count": 83,
   "metadata": {
    "ExecuteTime": {
     "end_time": "2019-11-20T05:17:06.594656Z",
     "start_time": "2019-11-20T05:09:06.074248Z"
    }
   },
   "outputs": [
    {
     "data": {
      "text/plain": [
       "0.07121974440629723"
      ]
     },
     "execution_count": 83,
     "metadata": {},
     "output_type": "execute_result"
    }
   ],
   "source": [
    "# Silhouette Score\n",
    "#labels_50 = k_means_50.labels_\n",
    "sil_sc_50 = silhouette_score(X_train_sscaled, yhat_50, metric='euclidean')\n",
    "sil_sc_50"
   ]
  },
  {
   "cell_type": "code",
   "execution_count": 84,
   "metadata": {
    "ExecuteTime": {
     "end_time": "2019-11-20T05:17:06.706003Z",
     "start_time": "2019-11-20T05:17:06.596803Z"
    }
   },
   "outputs": [
    {
     "data": {
      "text/plain": [
       "5658.640260264468"
      ]
     },
     "execution_count": 84,
     "metadata": {},
     "output_type": "execute_result"
    }
   ],
   "source": [
    "# Calinski Harabasz Score\n",
    "ch_sc_50 = calinski_harabasz_score(X_train_sscaled, yhat_50)\n",
    "ch_sc_50"
   ]
  },
  {
   "cell_type": "markdown",
   "metadata": {},
   "source": [
    "##### K=100"
   ]
  },
  {
   "cell_type": "code",
   "execution_count": 85,
   "metadata": {
    "ExecuteTime": {
     "end_time": "2019-11-20T05:28:17.655061Z",
     "start_time": "2019-11-20T05:17:06.707796Z"
    }
   },
   "outputs": [],
   "source": [
    "# K-Means in SKLearn\n",
    "k_means_100 = KMeans(n_clusters=100)\n",
    "k_means_100.fit(X_train_sscaled)\n",
    "yhat_100 = k_means_100.predict(X_train_sscaled)"
   ]
  },
  {
   "cell_type": "code",
   "execution_count": 86,
   "metadata": {
    "ExecuteTime": {
     "end_time": "2019-11-20T05:36:14.500008Z",
     "start_time": "2019-11-20T05:28:17.656851Z"
    },
    "scrolled": true
   },
   "outputs": [
    {
     "data": {
      "text/plain": [
       "0.06056694403649478"
      ]
     },
     "execution_count": 86,
     "metadata": {},
     "output_type": "execute_result"
    }
   ],
   "source": [
    "# Silhouette Score\n",
    "#labels_100 = k_means_100.labels_\n",
    "sil_sc_100 = silhouette_score(X_train_sscaled, yhat_100, metric='euclidean')\n",
    "sil_sc_100"
   ]
  },
  {
   "cell_type": "code",
   "execution_count": 87,
   "metadata": {
    "ExecuteTime": {
     "end_time": "2019-11-20T05:36:14.648453Z",
     "start_time": "2019-11-20T05:36:14.502297Z"
    }
   },
   "outputs": [
    {
     "data": {
      "text/plain": [
       "3525.2142930442096"
      ]
     },
     "execution_count": 87,
     "metadata": {},
     "output_type": "execute_result"
    }
   ],
   "source": [
    "# Calinski Harabasz Score\n",
    "ch_sc_100 = calinski_harabasz_score(X_train_sscaled, yhat_100)\n",
    "ch_sc_100"
   ]
  },
  {
   "cell_type": "markdown",
   "metadata": {},
   "source": [
    "#### Finding Optimal K"
   ]
  },
  {
   "cell_type": "code",
   "execution_count": 88,
   "metadata": {
    "ExecuteTime": {
     "end_time": "2019-11-20T05:36:14.653984Z",
     "start_time": "2019-11-20T05:36:14.650511Z"
    }
   },
   "outputs": [],
   "source": [
    "k_values = [3, 4, 5, 6, 10, 15, 20, 50, 100]"
   ]
  },
  {
   "cell_type": "code",
   "execution_count": 89,
   "metadata": {
    "ExecuteTime": {
     "end_time": "2019-11-20T05:36:14.664083Z",
     "start_time": "2019-11-20T05:36:14.656129Z"
    }
   },
   "outputs": [
    {
     "data": {
      "text/plain": [
       "[0.12633466503322371,\n",
       " 0.11120727123436948,\n",
       " 0.10162697542915378,\n",
       " 0.10629562247376065,\n",
       " 0.09905222377768459,\n",
       " 0.08332137341241151,\n",
       " 0.08464213728362414,\n",
       " 0.07121974440629723,\n",
       " 0.06056694403649478]"
      ]
     },
     "execution_count": 89,
     "metadata": {},
     "output_type": "execute_result"
    }
   ],
   "source": [
    "#[0.9612, 0.9489, 0.9012, 0.9006, 0.5011, 0.3503, 0.3282, 0.3012, 0.2986]\n",
    "silhouette_scores = [sil_sc_3, \n",
    "                     sil_sc_4, \n",
    "                     sil_sc_5, \n",
    "                     sil_sc_6, \n",
    "                     sil_sc_10, \n",
    "                     sil_sc_15, \n",
    "                     sil_sc_20, \n",
    "                     sil_sc_50, \n",
    "                     sil_sc_100]\n",
    "silhouette_scores"
   ]
  },
  {
   "cell_type": "code",
   "execution_count": 90,
   "metadata": {
    "ExecuteTime": {
     "end_time": "2019-11-20T05:36:14.672665Z",
     "start_time": "2019-11-20T05:36:14.666295Z"
    }
   },
   "outputs": [
    {
     "data": {
      "text/plain": [
       "[22682.528626599502,\n",
       " 20716.146350968957,\n",
       " 18471.506952948366,\n",
       " 17197.10950590829,\n",
       " 14260.712850269503,\n",
       " 11397.965515756572,\n",
       " 9787.15262813311,\n",
       " 5658.640260264468,\n",
       " 3525.2142930442096]"
      ]
     },
     "execution_count": 90,
     "metadata": {},
     "output_type": "execute_result"
    }
   ],
   "source": []
  },
  {
   "cell_type": "code",
   "execution_count": 91,
   "metadata": {
    "ExecuteTime": {
     "end_time": "2019-11-20T05:36:14.680527Z",
     "start_time": "2019-11-20T05:36:14.674877Z"
    }
   },
   "outputs": [
    {
     "data": {
      "text/plain": [
       "True"
      ]
     },
     "execution_count": 91,
     "metadata": {},
     "output_type": "execute_result"
    }
   ],
   "source": [
    "len(k_values) == len(silhouette_scores) == len(calinski_harabasz_scores)"
   ]
  },
  {
   "cell_type": "markdown",
   "metadata": {},
   "source": [
    "#### Silhouette Scores"
   ]
  },
  {
   "cell_type": "markdown",
   "metadata": {},
   "source": [
    "when tight, close to 1; if not tight, close to -1\n",
    "\n",
    "1. Plot Silhouette Score for different K values, calculated using:\n",
    "   - 1) average distance between one data sample and all other points in the same cluster and \n",
    "   - 2) average distance between one data sample and all other points in the next nearest cluster\n",
    "2. Pick K value closest to 1\n",
    "   - higher score means model with better defined clusters\n",
    "   "
   ]
  },
  {
   "cell_type": "code",
   "execution_count": 92,
   "metadata": {
    "ExecuteTime": {
     "end_time": "2019-11-20T05:36:14.822263Z",
     "start_time": "2019-11-20T05:36:14.682755Z"
    },
    "cell_style": "center",
    "scrolled": true
   },
   "outputs": [
    {
     "data": {
      "image/png": "[encoded data removed]",
      "text/plain": [
       "<Figure size 432x288 with 1 Axes>"
      ]
     },
     "metadata": {
      "needs_background": "light"
     },
     "output_type": "display_data"
    }
   ],
   "source": [
    "plt.plot(k_values, silhouette_scores)\n",
    "plt.xticks(k_values)\n",
    "plt.title(\"Silhouette Scores for Different Values of K\")\n",
    "plt.ylabel(\"Silhouette Score\")\n",
    "plt.xlabel(\"K=\")\n",
    "plt.show()"
   ]
  },
  {
   "cell_type": "code",
   "execution_count": 7,
   "metadata": {
    "ExecuteTime": {
     "end_time": "2019-11-20T18:51:48.260226Z",
     "start_time": "2019-11-20T17:00:55.247248Z"
    }
   },
   "outputs": [
    {
     "data": {
      "image/png": "[encoded data removed]",
      "text/plain": [
       "<Figure size 576x396 with 1 Axes>"
      ]
     },
     "metadata": {},
     "output_type": "display_data"
    },
    {
     "data": {
      "text/plain": [
       "<matplotlib.axes._subplots.AxesSubplot at 0x1a170344a8>"
      ]
     },
     "execution_count": 7,
     "metadata": {},
     "output_type": "execute_result"
    }
   ],
   "source": [
    "# Instantiate the clustering model and visualizer\n",
    "from yellowbrick.cluster import KElbowVisualizer\n",
    "\n",
    "model = KMeans()\n",
    "visualizer = KElbowVisualizer(model,\n",
    "                              k=(2,10),\n",
    "                              metric='silhouette', \n",
    "                              timings=False, \n",
    "                              locate_elbow=True)\n",
    "\n",
    "visualizer.fit(X_train_sscaled)        # Fit the data to the visualizer\n",
    "visualizer.show()        # Finalize and render the figure"
   ]
  },
  {
   "cell_type": "markdown",
   "metadata": {},
   "source": [
    "#### Calinski Harabaz Scores"
   ]
  },
  {
   "cell_type": "markdown",
   "metadata": {},
   "source": [
    "Calinski Harabaz Scores: (evaluates cluster fitness, also called variance ratio) evaluates variance of points in a cluster\n",
    "- want intra-cluster variance to be low (suggesting that the clusters are tightly knit) \n",
    "- want inter-cluster variance to be high (suggesting that there is little to no ambiguity about which cluster the points belong to)\n",
    "- the higher the score, the better the fit / better defined clusters\n",
    "\n",
    "\n",
    "Elbow Plot: \n",
    "- higher scores aren't always better\n",
    "- higher values of K introduce more overall complexity\n",
    "- we choose the elbow because after it, the metric we are trying to optimize for gets better at a much slower rate (dealing with more clusters when fit is only slightly better isn't worth it)"
   ]
  },
  {
   "cell_type": "code",
   "execution_count": null,
   "metadata": {},
   "outputs": [],
   "source": [
    "#[157264.94, 151618.03, 165799.13, 171269.48, 204699.19, 228311.27, 251683.24, 301895.15, 331618.48]\n",
    "calinski_harabasz_scores = [ch_sc_3, \n",
    "                            ch_sc_4, \n",
    "                            ch_sc_5, \n",
    "                            ch_sc_6, \n",
    "                            ch_sc_10, \n",
    "                            ch_sc_15, \n",
    "                            ch_sc_20, \n",
    "                            ch_sc_50, \n",
    "                            ch_sc_100]\n",
    "calinski_harabasz_scores"
   ]
  },
  {
   "cell_type": "code",
   "execution_count": 93,
   "metadata": {
    "ExecuteTime": {
     "end_time": "2019-11-20T05:36:14.954386Z",
     "start_time": "2019-11-20T05:36:14.824001Z"
    },
    "scrolled": true
   },
   "outputs": [
    {
     "data": {
      "image/png": "[encoded data removed]",
      "text/plain": [
       "<Figure size 432x288 with 1 Axes>"
      ]
     },
     "metadata": {
      "needs_background": "light"
     },
     "output_type": "display_data"
    }
   ],
   "source": [
    "plt.plot(k_values, calinski_harabasz_scores)\n",
    "plt.xticks(k_values)\n",
    "plt.title(\"Calinski Harabaz Scores for Different Values of K\")\n",
    "plt.ylabel(\"Variance Ratio\")\n",
    "plt.xlabel(\"K=\")\n",
    "plt.show()"
   ]
  },
  {
   "cell_type": "code",
   "execution_count": 6,
   "metadata": {
    "ExecuteTime": {
     "end_time": "2019-11-20T16:59:21.460712Z",
     "start_time": "2019-11-20T16:57:48.827265Z"
    }
   },
   "outputs": [
    {
     "data": {
      "image/png": "[encoded data removed]",
      "text/plain": [
       "<Figure size 576x396 with 1 Axes>"
      ]
     },
     "metadata": {},
     "output_type": "display_data"
    },
    {
     "data": {
      "text/plain": [
       "<matplotlib.axes._subplots.AxesSubplot at 0x1a16d3b7b8>"
      ]
     },
     "execution_count": 6,
     "metadata": {},
     "output_type": "execute_result"
    }
   ],
   "source": [
    "# Instantiate the clustering model and visualizer\n",
    "from yellowbrick.cluster import KElbowVisualizer\n",
    "\n",
    "model = KMeans()\n",
    "visualizer = KElbowVisualizer(model, k=(2,10), metric='calinski_harabasz', timings=False, locate_elbow=True)\n",
    "\n",
    "visualizer.fit(X_train_sscaled)        # Fit the data to the visualizer\n",
    "visualizer.show()        # Finalize and render the figure"
   ]
  },
  {
   "cell_type": "markdown",
   "metadata": {},
   "source": [
    "## K-Means (MinMax Scaler)"
   ]
  },
  {
   "cell_type": "markdown",
   "metadata": {},
   "source": [
    "### K=3"
   ]
  },
  {
   "cell_type": "code",
   "execution_count": 94,
   "metadata": {
    "ExecuteTime": {
     "end_time": "2019-11-20T04:05:54.095808Z",
     "start_time": "2019-11-20T04:05:50.488965Z"
    }
   },
   "outputs": [],
   "source": [
    "# K-Means in SKLearn\n",
    "k_means_3 = KMeans(n_clusters=3)\n",
    "k_means_3.fit(X_train_mmscaled)\n",
    "yhat_3 = k_means_3.predict(X_train_mmscaled)"
   ]
  },
  {
   "cell_type": "code",
   "execution_count": 95,
   "metadata": {
    "ExecuteTime": {
     "end_time": "2019-11-20T04:14:17.536756Z",
     "start_time": "2019-11-20T04:05:54.097853Z"
    }
   },
   "outputs": [
    {
     "data": {
      "text/plain": [
       "0.21253858991563226"
      ]
     },
     "execution_count": 95,
     "metadata": {},
     "output_type": "execute_result"
    }
   ],
   "source": [
    "# Silhouette Score\n",
    "#labels_3 = k_means_3.labels_\n",
    "sil_sc_3 = silhouette_score(X_train_mmscaled, yhat_3, metric='euclidean')\n",
    "sil_sc_3"
   ]
  },
  {
   "cell_type": "code",
   "execution_count": 96,
   "metadata": {
    "ExecuteTime": {
     "end_time": "2019-11-20T04:14:17.616900Z",
     "start_time": "2019-11-20T04:14:17.538631Z"
    },
    "scrolled": true
   },
   "outputs": [
    {
     "data": {
      "text/plain": [
       "52094.04786468934"
      ]
     },
     "execution_count": 96,
     "metadata": {},
     "output_type": "execute_result"
    }
   ],
   "source": [
    "# Calinski Harabasz Score\n",
    "ch_sc_3 = calinski_harabasz_score(X_train_mmscaled, yhat_3)\n",
    "ch_sc_3"
   ]
  },
  {
   "cell_type": "markdown",
   "metadata": {},
   "source": [
    "### K=4"
   ]
  },
  {
   "cell_type": "code",
   "execution_count": 97,
   "metadata": {
    "ExecuteTime": {
     "end_time": "2019-11-20T04:14:23.422304Z",
     "start_time": "2019-11-20T04:14:17.619015Z"
    }
   },
   "outputs": [],
   "source": [
    "# K-Means in SKLearn\n",
    "k_means_4 = KMeans(n_clusters=4)\n",
    "k_means_4.fit(X_train_mmscaled)\n",
    "yhat_4 = k_means_4.predict(X_train_mmscaled)"
   ]
  },
  {
   "cell_type": "code",
   "execution_count": 98,
   "metadata": {
    "ExecuteTime": {
     "end_time": "2019-11-20T04:22:35.541708Z",
     "start_time": "2019-11-20T04:14:23.424305Z"
    }
   },
   "outputs": [
    {
     "data": {
      "text/plain": [
       "0.18594690842473538"
      ]
     },
     "execution_count": 98,
     "metadata": {},
     "output_type": "execute_result"
    }
   ],
   "source": [
    "# Silhouette Score\n",
    "#labels_4 = k_means_4.labels_\n",
    "sil_sc_4 = silhouette_score(X_train_mmscaled, yhat_4, metric='euclidean')\n",
    "sil_sc_4"
   ]
  },
  {
   "cell_type": "code",
   "execution_count": 99,
   "metadata": {
    "ExecuteTime": {
     "end_time": "2019-11-20T04:22:35.632650Z",
     "start_time": "2019-11-20T04:22:35.543753Z"
    }
   },
   "outputs": [
    {
     "data": {
      "text/plain": [
       "44309.8644439604"
      ]
     },
     "execution_count": 99,
     "metadata": {},
     "output_type": "execute_result"
    }
   ],
   "source": [
    "# Calinski Harabasz Score\n",
    "ch_sc_4 = calinski_harabasz_score(X_train_mmscaled, yhat_4)\n",
    "ch_sc_4"
   ]
  },
  {
   "cell_type": "markdown",
   "metadata": {},
   "source": [
    "### K=5"
   ]
  },
  {
   "cell_type": "code",
   "execution_count": 100,
   "metadata": {
    "ExecuteTime": {
     "end_time": "2019-11-20T04:22:41.297064Z",
     "start_time": "2019-11-20T04:22:35.634867Z"
    }
   },
   "outputs": [],
   "source": [
    "# K-Means in SKLearn\n",
    "k_means_5 = KMeans(n_clusters=5)\n",
    "k_means_5.fit(X_train_mmscaled)\n",
    "yhat_5 = k_means_5.predict(X_train_mmscaled)"
   ]
  },
  {
   "cell_type": "code",
   "execution_count": 101,
   "metadata": {
    "ExecuteTime": {
     "end_time": "2019-11-20T04:30:41.795821Z",
     "start_time": "2019-11-20T04:22:41.299050Z"
    }
   },
   "outputs": [
    {
     "data": {
      "text/plain": [
       "0.15184148892035973"
      ]
     },
     "execution_count": 101,
     "metadata": {},
     "output_type": "execute_result"
    }
   ],
   "source": [
    "# Silhouette Score\n",
    "#labels_5 = k_means_5.labels_\n",
    "sil_sc_5 = silhouette_score(X_train_mmscaled, yhat_5, metric='euclidean')\n",
    "sil_sc_5"
   ]
  },
  {
   "cell_type": "code",
   "execution_count": 102,
   "metadata": {
    "ExecuteTime": {
     "end_time": "2019-11-20T04:30:41.888058Z",
     "start_time": "2019-11-20T04:30:41.797906Z"
    }
   },
   "outputs": [
    {
     "data": {
      "text/plain": [
       "38863.363060324664"
      ]
     },
     "execution_count": 102,
     "metadata": {},
     "output_type": "execute_result"
    }
   ],
   "source": [
    "# Calinski Harabasz Score\n",
    "ch_sc_5 = calinski_harabasz_score(X_train_mmscaled, yhat_5)\n",
    "ch_sc_5"
   ]
  },
  {
   "cell_type": "markdown",
   "metadata": {},
   "source": [
    "### K=6"
   ]
  },
  {
   "cell_type": "code",
   "execution_count": 103,
   "metadata": {
    "ExecuteTime": {
     "end_time": "2019-11-20T04:30:49.799135Z",
     "start_time": "2019-11-20T04:30:41.889980Z"
    }
   },
   "outputs": [],
   "source": [
    "# K-Means in SKLearn\n",
    "k_means_6 = KMeans(n_clusters=6)\n",
    "k_means_6.fit(X_train_mmscaled)\n",
    "yhat_6 = k_means_6.predict(X_train_mmscaled)"
   ]
  },
  {
   "cell_type": "code",
   "execution_count": 104,
   "metadata": {
    "ExecuteTime": {
     "end_time": "2019-11-20T04:38:49.628432Z",
     "start_time": "2019-11-20T04:30:49.800837Z"
    }
   },
   "outputs": [
    {
     "data": {
      "text/plain": [
       "0.15553311520404833"
      ]
     },
     "execution_count": 104,
     "metadata": {},
     "output_type": "execute_result"
    }
   ],
   "source": [
    "# Silhouette Score\n",
    "#labels_6 = k_means_6.labels_\n",
    "sil_sc_6 = silhouette_score(X_train_mmscaled, yhat_6, metric='euclidean')\n",
    "sil_sc_6"
   ]
  },
  {
   "cell_type": "code",
   "execution_count": 105,
   "metadata": {
    "ExecuteTime": {
     "end_time": "2019-11-20T04:38:49.706911Z",
     "start_time": "2019-11-20T04:38:49.630539Z"
    }
   },
   "outputs": [
    {
     "data": {
      "text/plain": [
       "35459.59100896072"
      ]
     },
     "execution_count": 105,
     "metadata": {},
     "output_type": "execute_result"
    }
   ],
   "source": [
    "# Calinski Harabasz Score\n",
    "ch_sc_6 = calinski_harabasz_score(X_train_mmscaled, yhat_6)\n",
    "ch_sc_6"
   ]
  },
  {
   "cell_type": "markdown",
   "metadata": {},
   "source": [
    "### K=10"
   ]
  },
  {
   "cell_type": "code",
   "execution_count": 106,
   "metadata": {
    "ExecuteTime": {
     "end_time": "2019-11-20T04:39:10.758632Z",
     "start_time": "2019-11-20T04:38:49.708983Z"
    }
   },
   "outputs": [],
   "source": [
    "# K-Means in SKLearn\n",
    "k_means_10 = KMeans(n_clusters=10)\n",
    "k_means_10.fit(X_train_mmscaled)\n",
    "yhat_10 = k_means_10.predict(X_train_mmscaled)"
   ]
  },
  {
   "cell_type": "code",
   "execution_count": 107,
   "metadata": {
    "ExecuteTime": {
     "end_time": "2019-11-20T04:47:08.703694Z",
     "start_time": "2019-11-20T04:39:10.760546Z"
    }
   },
   "outputs": [
    {
     "data": {
      "text/plain": [
       "0.1336821909848409"
      ]
     },
     "execution_count": 107,
     "metadata": {},
     "output_type": "execute_result"
    }
   ],
   "source": [
    "# Silhouette Score\n",
    "#labels_10 = k_means_10.labels_\n",
    "sil_sc_10 = silhouette_score(X_train_mmscaled, yhat_10, metric='euclidean')\n",
    "sil_sc_10"
   ]
  },
  {
   "cell_type": "code",
   "execution_count": 108,
   "metadata": {
    "ExecuteTime": {
     "end_time": "2019-11-20T04:47:08.792120Z",
     "start_time": "2019-11-20T04:47:08.705866Z"
    }
   },
   "outputs": [
    {
     "data": {
      "text/plain": [
       "26596.621704921276"
      ]
     },
     "execution_count": 108,
     "metadata": {},
     "output_type": "execute_result"
    }
   ],
   "source": [
    "# Calinski Harabasz Score\n",
    "ch_sc_10 = calinski_harabasz_score(X_train_mmscaled, yhat_10)\n",
    "ch_sc_10"
   ]
  },
  {
   "cell_type": "markdown",
   "metadata": {},
   "source": [
    "### K=15"
   ]
  },
  {
   "cell_type": "code",
   "execution_count": 109,
   "metadata": {
    "ExecuteTime": {
     "end_time": "2019-11-20T04:47:46.062148Z",
     "start_time": "2019-11-20T04:47:08.794266Z"
    }
   },
   "outputs": [],
   "source": [
    "# K-Means in SKLearn\n",
    "k_means_15 = KMeans(n_clusters=15)\n",
    "k_means_15.fit(X_train_mmscaled)\n",
    "yhat_15 = k_means_15.predict(X_train_mmscaled)"
   ]
  },
  {
   "cell_type": "code",
   "execution_count": 110,
   "metadata": {
    "ExecuteTime": {
     "end_time": "2019-11-20T04:55:44.255757Z",
     "start_time": "2019-11-20T04:47:46.063921Z"
    }
   },
   "outputs": [
    {
     "data": {
      "text/plain": [
       "0.12316657442872768"
      ]
     },
     "execution_count": 110,
     "metadata": {},
     "output_type": "execute_result"
    }
   ],
   "source": [
    "# Silhouette Score\n",
    "#labels_15 = k_means_15.labels_\n",
    "sil_sc_15 = silhouette_score(X_train_mmscaled, yhat_15, metric='euclidean')\n",
    "sil_sc_15"
   ]
  },
  {
   "cell_type": "code",
   "execution_count": 111,
   "metadata": {
    "ExecuteTime": {
     "end_time": "2019-11-20T04:55:44.351448Z",
     "start_time": "2019-11-20T04:55:44.257858Z"
    }
   },
   "outputs": [
    {
     "data": {
      "text/plain": [
       "20805.688951664248"
      ]
     },
     "execution_count": 111,
     "metadata": {},
     "output_type": "execute_result"
    }
   ],
   "source": [
    "# Calinski Harabasz Score\n",
    "ch_sc_15 = calinski_harabasz_score(X_train_mmscaled, yhat_15)\n",
    "ch_sc_15"
   ]
  },
  {
   "cell_type": "markdown",
   "metadata": {},
   "source": [
    "### K=20"
   ]
  },
  {
   "cell_type": "code",
   "execution_count": 112,
   "metadata": {
    "ExecuteTime": {
     "end_time": "2019-11-20T04:56:40.455219Z",
     "start_time": "2019-11-20T04:55:44.353519Z"
    }
   },
   "outputs": [],
   "source": [
    "# K-Means in SKLearn\n",
    "k_means_20 = KMeans(n_clusters=20)\n",
    "k_means_20.fit(X_train_mmscaled)\n",
    "yhat_20 = k_means_20.predict(X_train_mmscaled)"
   ]
  },
  {
   "cell_type": "code",
   "execution_count": 113,
   "metadata": {
    "ExecuteTime": {
     "end_time": "2019-11-20T05:04:39.756242Z",
     "start_time": "2019-11-20T04:56:40.456953Z"
    }
   },
   "outputs": [
    {
     "data": {
      "text/plain": [
       "0.11921511962943747"
      ]
     },
     "execution_count": 113,
     "metadata": {},
     "output_type": "execute_result"
    }
   ],
   "source": [
    "# Silhouette Score\n",
    "#labels_20 = k_means_20.labels_\n",
    "sil_sc_20 = silhouette_score(X_train_mmscaled, yhat_20, metric='euclidean')\n",
    "sil_sc_20"
   ]
  },
  {
   "cell_type": "code",
   "execution_count": 114,
   "metadata": {
    "ExecuteTime": {
     "end_time": "2019-11-20T05:04:39.846584Z",
     "start_time": "2019-11-20T05:04:39.758391Z"
    }
   },
   "outputs": [
    {
     "data": {
      "text/plain": [
       "17363.319317062753"
      ]
     },
     "execution_count": 114,
     "metadata": {},
     "output_type": "execute_result"
    }
   ],
   "source": [
    "# Calinski Harabasz Score\n",
    "ch_sc_20 = calinski_harabasz_score(X_train_mmscaled, yhat_20)\n",
    "ch_sc_20"
   ]
  },
  {
   "cell_type": "markdown",
   "metadata": {},
   "source": [
    "### K=50"
   ]
  },
  {
   "cell_type": "code",
   "execution_count": 115,
   "metadata": {
    "ExecuteTime": {
     "end_time": "2019-11-20T05:09:06.072205Z",
     "start_time": "2019-11-20T05:04:39.848352Z"
    }
   },
   "outputs": [],
   "source": [
    "# K-Means in SKLearn\n",
    "k_means_50 = KMeans(n_clusters=50)\n",
    "k_means_50.fit(X_train_mmscaled)\n",
    "yhat_50 = k_means_50.predict(X_train_mmscaled)"
   ]
  },
  {
   "cell_type": "code",
   "execution_count": 116,
   "metadata": {
    "ExecuteTime": {
     "end_time": "2019-11-20T05:17:06.594656Z",
     "start_time": "2019-11-20T05:09:06.074248Z"
    }
   },
   "outputs": [
    {
     "data": {
      "text/plain": [
       "0.09576948346140832"
      ]
     },
     "execution_count": 116,
     "metadata": {},
     "output_type": "execute_result"
    }
   ],
   "source": [
    "# Silhouette Score\n",
    "#labels_50 = k_means_50.labels_\n",
    "sil_sc_50 = silhouette_score(X_train_mmscaled, yhat_50, metric='euclidean')\n",
    "sil_sc_50"
   ]
  },
  {
   "cell_type": "code",
   "execution_count": 117,
   "metadata": {
    "ExecuteTime": {
     "end_time": "2019-11-20T05:17:06.706003Z",
     "start_time": "2019-11-20T05:17:06.596803Z"
    }
   },
   "outputs": [
    {
     "data": {
      "text/plain": [
       "9541.047844519437"
      ]
     },
     "execution_count": 117,
     "metadata": {},
     "output_type": "execute_result"
    }
   ],
   "source": [
    "# Calinski Harabasz Score\n",
    "ch_sc_50 = calinski_harabasz_score(X_train_mmscaled, yhat_50)\n",
    "ch_sc_50"
   ]
  },
  {
   "cell_type": "markdown",
   "metadata": {},
   "source": [
    "### K=100"
   ]
  },
  {
   "cell_type": "code",
   "execution_count": 118,
   "metadata": {
    "ExecuteTime": {
     "end_time": "2019-11-20T05:28:17.655061Z",
     "start_time": "2019-11-20T05:17:06.707796Z"
    }
   },
   "outputs": [],
   "source": [
    "# K-Means in SKLearn\n",
    "k_means_100 = KMeans(n_clusters=100)\n",
    "k_means_100.fit(X_train_mmscaled)\n",
    "yhat_100 = k_means_100.predict(X_train_mmscaled)"
   ]
  },
  {
   "cell_type": "code",
   "execution_count": 119,
   "metadata": {
    "ExecuteTime": {
     "end_time": "2019-11-20T05:36:14.500008Z",
     "start_time": "2019-11-20T05:28:17.656851Z"
    }
   },
   "outputs": [
    {
     "data": {
      "text/plain": [
       "0.08377897770878531"
      ]
     },
     "execution_count": 119,
     "metadata": {},
     "output_type": "execute_result"
    }
   ],
   "source": [
    "# Silhouette Score\n",
    "#labels_100 = k_means_100.labels_\n",
    "sil_sc_100 = silhouette_score(X_train_mmscaled, yhat_100, metric='euclidean')\n",
    "sil_sc_100"
   ]
  },
  {
   "cell_type": "code",
   "execution_count": 120,
   "metadata": {
    "ExecuteTime": {
     "end_time": "2019-11-20T05:36:14.648453Z",
     "start_time": "2019-11-20T05:36:14.502297Z"
    }
   },
   "outputs": [
    {
     "data": {
      "text/plain": [
       "5889.281936999195"
      ]
     },
     "execution_count": 120,
     "metadata": {},
     "output_type": "execute_result"
    }
   ],
   "source": [
    "# Calinski Harabasz Score\n",
    "ch_sc_100 = calinski_harabasz_score(X_train_mmscaled, yhat_100)\n",
    "ch_sc_100"
   ]
  },
  {
   "cell_type": "code",
   "execution_count": null,
   "metadata": {
    "ExecuteTime": {
     "start_time": "2019-11-20T18:57:13.266Z"
    }
   },
   "outputs": [],
   "source": [
    "# Instantiate the clustering model and visualizer\n",
    "from yellowbrick.cluster import KElbowVisualizer\n",
    "\n",
    "model = KMeans()\n",
    "visualizer = KElbowVisualizer(model,\n",
    "                              k=(2,11),\n",
    "                              metric='silhouette', \n",
    "                              timings=False, \n",
    "                              locate_elbow=True)\n",
    "\n",
    "visualizer.fit(X_train_mmscaled)        # Fit the data to the visualizer\n",
    "visualizer.show()        # Finalize and render the figure"
   ]
  },
  {
   "cell_type": "code",
   "execution_count": null,
   "metadata": {},
   "outputs": [],
   "source": []
  },
  {
   "cell_type": "markdown",
   "metadata": {},
   "source": [
    "## K-Means (PCA)"
   ]
  },
  {
   "cell_type": "code",
   "execution_count": null,
   "metadata": {},
   "outputs": [],
   "source": [
    "# 6. Incorporating PCA\n",
    "from sklearn.decomposition import PCA\n",
    "pca = PCA(n_components=4)\n",
    "X_train_sscaled_pca = pca.fit_transform(X_train_sscaled)\n",
    "\n",
    "\n",
    "pca_k_means = KMeans(n_clusters=2)\n",
    "pca_k_means.fit(pca_X)\n",
    "pca_preds = pca_k_means.predict(pca_X)\n",
    "\n",
    "adjusted_rand_score(channels, pca_preds)"
   ]
  },
  {
   "cell_type": "markdown",
   "metadata": {},
   "source": [
    "### K=3"
   ]
  },
  {
   "cell_type": "code",
   "execution_count": 94,
   "metadata": {
    "ExecuteTime": {
     "end_time": "2019-11-20T04:05:54.095808Z",
     "start_time": "2019-11-20T04:05:50.488965Z"
    }
   },
   "outputs": [],
   "source": [
    "# K-Means in SKLearn\n",
    "k_means_3_pca = KMeans(n_clusters=3)\n",
    "k_means_3_pca.fit(X_train_sscaled_pca)\n",
    "yhat_3_pca = k_means_3_pca.predict(X_train_sscaled_pca)"
   ]
  },
  {
   "cell_type": "code",
   "execution_count": 95,
   "metadata": {
    "ExecuteTime": {
     "end_time": "2019-11-20T04:14:17.536756Z",
     "start_time": "2019-11-20T04:05:54.097853Z"
    }
   },
   "outputs": [
    {
     "data": {
      "text/plain": [
       "0.21253858991563226"
      ]
     },
     "execution_count": 95,
     "metadata": {},
     "output_type": "execute_result"
    }
   ],
   "source": [
    "# Silhouette Score\n",
    "#labels_3 = k_means_3.labels_\n",
    "sil_sc_3 = silhouette_score(X_train_sscaled_pca, yhat_3_pca, metric='euclidean')\n",
    "sil_sc_3"
   ]
  },
  {
   "cell_type": "code",
   "execution_count": 96,
   "metadata": {
    "ExecuteTime": {
     "end_time": "2019-11-20T04:14:17.616900Z",
     "start_time": "2019-11-20T04:14:17.538631Z"
    },
    "scrolled": true
   },
   "outputs": [
    {
     "data": {
      "text/plain": [
       "52094.04786468934"
      ]
     },
     "execution_count": 96,
     "metadata": {},
     "output_type": "execute_result"
    }
   ],
   "source": [
    "# Calinski Harabasz Score\n",
    "ch_sc_3 = calinski_harabasz_score(X_train_mmscaled, yhat_3)\n",
    "ch_sc_3"
   ]
  },
  {
   "cell_type": "markdown",
   "metadata": {},
   "source": [
    "### K=4"
   ]
  },
  {
   "cell_type": "code",
   "execution_count": 97,
   "metadata": {
    "ExecuteTime": {
     "end_time": "2019-11-20T04:14:23.422304Z",
     "start_time": "2019-11-20T04:14:17.619015Z"
    }
   },
   "outputs": [],
   "source": [
    "# K-Means in SKLearn\n",
    "k_means_4 = KMeans(n_clusters=4)\n",
    "k_means_4.fit(X_train_mmscaled)\n",
    "yhat_4 = k_means_4.predict(X_train_mmscaled)"
   ]
  },
  {
   "cell_type": "code",
   "execution_count": 98,
   "metadata": {
    "ExecuteTime": {
     "end_time": "2019-11-20T04:22:35.541708Z",
     "start_time": "2019-11-20T04:14:23.424305Z"
    }
   },
   "outputs": [
    {
     "data": {
      "text/plain": [
       "0.18594690842473538"
      ]
     },
     "execution_count": 98,
     "metadata": {},
     "output_type": "execute_result"
    }
   ],
   "source": [
    "# Silhouette Score\n",
    "#labels_4 = k_means_4.labels_\n",
    "sil_sc_4 = silhouette_score(X_train_mmscaled, yhat_4, metric='euclidean')\n",
    "sil_sc_4"
   ]
  },
  {
   "cell_type": "code",
   "execution_count": 99,
   "metadata": {
    "ExecuteTime": {
     "end_time": "2019-11-20T04:22:35.632650Z",
     "start_time": "2019-11-20T04:22:35.543753Z"
    }
   },
   "outputs": [
    {
     "data": {
      "text/plain": [
       "44309.8644439604"
      ]
     },
     "execution_count": 99,
     "metadata": {},
     "output_type": "execute_result"
    }
   ],
   "source": [
    "# Calinski Harabasz Score\n",
    "ch_sc_4 = calinski_harabasz_score(X_train_mmscaled, yhat_4)\n",
    "ch_sc_4"
   ]
  },
  {
   "cell_type": "markdown",
   "metadata": {},
   "source": [
    "### K=5"
   ]
  },
  {
   "cell_type": "code",
   "execution_count": 100,
   "metadata": {
    "ExecuteTime": {
     "end_time": "2019-11-20T04:22:41.297064Z",
     "start_time": "2019-11-20T04:22:35.634867Z"
    }
   },
   "outputs": [],
   "source": [
    "# K-Means in SKLearn\n",
    "k_means_5 = KMeans(n_clusters=5)\n",
    "k_means_5.fit(X_train_mmscaled)\n",
    "yhat_5 = k_means_5.predict(X_train_mmscaled)"
   ]
  },
  {
   "cell_type": "code",
   "execution_count": 101,
   "metadata": {
    "ExecuteTime": {
     "end_time": "2019-11-20T04:30:41.795821Z",
     "start_time": "2019-11-20T04:22:41.299050Z"
    }
   },
   "outputs": [
    {
     "data": {
      "text/plain": [
       "0.15184148892035973"
      ]
     },
     "execution_count": 101,
     "metadata": {},
     "output_type": "execute_result"
    }
   ],
   "source": [
    "# Silhouette Score\n",
    "#labels_5 = k_means_5.labels_\n",
    "sil_sc_5 = silhouette_score(X_train_mmscaled, yhat_5, metric='euclidean')\n",
    "sil_sc_5"
   ]
  },
  {
   "cell_type": "code",
   "execution_count": 102,
   "metadata": {
    "ExecuteTime": {
     "end_time": "2019-11-20T04:30:41.888058Z",
     "start_time": "2019-11-20T04:30:41.797906Z"
    }
   },
   "outputs": [
    {
     "data": {
      "text/plain": [
       "38863.363060324664"
      ]
     },
     "execution_count": 102,
     "metadata": {},
     "output_type": "execute_result"
    }
   ],
   "source": [
    "# Calinski Harabasz Score\n",
    "ch_sc_5 = calinski_harabasz_score(X_train_mmscaled, yhat_5)\n",
    "ch_sc_5"
   ]
  },
  {
   "cell_type": "markdown",
   "metadata": {},
   "source": [
    "### K=6"
   ]
  },
  {
   "cell_type": "code",
   "execution_count": 103,
   "metadata": {
    "ExecuteTime": {
     "end_time": "2019-11-20T04:30:49.799135Z",
     "start_time": "2019-11-20T04:30:41.889980Z"
    }
   },
   "outputs": [],
   "source": [
    "# K-Means in SKLearn\n",
    "k_means_6 = KMeans(n_clusters=6)\n",
    "k_means_6.fit(X_train_mmscaled)\n",
    "yhat_6 = k_means_6.predict(X_train_mmscaled)"
   ]
  },
  {
   "cell_type": "code",
   "execution_count": 104,
   "metadata": {
    "ExecuteTime": {
     "end_time": "2019-11-20T04:38:49.628432Z",
     "start_time": "2019-11-20T04:30:49.800837Z"
    }
   },
   "outputs": [
    {
     "data": {
      "text/plain": [
       "0.15553311520404833"
      ]
     },
     "execution_count": 104,
     "metadata": {},
     "output_type": "execute_result"
    }
   ],
   "source": [
    "# Silhouette Score\n",
    "#labels_6 = k_means_6.labels_\n",
    "sil_sc_6 = silhouette_score(X_train_mmscaled, yhat_6, metric='euclidean')\n",
    "sil_sc_6"
   ]
  },
  {
   "cell_type": "code",
   "execution_count": 105,
   "metadata": {
    "ExecuteTime": {
     "end_time": "2019-11-20T04:38:49.706911Z",
     "start_time": "2019-11-20T04:38:49.630539Z"
    }
   },
   "outputs": [
    {
     "data": {
      "text/plain": [
       "35459.59100896072"
      ]
     },
     "execution_count": 105,
     "metadata": {},
     "output_type": "execute_result"
    }
   ],
   "source": [
    "# Calinski Harabasz Score\n",
    "ch_sc_6 = calinski_harabasz_score(X_train_mmscaled, yhat_6)\n",
    "ch_sc_6"
   ]
  },
  {
   "cell_type": "markdown",
   "metadata": {},
   "source": [
    "### K=10"
   ]
  },
  {
   "cell_type": "code",
   "execution_count": 106,
   "metadata": {
    "ExecuteTime": {
     "end_time": "2019-11-20T04:39:10.758632Z",
     "start_time": "2019-11-20T04:38:49.708983Z"
    }
   },
   "outputs": [],
   "source": [
    "# K-Means in SKLearn\n",
    "k_means_10 = KMeans(n_clusters=10)\n",
    "k_means_10.fit(X_train_mmscaled)\n",
    "yhat_10 = k_means_10.predict(X_train_mmscaled)"
   ]
  },
  {
   "cell_type": "code",
   "execution_count": 107,
   "metadata": {
    "ExecuteTime": {
     "end_time": "2019-11-20T04:47:08.703694Z",
     "start_time": "2019-11-20T04:39:10.760546Z"
    }
   },
   "outputs": [
    {
     "data": {
      "text/plain": [
       "0.1336821909848409"
      ]
     },
     "execution_count": 107,
     "metadata": {},
     "output_type": "execute_result"
    }
   ],
   "source": [
    "# Silhouette Score\n",
    "#labels_10 = k_means_10.labels_\n",
    "sil_sc_10 = silhouette_score(X_train_mmscaled, yhat_10, metric='euclidean')\n",
    "sil_sc_10"
   ]
  },
  {
   "cell_type": "code",
   "execution_count": 108,
   "metadata": {
    "ExecuteTime": {
     "end_time": "2019-11-20T04:47:08.792120Z",
     "start_time": "2019-11-20T04:47:08.705866Z"
    }
   },
   "outputs": [
    {
     "data": {
      "text/plain": [
       "26596.621704921276"
      ]
     },
     "execution_count": 108,
     "metadata": {},
     "output_type": "execute_result"
    }
   ],
   "source": [
    "# Calinski Harabasz Score\n",
    "ch_sc_10 = calinski_harabasz_score(X_train_mmscaled, yhat_10)\n",
    "ch_sc_10"
   ]
  },
  {
   "cell_type": "markdown",
   "metadata": {},
   "source": [
    "### K=15"
   ]
  },
  {
   "cell_type": "code",
   "execution_count": 109,
   "metadata": {
    "ExecuteTime": {
     "end_time": "2019-11-20T04:47:46.062148Z",
     "start_time": "2019-11-20T04:47:08.794266Z"
    }
   },
   "outputs": [],
   "source": [
    "# K-Means in SKLearn\n",
    "k_means_15 = KMeans(n_clusters=15)\n",
    "k_means_15.fit(X_train_mmscaled)\n",
    "yhat_15 = k_means_15.predict(X_train_mmscaled)"
   ]
  },
  {
   "cell_type": "code",
   "execution_count": 110,
   "metadata": {
    "ExecuteTime": {
     "end_time": "2019-11-20T04:55:44.255757Z",
     "start_time": "2019-11-20T04:47:46.063921Z"
    }
   },
   "outputs": [
    {
     "data": {
      "text/plain": [
       "0.12316657442872768"
      ]
     },
     "execution_count": 110,
     "metadata": {},
     "output_type": "execute_result"
    }
   ],
   "source": [
    "# Silhouette Score\n",
    "#labels_15 = k_means_15.labels_\n",
    "sil_sc_15 = silhouette_score(X_train_mmscaled, yhat_15, metric='euclidean')\n",
    "sil_sc_15"
   ]
  },
  {
   "cell_type": "code",
   "execution_count": 111,
   "metadata": {
    "ExecuteTime": {
     "end_time": "2019-11-20T04:55:44.351448Z",
     "start_time": "2019-11-20T04:55:44.257858Z"
    }
   },
   "outputs": [
    {
     "data": {
      "text/plain": [
       "20805.688951664248"
      ]
     },
     "execution_count": 111,
     "metadata": {},
     "output_type": "execute_result"
    }
   ],
   "source": [
    "# Calinski Harabasz Score\n",
    "ch_sc_15 = calinski_harabasz_score(X_train_mmscaled, yhat_15)\n",
    "ch_sc_15"
   ]
  },
  {
   "cell_type": "markdown",
   "metadata": {},
   "source": [
    "### K=20"
   ]
  },
  {
   "cell_type": "code",
   "execution_count": 112,
   "metadata": {
    "ExecuteTime": {
     "end_time": "2019-11-20T04:56:40.455219Z",
     "start_time": "2019-11-20T04:55:44.353519Z"
    }
   },
   "outputs": [],
   "source": [
    "# K-Means in SKLearn\n",
    "k_means_20 = KMeans(n_clusters=20)\n",
    "k_means_20.fit(X_train_mmscaled)\n",
    "yhat_20 = k_means_20.predict(X_train_mmscaled)"
   ]
  },
  {
   "cell_type": "code",
   "execution_count": 113,
   "metadata": {
    "ExecuteTime": {
     "end_time": "2019-11-20T05:04:39.756242Z",
     "start_time": "2019-11-20T04:56:40.456953Z"
    }
   },
   "outputs": [
    {
     "data": {
      "text/plain": [
       "0.11921511962943747"
      ]
     },
     "execution_count": 113,
     "metadata": {},
     "output_type": "execute_result"
    }
   ],
   "source": [
    "# Silhouette Score\n",
    "#labels_20 = k_means_20.labels_\n",
    "sil_sc_20 = silhouette_score(X_train_mmscaled, yhat_20, metric='euclidean')\n",
    "sil_sc_20"
   ]
  },
  {
   "cell_type": "code",
   "execution_count": 114,
   "metadata": {
    "ExecuteTime": {
     "end_time": "2019-11-20T05:04:39.846584Z",
     "start_time": "2019-11-20T05:04:39.758391Z"
    }
   },
   "outputs": [
    {
     "data": {
      "text/plain": [
       "17363.319317062753"
      ]
     },
     "execution_count": 114,
     "metadata": {},
     "output_type": "execute_result"
    }
   ],
   "source": [
    "# Calinski Harabasz Score\n",
    "ch_sc_20 = calinski_harabasz_score(X_train_mmscaled, yhat_20)\n",
    "ch_sc_20"
   ]
  },
  {
   "cell_type": "markdown",
   "metadata": {},
   "source": [
    "### Finding Optimal K"
   ]
  },
  {
   "cell_type": "code",
   "execution_count": 121,
   "metadata": {
    "ExecuteTime": {
     "end_time": "2019-11-20T05:36:14.653984Z",
     "start_time": "2019-11-20T05:36:14.650511Z"
    }
   },
   "outputs": [],
   "source": [
    "k_values = [3, 4, 5, 6, 10, 15, 20, 50, 100]"
   ]
  },
  {
   "cell_type": "code",
   "execution_count": 122,
   "metadata": {
    "ExecuteTime": {
     "end_time": "2019-11-20T05:36:14.664083Z",
     "start_time": "2019-11-20T05:36:14.656129Z"
    }
   },
   "outputs": [
    {
     "data": {
      "text/plain": [
       "[0.21253858991563226,\n",
       " 0.18594690842473538,\n",
       " 0.15184148892035973,\n",
       " 0.15553311520404833,\n",
       " 0.1336821909848409,\n",
       " 0.12316657442872768,\n",
       " 0.11921511962943747,\n",
       " 0.09576948346140832,\n",
       " 0.08377897770878531]"
      ]
     },
     "execution_count": 122,
     "metadata": {},
     "output_type": "execute_result"
    }
   ],
   "source": [
    "#[0.9612, 0.9489, 0.9012, 0.9006, 0.5011, 0.3503, 0.3282, 0.3012, 0.2986]\n",
    "silhouette_scores = [sil_sc_3, \n",
    "                     sil_sc_4, \n",
    "                     sil_sc_5, \n",
    "                     sil_sc_6, \n",
    "                     sil_sc_10, \n",
    "                     sil_sc_15, \n",
    "                     sil_sc_20, \n",
    "                     sil_sc_50, \n",
    "                     sil_sc_100]\n",
    "silhouette_scores"
   ]
  },
  {
   "cell_type": "code",
   "execution_count": 123,
   "metadata": {
    "ExecuteTime": {
     "end_time": "2019-11-20T05:36:14.672665Z",
     "start_time": "2019-11-20T05:36:14.666295Z"
    }
   },
   "outputs": [
    {
     "data": {
      "text/plain": [
       "[52094.04786468934,\n",
       " 44309.8644439604,\n",
       " 38863.363060324664,\n",
       " 35459.59100896072,\n",
       " 26596.621704921276,\n",
       " 20805.688951664248,\n",
       " 17363.319317062753,\n",
       " 9541.047844519437,\n",
       " 5889.281936999195]"
      ]
     },
     "execution_count": 123,
     "metadata": {},
     "output_type": "execute_result"
    }
   ],
   "source": [
    "#[157264.94, 151618.03, 165799.13, 171269.48, 204699.19, 228311.27, 251683.24, 301895.15, 331618.48]\n",
    "calinski_harabasz_scores = [ch_sc_3, \n",
    "                            ch_sc_4, \n",
    "                            ch_sc_5, \n",
    "                            ch_sc_6, \n",
    "                            ch_sc_10, \n",
    "                            ch_sc_15, \n",
    "                            ch_sc_20, \n",
    "                            ch_sc_50, \n",
    "                            ch_sc_100]\n",
    "calinski_harabasz_scores"
   ]
  },
  {
   "cell_type": "code",
   "execution_count": 124,
   "metadata": {
    "ExecuteTime": {
     "end_time": "2019-11-20T05:36:14.680527Z",
     "start_time": "2019-11-20T05:36:14.674877Z"
    }
   },
   "outputs": [
    {
     "data": {
      "text/plain": [
       "True"
      ]
     },
     "execution_count": 124,
     "metadata": {},
     "output_type": "execute_result"
    }
   ],
   "source": [
    "len(k_values) == len(silhouette_scores) == len(calinski_harabasz_scores)"
   ]
  },
  {
   "cell_type": "markdown",
   "metadata": {},
   "source": [
    "#### Elbow Plot: Silhouette Scores"
   ]
  },
  {
   "cell_type": "code",
   "execution_count": 125,
   "metadata": {
    "ExecuteTime": {
     "end_time": "2019-11-20T05:36:14.822263Z",
     "start_time": "2019-11-20T05:36:14.682755Z"
    },
    "cell_style": "center",
    "scrolled": true
   },
   "outputs": [
    {
     "data": {
      "image/png": "[encoded data removed]",
      "text/plain": [
       "<Figure size 432x288 with 1 Axes>"
      ]
     },
     "metadata": {
      "needs_background": "light"
     },
     "output_type": "display_data"
    }
   ],
   "source": [
    "plt.plot(k_values, silhouette_scores)\n",
    "plt.xticks(k_values)\n",
    "plt.title(\"Silhouette Scores for Different Values of K\")\n",
    "plt.ylabel(\"Silhouette Score\")\n",
    "plt.xlabel(\"K=\")\n",
    "plt.show()"
   ]
  },
  {
   "cell_type": "markdown",
   "metadata": {},
   "source": [
    "#### Elbow Plot: Calinski Harabaz Scores"
   ]
  },
  {
   "cell_type": "code",
   "execution_count": 126,
   "metadata": {
    "ExecuteTime": {
     "end_time": "2019-11-20T05:36:14.954386Z",
     "start_time": "2019-11-20T05:36:14.824001Z"
    }
   },
   "outputs": [
    {
     "data": {
      "image/png": "[encoded data removed]",
      "text/plain": [
       "<Figure size 432x288 with 1 Axes>"
      ]
     },
     "metadata": {
      "needs_background": "light"
     },
     "output_type": "display_data"
    }
   ],
   "source": [
    "plt.plot(k_values, calinski_harabasz_scores)\n",
    "plt.xticks(k_values)\n",
    "plt.title(\"Calinski Harabaz Scores for Different Values of K\")\n",
    "plt.ylabel(\"Variance Ratio\")\n",
    "plt.xlabel(\"K=\")\n",
    "plt.show()"
   ]
  },
  {
   "cell_type": "markdown",
   "metadata": {},
   "source": [
    "## BIC"
   ]
  },
  {
   "cell_type": "markdown",
   "metadata": {},
   "source": [
    "https://towardsdatascience.com/clustering-metrics-better-than-the-elbow-method-6926e1f723a6"
   ]
  },
  {
   "cell_type": "code",
   "execution_count": null,
   "metadata": {},
   "outputs": [],
   "source": []
  },
  {
   "cell_type": "markdown",
   "metadata": {},
   "source": [
    "## Pipeline"
   ]
  },
  {
   "cell_type": "code",
   "execution_count": null,
   "metadata": {},
   "outputs": [],
   "source": [
    "# Pipeline + GridSearchCV Example\n",
    "\n",
    "# Create the pipeline\n",
    "pipe = Pipeline([('scl', MinMaxScaler()),\n",
    "                ('pca', PCA(n_components=10)),\n",
    "                ('svm', svm.SVC(random_state=123))])\n",
    "\n",
    "# Create the grid parameter\n",
    "grid = [{'svm__kernel': ['poly', 'sigmoid'],\n",
    "         'svm__C': [0.01, 1, 100],\n",
    "         'svm__degree0': [2,3,4,5],\n",
    "         'svm__gamma': [0.001, 0.01]}]\n",
    "\n",
    "# Create the grid, with \"pipe\" as the estimator\n",
    "gridsearch = GridSearchCV(estimator=pipe,\n",
    "                  param_grid=grid,\n",
    "                  scoring='accuracy',\n",
    "                  cv=3)\n",
    "\n",
    "# Fit using grid search\n",
    "gridsearch.fit(X_train, y_train)"
   ]
  }
 ],
 "metadata": {
  "kernelspec": {
   "display_name": "Python 3",
   "language": "python",
   "name": "python3"
  },
  "language_info": {
   "codemirror_mode": {
    "name": "ipython",
    "version": 3
   },
   "file_extension": ".py",
   "mimetype": "text/x-python",
   "name": "python",
   "nbconvert_exporter": "python",
   "pygments_lexer": "ipython3",
   "version": "3.7.3"
  },
  "toc": {
   "base_numbering": 1,
   "nav_menu": {},
   "number_sections": true,
   "sideBar": true,
   "skip_h1_title": false,
   "title_cell": "Table of Contents",
   "title_sidebar": "Contents",
   "toc_cell": false,
   "toc_position": {
    "height": "calc(100% - 180px)",
    "left": "10px",
    "top": "150px",
    "width": "305.455px"
   },
   "toc_section_display": true,
   "toc_window_display": true
  }
 },
 "nbformat": 4,
 "nbformat_minor": 2
}
